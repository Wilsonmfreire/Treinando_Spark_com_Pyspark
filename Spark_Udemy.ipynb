{
  "nbformat": 4,
  "nbformat_minor": 0,
  "metadata": {
    "colab": {
      "name": "Spark Udemy",
      "provenance": [],
      "mount_file_id": "1pCcfL-__L6HDKKJKg0PoLcXU63S7sHqV",
      "authorship_tag": "ABX9TyNqh2tGC6tgDs8npPmOf+0v",
      "include_colab_link": true
    },
    "kernelspec": {
      "name": "python3",
      "display_name": "Python 3"
    },
    "language_info": {
      "name": "python"
    }
  },
  "cells": [
    {
      "cell_type": "markdown",
      "metadata": {
        "id": "view-in-github",
        "colab_type": "text"
      },
      "source": [
        "<a href=\"https://colab.research.google.com/github/Wilsonmfreire/Treinando_Spark_com_Pyspark/blob/main/Spark_Udemy.ipynb\" target=\"_parent\"><img src=\"https://colab.research.google.com/assets/colab-badge.svg\" alt=\"Open In Colab\"/></a>"
      ]
    },
    {
      "cell_type": "markdown",
      "source": [
        "##Principais configurações\n",
        "script para rodar pyspark\n"
      ],
      "metadata": {
        "id": "lVlZ57PkXoiG"
      }
    },
    {
      "cell_type": "code",
      "metadata": {
        "id": "rXEf2QJoZ8xK"
      },
      "source": [
        "#Instalando o Java\n",
        "!apt-get install openjdk-8-jdk-headless -qq >/dev/null"
      ],
      "execution_count": 69,
      "outputs": []
    },
    {
      "cell_type": "code",
      "metadata": {
        "id": "56PRwTjB_S-Z"
      },
      "source": [
        "#Baixar a versão mais recente do spark\n",
        "!wget -q https://dlcdn.apache.org/spark/spark-3.2.0/spark-3.2.0-bin-hadoop3.2.tgz"
      ],
      "execution_count": 70,
      "outputs": []
    },
    {
      "cell_type": "code",
      "metadata": {
        "id": "IqW-Q9xd_YVY"
      },
      "source": [
        "#Dezipar spark\n",
        "!tar xf /content/spark-3.2.0-bin-hadoop3.2.tgz"
      ],
      "execution_count": 71,
      "outputs": []
    },
    {
      "cell_type": "code",
      "metadata": {
        "id": "jcb2V4TZ_dqm"
      },
      "source": [
        "#Criar variável de ambiente\n",
        "import os\n",
        "os.environ[\"JAVA_HOME\"] = \"/usr/lib/jvm/java-8-openjdk-amd64/\"\n",
        "os.environ[\"SPARK_HOME\"] = \"/content/spark-3.2.0-bin-hadoop3.2/\""
      ],
      "execution_count": 72,
      "outputs": []
    },
    {
      "cell_type": "code",
      "metadata": {
        "id": "JmkFqKul_gtx"
      },
      "source": [
        "#instalar a lib findspark que ajuda a localizar o Spark no sistema e importá-lo como uma biblioteca regulgar\n",
        "!pip install -q findspark"
      ],
      "execution_count": 73,
      "outputs": []
    },
    {
      "cell_type": "code",
      "metadata": {
        "id": "DuHPp0Hb_gnv"
      },
      "source": [
        "#import a lib findspark\n",
        "import findspark\n",
        "findspark.init()"
      ],
      "execution_count": 74,
      "outputs": []
    },
    {
      "cell_type": "code",
      "source": [
        "#criar spark session\n",
        "\n",
        "from pyspark.sql import SparkSession\n",
        "from pyspark.sql.types import *\n",
        "from pyspark.sql import SQLContext\n",
        "from pyspark.sql.functions import  *\n",
        "from pyspark.sql import functions as Func\n",
        "\n",
        "spark = SparkSession.builder\\\n",
        "        .master('local')\\\n",
        "        .appName('sparkcolab')\\\n",
        "        .getOrCreate()"
      ],
      "metadata": {
        "id": "nB7IvgwyPS7K"
      },
      "execution_count": 75,
      "outputs": []
    },
    {
      "cell_type": "code",
      "metadata": {
        "id": "_RlUIDqj_sTm"
      },
      "source": [
        "#Upload de arquivos\n",
        "#from google.colab import files\n",
        "#arquivo = files.upload()"
      ],
      "execution_count": 76,
      "outputs": []
    },
    {
      "cell_type": "code",
      "metadata": {
        "colab": {
          "base_uri": "https://localhost:8080/"
        },
        "id": "c9eNXj7mAF0R",
        "outputId": "9b2731a2-d5ca-46dd-c161-7d4f7367dde3"
      },
      "source": [
        "!wget www.datascientist.com.br/bigdata/download.zip"
      ],
      "execution_count": 77,
      "outputs": [
        {
          "output_type": "stream",
          "name": "stdout",
          "text": [
            "--2021-12-14 10:41:42--  http://www.datascientist.com.br/bigdata/download.zip\n",
            "Resolving www.datascientist.com.br (www.datascientist.com.br)... 108.179.192.203\n",
            "Connecting to www.datascientist.com.br (www.datascientist.com.br)|108.179.192.203|:80... connected.\n",
            "HTTP request sent, awaiting response... 200 OK\n",
            "Length: 207452 (203K) [application/zip]\n",
            "Saving to: ‘download.zip’\n",
            "\n",
            "download.zip        100%[===================>] 202.59K  1.24MB/s    in 0.2s    \n",
            "\n",
            "2021-12-14 10:41:43 (1.24 MB/s) - ‘download.zip’ saved [207452/207452]\n",
            "\n"
          ]
        }
      ]
    },
    {
      "cell_type": "code",
      "metadata": {
        "colab": {
          "base_uri": "https://localhost:8080/"
        },
        "id": "tC8v7Z5MBPb0",
        "outputId": "04b47161-29fc-4ef6-a6ae-fed359e31183"
      },
      "source": [
        "!unzip /content/download.zip"
      ],
      "execution_count": 78,
      "outputs": [
        {
          "output_type": "stream",
          "name": "stdout",
          "text": [
            "Archive:  /content/download.zip\n",
            "   creating: download/Atividades/\n",
            "  inflating: download/Atividades/Clientes.parquet  \n",
            "  inflating: download/Atividades/ItensVendas.parquet  \n",
            "  inflating: download/Atividades/Produtos.parquet  \n",
            "  inflating: download/Atividades/Vendas.parquet  \n",
            "  inflating: download/Atividades/Vendedores.parquet  \n",
            "  inflating: download/Carros.csv     \n",
            "  inflating: download/Churn.csv      \n",
            "   creating: download/demo/\n",
            "  inflating: download/demo/1.CreateTable.sql  \n",
            "  inflating: download/demo/2.InsertClientes.sql  \n",
            "  inflating: download/demo/3.InsertIntoProdutos.sql  \n",
            "  inflating: download/demo/4.InsertIntoVendedores.sql  \n",
            "  inflating: download/demo/5.InsertIntoVendas.sql  \n",
            "  inflating: download/demo/6.InsertItensVenda.sql  \n",
            "  inflating: download/despachantes.csv  \n",
            "  inflating: download/iris.csv       \n",
            "   creating: download/mongo/\n",
            "  inflating: download/mongo/posts.json  \n",
            "  inflating: download/reclamacoes.csv  \n",
            "   creating: download/streaming/\n",
            "  inflating: download/streaming/1.json14.json  \n",
            "  inflating: download/streaming/2.json44.json  \n",
            "  inflating: download/streaming/3.json14.json  \n",
            "  inflating: download/streaming/4.json26.json  \n",
            "  inflating: download/streaming/5.json29.json  \n",
            "  inflating: download/streaming/6.json14.json  \n",
            "  inflating: download/streaming/7.json59.json  \n"
          ]
        }
      ]
    },
    {
      "cell_type": "markdown",
      "source": [
        "##Principais transformações\n",
        "DataFrames e RDDS"
      ],
      "metadata": {
        "id": "FJoUjPKKXXbX"
      }
    },
    {
      "cell_type": "code",
      "metadata": {
        "id": "yvdooevTCcUg",
        "colab": {
          "base_uri": "https://localhost:8080/"
        },
        "outputId": "1ef2ea09-e62f-4f92-ad7c-6310a9b5cf52"
      },
      "source": [
        "#Criando primeiro dataFrame\n",
        "df1 = spark.createDataFrame([(\"Pedro\", 10),(\"Maria\", 20),(\"Jose\",40)])\n",
        "df1.show( )"
      ],
      "execution_count": 81,
      "outputs": [
        {
          "metadata": {
            "tags": null
          },
          "name": "stdout",
          "output_type": "stream",
          "text": [
            "+-----+---+\n",
            "|   _1| _2|\n",
            "+-----+---+\n",
            "|Pedro| 10|\n",
            "|Maria| 20|\n",
            "| Jose| 40|\n",
            "+-----+---+\n",
            "\n"
          ]
        }
      ]
    },
    {
      "cell_type": "code",
      "metadata": {
        "id": "vOEkA6ynDnng"
      },
      "source": [
        "#criando dataFrame com StructField\n",
        "#nao entendi pq passar o data no createDaaFrame deu certo\n",
        "#dados = [(\"1\", \"Pedro\"), \n",
        "#      (\"2\", \"Maria\")\n",
        "#    ]\n",
        "#\n",
        "#schema = StructType([ \\\n",
        "#    StructField(\"id\", StringType(), True),\\\n",
        "#    StructField(\"nome\", StringType(), True),\\\n",
        "#  ])\n",
        "\n",
        "#df2 = spark.createDataFrame(data=data2,schema=schema)\n",
        "#df2.printSchema()\n",
        "#df2.show()"
      ],
      "execution_count": 82,
      "outputs": []
    },
    {
      "cell_type": "code",
      "metadata": {
        "id": "0RGHkwFvet0h",
        "outputId": "35e31d9d-3d38-4de4-d54b-b64ffefbd4b0",
        "colab": {
          "base_uri": "https://localhost:8080/"
        }
      },
      "source": [
        "#criando dataFrame sem StructField\n",
        "schema2 = \"Produtos STRING, Vendas INT\"\n",
        "vendas = [[\"Caneta\", 10], [\"Lápis\", 20], [\"Caneta\", 40]]\n",
        "df3 = spark.createDataFrame(vendas, schema2)\n",
        "df3.show()"
      ],
      "execution_count": 83,
      "outputs": [
        {
          "metadata": {
            "tags": null
          },
          "name": "stdout",
          "output_type": "stream",
          "text": [
            "+--------+------+\n",
            "|Produtos|Vendas|\n",
            "+--------+------+\n",
            "|  Caneta|    10|\n",
            "|   Lápis|    20|\n",
            "|  Caneta|    40|\n",
            "+--------+------+\n",
            "\n"
          ]
        }
      ]
    },
    {
      "cell_type": "code",
      "metadata": {
        "id": "-SXmY0cUgLot",
        "colab": {
          "base_uri": "https://localhost:8080/"
        },
        "outputId": "850e9328-e148-41f7-86b4-ae70cea53bde"
      },
      "source": [
        "#trabalhando com sum\n",
        "#precisamos agrupar o que não iremos somar e usar .agg(sum(\"passar coluna com valores\"))\n",
        "agrupados = df3.groupBy(\"Produtos\").agg(sum(\"vendas\"))\n",
        "agrupados.show()"
      ],
      "execution_count": 84,
      "outputs": [
        {
          "metadata": {
            "tags": null
          },
          "name": "stdout",
          "output_type": "stream",
          "text": [
            "+--------+-----------+\n",
            "|Produtos|sum(vendas)|\n",
            "+--------+-----------+\n",
            "|  Caneta|         50|\n",
            "|   Lápis|         20|\n",
            "+--------+-----------+\n",
            "\n"
          ]
        }
      ]
    },
    {
      "cell_type": "code",
      "metadata": {
        "id": "cjP3--b4gLhD",
        "colab": {
          "base_uri": "https://localhost:8080/"
        },
        "outputId": "fe601c1a-df1b-4af6-cc56-2e5e8915ad8c"
      },
      "source": [
        "#passando o dataFrame direto sem associar ao um novo\n",
        "df3.groupBy(\"Produtos\").agg(sum(\"Vendas\")).show()"
      ],
      "execution_count": 85,
      "outputs": [
        {
          "metadata": {
            "tags": null
          },
          "name": "stdout",
          "output_type": "stream",
          "text": [
            "+--------+-----------+\n",
            "|Produtos|sum(Vendas)|\n",
            "+--------+-----------+\n",
            "|  Caneta|         50|\n",
            "|   Lápis|         20|\n",
            "+--------+-----------+\n",
            "\n"
          ]
        }
      ]
    },
    {
      "cell_type": "code",
      "source": [
        "# Trabalhando com select e expressões\n",
        "df3.select('Vendas').show()\n",
        "df3.select('Produtos',\\\n",
        "           'Vendas',\\\n",
        "           expr('Vendas *0.2')).show()"
      ],
      "metadata": {
        "id": "3B93RDy0QH8h",
        "colab": {
          "base_uri": "https://localhost:8080/"
        },
        "outputId": "a9cc7131-e652-4ec8-ac01-87a9b43807bd"
      },
      "execution_count": 86,
      "outputs": [
        {
          "metadata": {
            "tags": null
          },
          "name": "stdout",
          "output_type": "stream",
          "text": [
            "+------+\n",
            "|Vendas|\n",
            "+------+\n",
            "|    10|\n",
            "|    20|\n",
            "|    40|\n",
            "+------+\n",
            "\n",
            "+--------+------+--------------+\n",
            "|Produtos|Vendas|(Vendas * 0.2)|\n",
            "+--------+------+--------------+\n",
            "|  Caneta|    10|           2.0|\n",
            "|   Lápis|    20|           4.0|\n",
            "|  Caneta|    40|           8.0|\n",
            "+--------+------+--------------+\n",
            "\n"
          ]
        }
      ]
    },
    {
      "cell_type": "code",
      "metadata": {
        "id": "IK6dbqzyiFKS",
        "colab": {
          "base_uri": "https://localhost:8080/"
        },
        "outputId": "418a0947-5450-417c-cedc-ebc5360cb58e"
      },
      "source": [
        "#Trabalhando com exp e select\n",
        "df3.select(\"Vendas\").show()\n",
        "df3.select(\"Produtos\", \"Vendas\", expr(\"Vendas *0.2\")).show()"
      ],
      "execution_count": 87,
      "outputs": [
        {
          "metadata": {
            "tags": null
          },
          "name": "stdout",
          "output_type": "stream",
          "text": [
            "+------+\n",
            "|Vendas|\n",
            "+------+\n",
            "|    10|\n",
            "|    20|\n",
            "|    40|\n",
            "+------+\n",
            "\n",
            "+--------+------+--------------+\n",
            "|Produtos|Vendas|(Vendas * 0.2)|\n",
            "+--------+------+--------------+\n",
            "|  Caneta|    10|           2.0|\n",
            "|   Lápis|    20|           4.0|\n",
            "|  Caneta|    40|           8.0|\n",
            "+--------+------+--------------+\n",
            "\n"
          ]
        }
      ]
    },
    {
      "cell_type": "code",
      "metadata": {
        "colab": {
          "base_uri": "https://localhost:8080/"
        },
        "id": "eir9txjWj_rc",
        "outputId": "df1c9171-e2ff-4e5f-aa59-d2697eea10d6"
      },
      "source": [
        "#Atribuindo um schema\n",
        "#Ler arquivo csv\n",
        "arqschema = \"id INT, nome STRING, status STRING, cidade STRING, vendas INT, data STRING\"\n",
        "despachantes = spark.read.csv(\n",
        "    \"/content/download/despachantes.csv\",\\\n",
        "    header=False,\\\n",
        "    schema= arqschema\\\n",
        "    )\n",
        "despachantes.show()\n",
        "despachantes.printSchema()"
      ],
      "execution_count": 88,
      "outputs": [
        {
          "metadata": {
            "tags": null
          },
          "name": "stdout",
          "output_type": "stream",
          "text": [
            "+---+-------------------+------+-------------+------+----------+\n",
            "| id|               nome|status|       cidade|vendas|      data|\n",
            "+---+-------------------+------+-------------+------+----------+\n",
            "|  1|   Carminda Pestana| Ativo|  Santa Maria|    23|2020-08-11|\n",
            "|  2|    Deolinda Vilela| Ativo|Novo Hamburgo|    34|2020-03-05|\n",
            "|  3|   Emídio Dornelles| Ativo| Porto Alegre|    34|2020-02-05|\n",
            "|  4|Felisbela Dornelles| Ativo| Porto Alegre|    36|2020-02-05|\n",
            "|  5|     Graça Ornellas| Ativo| Porto Alegre|    12|2020-02-05|\n",
            "|  6|   Matilde Rebouças| Ativo| Porto Alegre|    22|2019-01-05|\n",
            "|  7|    Noêmia   Orriça| Ativo|  Santa Maria|    45|2019-10-05|\n",
            "|  8|      Roque Vásquez| Ativo| Porto Alegre|    65|2020-03-05|\n",
            "|  9|      Uriel Queiroz| Ativo| Porto Alegre|    54|2018-05-05|\n",
            "| 10|   Viviana Sequeira| Ativo| Porto Alegre|     0|2020-09-05|\n",
            "+---+-------------------+------+-------------+------+----------+\n",
            "\n",
            "root\n",
            " |-- id: integer (nullable = true)\n",
            " |-- nome: string (nullable = true)\n",
            " |-- status: string (nullable = true)\n",
            " |-- cidade: string (nullable = true)\n",
            " |-- vendas: integer (nullable = true)\n",
            " |-- data: string (nullable = true)\n",
            "\n"
          ]
        }
      ]
    },
    {
      "cell_type": "code",
      "metadata": {
        "colab": {
          "base_uri": "https://localhost:8080/"
        },
        "id": "Mnj4XMb7mJjO",
        "outputId": "f08be88c-8e6b-4da0-d36d-952f93aa0c98"
      },
      "source": [
        "#Auto schema do spark\n",
        "#Ler arquivo csv\n",
        "#Arquivo sem nome de colunas\n",
        "desp_autoSchema = spark.read.load(\n",
        "    \"/content/download/despachantes.csv\",\\\n",
        "    header = False,\\\n",
        "    format = \"csv\",\\\n",
        "    sep = \",\",\\\n",
        "    inferSchema = True\n",
        ")\n",
        "desp_autoSchema.show()\n",
        "desp_autoSchema.printSchema()"
      ],
      "execution_count": 89,
      "outputs": [
        {
          "metadata": {
            "tags": null
          },
          "name": "stdout",
          "output_type": "stream",
          "text": [
            "+---+-------------------+-----+-------------+---+----------+\n",
            "|_c0|                _c1|  _c2|          _c3|_c4|       _c5|\n",
            "+---+-------------------+-----+-------------+---+----------+\n",
            "|  1|   Carminda Pestana|Ativo|  Santa Maria| 23|2020-08-11|\n",
            "|  2|    Deolinda Vilela|Ativo|Novo Hamburgo| 34|2020-03-05|\n",
            "|  3|   Emídio Dornelles|Ativo| Porto Alegre| 34|2020-02-05|\n",
            "|  4|Felisbela Dornelles|Ativo| Porto Alegre| 36|2020-02-05|\n",
            "|  5|     Graça Ornellas|Ativo| Porto Alegre| 12|2020-02-05|\n",
            "|  6|   Matilde Rebouças|Ativo| Porto Alegre| 22|2019-01-05|\n",
            "|  7|    Noêmia   Orriça|Ativo|  Santa Maria| 45|2019-10-05|\n",
            "|  8|      Roque Vásquez|Ativo| Porto Alegre| 65|2020-03-05|\n",
            "|  9|      Uriel Queiroz|Ativo| Porto Alegre| 54|2018-05-05|\n",
            "| 10|   Viviana Sequeira|Ativo| Porto Alegre|  0|2020-09-05|\n",
            "+---+-------------------+-----+-------------+---+----------+\n",
            "\n",
            "root\n",
            " |-- _c0: integer (nullable = true)\n",
            " |-- _c1: string (nullable = true)\n",
            " |-- _c2: string (nullable = true)\n",
            " |-- _c3: string (nullable = true)\n",
            " |-- _c4: integer (nullable = true)\n",
            " |-- _c5: string (nullable = true)\n",
            "\n"
          ]
        }
      ]
    },
    {
      "cell_type": "code",
      "source": [
        "#Trabalhando com operadores\n",
        "#<, >, &, |\n",
        "despachantes.select('id',\\\n",
        "                    'nome',\\\n",
        "                    'vendas')\\\n",
        "                    .where(Func.col('vendas')>20)\\\n",
        "                    .show()\n",
        "\n",
        "despachantes.select('id',\\\n",
        "                    'nome',\\\n",
        "                    'vendas')\\\n",
        "                    .where((Func.col('vendas')>20) & (Func.col('vendas')<40))\\\n",
        "                    .show()"
      ],
      "metadata": {
        "id": "OdLnLtq4TA2F",
        "colab": {
          "base_uri": "https://localhost:8080/"
        },
        "outputId": "98815692-98aa-431c-fa06-558a1d72d637"
      },
      "execution_count": 90,
      "outputs": [
        {
          "metadata": {
            "tags": null
          },
          "name": "stdout",
          "output_type": "stream",
          "text": [
            "+---+-------------------+------+\n",
            "| id|               nome|vendas|\n",
            "+---+-------------------+------+\n",
            "|  1|   Carminda Pestana|    23|\n",
            "|  2|    Deolinda Vilela|    34|\n",
            "|  3|   Emídio Dornelles|    34|\n",
            "|  4|Felisbela Dornelles|    36|\n",
            "|  6|   Matilde Rebouças|    22|\n",
            "|  7|    Noêmia   Orriça|    45|\n",
            "|  8|      Roque Vásquez|    65|\n",
            "|  9|      Uriel Queiroz|    54|\n",
            "+---+-------------------+------+\n",
            "\n",
            "+---+-------------------+------+\n",
            "| id|               nome|vendas|\n",
            "+---+-------------------+------+\n",
            "|  1|   Carminda Pestana|    23|\n",
            "|  2|    Deolinda Vilela|    34|\n",
            "|  3|   Emídio Dornelles|    34|\n",
            "|  4|Felisbela Dornelles|    36|\n",
            "|  6|   Matilde Rebouças|    22|\n",
            "+---+-------------------+------+\n",
            "\n"
          ]
        }
      ]
    },
    {
      "cell_type": "code",
      "metadata": {
        "id": "W699R6xCopQE",
        "outputId": "3b96c1af-896c-45e4-9928-017ccfb5fa7b",
        "colab": {
          "base_uri": "https://localhost:8080/"
        }
      },
      "source": [
        "despachantes.select\\\n",
        "              ('id', 'nome','vendas')\\\n",
        "            .where(Func.col('vendas')>20).show()\n",
        "despachantes.select\\\n",
        "              ('id', 'nome','vendas')\\\n",
        "            .where((Func.col('vendas')>20) & (Func.col('vendas')<40)).show()"
      ],
      "execution_count": 91,
      "outputs": [
        {
          "metadata": {
            "tags": null
          },
          "name": "stdout",
          "output_type": "stream",
          "text": [
            "+---+-------------------+------+\n",
            "| id|               nome|vendas|\n",
            "+---+-------------------+------+\n",
            "|  1|   Carminda Pestana|    23|\n",
            "|  2|    Deolinda Vilela|    34|\n",
            "|  3|   Emídio Dornelles|    34|\n",
            "|  4|Felisbela Dornelles|    36|\n",
            "|  6|   Matilde Rebouças|    22|\n",
            "|  7|    Noêmia   Orriça|    45|\n",
            "|  8|      Roque Vásquez|    65|\n",
            "|  9|      Uriel Queiroz|    54|\n",
            "+---+-------------------+------+\n",
            "\n",
            "+---+-------------------+------+\n",
            "| id|               nome|vendas|\n",
            "+---+-------------------+------+\n",
            "|  1|   Carminda Pestana|    23|\n",
            "|  2|    Deolinda Vilela|    34|\n",
            "|  3|   Emídio Dornelles|    34|\n",
            "|  4|Felisbela Dornelles|    36|\n",
            "|  6|   Matilde Rebouças|    22|\n",
            "+---+-------------------+------+\n",
            "\n"
          ]
        }
      ]
    },
    {
      "cell_type": "code",
      "source": [
        "# Alterando nome das colunas do dataFrame \n",
        "# Vamos usar o comando withColumnRenamed('colunaAtua','novoNome')\n",
        "# Atencao que printando o schema ele tambem sofre alteracao\n",
        "despachantes2 = despachantes.withColumnRenamed('_c0', 'id')\n",
        "despachantes2 = despachantes2.withColumnRenamed('_c1', 'nome')\n",
        "despachantes2 = despachantes2.withColumnRenamed('_c2', 'status')\n",
        "despachantes2 = despachantes2.withColumnRenamed('_c3', 'cidade')\n",
        "despachantes2 = despachantes2.withColumnRenamed('_c4', 'vendas')\n",
        "despachantes2 = despachantes2.withColumnRenamed('_c5', 'data')\n",
        "\n",
        "despachantes2.columns\n",
        "despachantes2.show()\n",
        "despachantes2.printSchema()\n"
      ],
      "metadata": {
        "colab": {
          "base_uri": "https://localhost:8080/"
        },
        "id": "M8kD20sfb1YG",
        "outputId": "09988997-099c-4b4e-aaf1-3929ff4140cb"
      },
      "execution_count": 92,
      "outputs": [
        {
          "metadata": {
            "tags": null
          },
          "name": "stdout",
          "output_type": "stream",
          "text": [
            "+---+-------------------+------+-------------+------+----------+\n",
            "| id|               nome|status|       cidade|vendas|      data|\n",
            "+---+-------------------+------+-------------+------+----------+\n",
            "|  1|   Carminda Pestana| Ativo|  Santa Maria|    23|2020-08-11|\n",
            "|  2|    Deolinda Vilela| Ativo|Novo Hamburgo|    34|2020-03-05|\n",
            "|  3|   Emídio Dornelles| Ativo| Porto Alegre|    34|2020-02-05|\n",
            "|  4|Felisbela Dornelles| Ativo| Porto Alegre|    36|2020-02-05|\n",
            "|  5|     Graça Ornellas| Ativo| Porto Alegre|    12|2020-02-05|\n",
            "|  6|   Matilde Rebouças| Ativo| Porto Alegre|    22|2019-01-05|\n",
            "|  7|    Noêmia   Orriça| Ativo|  Santa Maria|    45|2019-10-05|\n",
            "|  8|      Roque Vásquez| Ativo| Porto Alegre|    65|2020-03-05|\n",
            "|  9|      Uriel Queiroz| Ativo| Porto Alegre|    54|2018-05-05|\n",
            "| 10|   Viviana Sequeira| Ativo| Porto Alegre|     0|2020-09-05|\n",
            "+---+-------------------+------+-------------+------+----------+\n",
            "\n",
            "root\n",
            " |-- id: integer (nullable = true)\n",
            " |-- nome: string (nullable = true)\n",
            " |-- status: string (nullable = true)\n",
            " |-- cidade: string (nullable = true)\n",
            " |-- vendas: integer (nullable = true)\n",
            " |-- data: string (nullable = true)\n",
            "\n"
          ]
        }
      ]
    },
    {
      "cell_type": "code",
      "source": [
        "# Alterando tipo string para date com o comando .withColumn passando como paramentro to_timestamp(Fun.col('coluna'), 'yyyy-MM-dd')\n",
        "# convertendo para date  \n",
        "despachantes2 = despachantes2.withColumn('data', to_timestamp(Func.col('data'), 'yyyy-MM-dd'))\n",
        "despachantes2.schema  "
      ],
      "metadata": {
        "colab": {
          "base_uri": "https://localhost:8080/"
        },
        "id": "FGo96Vs2g2CI",
        "outputId": "9d5dd510-e6c9-440e-9388-62cbc45a1b27"
      },
      "execution_count": 93,
      "outputs": [
        {
          "data": {
            "text/plain": [
              "StructType(List(StructField(id,IntegerType,true),StructField(nome,StringType,true),StructField(status,StringType,true),StructField(cidade,StringType,true),StructField(vendas,IntegerType,true),StructField(data,TimestampType,true)))"
            ]
          },
          "execution_count": null,
          "metadata": {},
          "output_type": "execute_result"
        }
      ]
    },
    {
      "cell_type": "code",
      "source": [
        "# Praticando distinct\n",
        "despachantes2.select(year('data')).distinct().show()"
      ],
      "metadata": {
        "colab": {
          "base_uri": "https://localhost:8080/"
        },
        "id": "yrZn6dfmvb-l",
        "outputId": "1e75beef-c4f3-4331-b15a-4aaac05af423"
      },
      "execution_count": 94,
      "outputs": [
        {
          "metadata": {
            "tags": null
          },
          "name": "stdout",
          "output_type": "stream",
          "text": [
            "+----------+\n",
            "|year(data)|\n",
            "+----------+\n",
            "|      2018|\n",
            "|      2019|\n",
            "|      2020|\n",
            "+----------+\n",
            "\n"
          ]
        }
      ]
    },
    {
      "cell_type": "code",
      "source": [
        "# Praticando orderBy\n",
        "despachantes2.select('nome',year('data')).orderBy('nome').show()"
      ],
      "metadata": {
        "colab": {
          "base_uri": "https://localhost:8080/"
        },
        "id": "bf2bLnqbv06S",
        "outputId": "a3fb523a-8b5a-41b7-97a6-9ca79248c134"
      },
      "execution_count": 95,
      "outputs": [
        {
          "metadata": {
            "tags": null
          },
          "name": "stdout",
          "output_type": "stream",
          "text": [
            "+-------------------+----------+\n",
            "|               nome|year(data)|\n",
            "+-------------------+----------+\n",
            "|   Carminda Pestana|      2020|\n",
            "|    Deolinda Vilela|      2020|\n",
            "|   Emídio Dornelles|      2020|\n",
            "|Felisbela Dornelles|      2020|\n",
            "|     Graça Ornellas|      2020|\n",
            "|   Matilde Rebouças|      2019|\n",
            "|    Noêmia   Orriça|      2019|\n",
            "|      Roque Vásquez|      2020|\n",
            "|      Uriel Queiroz|      2018|\n",
            "|   Viviana Sequeira|      2020|\n",
            "+-------------------+----------+\n",
            "\n"
          ]
        }
      ]
    },
    {
      "cell_type": "code",
      "source": [
        "# Praticando groupBy com count\n",
        "despachantes2.select('data').groupBy(year('data')).count().show()"
      ],
      "metadata": {
        "colab": {
          "base_uri": "https://localhost:8080/"
        },
        "id": "WZTzF3OgR9cs",
        "outputId": "4152a332-866c-4b95-be89-c95a26a6c6c1"
      },
      "execution_count": 96,
      "outputs": [
        {
          "metadata": {
            "tags": null
          },
          "name": "stdout",
          "output_type": "stream",
          "text": [
            "+----------+-----+\n",
            "|year(data)|count|\n",
            "+----------+-----+\n",
            "|      2018|    1|\n",
            "|      2019|    2|\n",
            "|      2020|    7|\n",
            "+----------+-----+\n",
            "\n"
          ]
        }
      ]
    },
    {
      "cell_type": "code",
      "source": [
        "# Praticando sum\n",
        "despachantes2.select(Func.sum('vendas')).show()"
      ],
      "metadata": {
        "colab": {
          "base_uri": "https://localhost:8080/"
        },
        "id": "osOXHLzTSeqh",
        "outputId": "762c79d6-7855-46fc-8c89-55e43d14da2a"
      },
      "execution_count": 97,
      "outputs": [
        {
          "metadata": {
            "tags": null
          },
          "name": "stdout",
          "output_type": "stream",
          "text": [
            "+-----------+\n",
            "|sum(vendas)|\n",
            "+-----------+\n",
            "|        325|\n",
            "+-----------+\n",
            "\n"
          ]
        }
      ]
    },
    {
      "cell_type": "code",
      "source": [
        "# Praticando orderBy\n",
        "despachantes2.orderBy(Func.col('vendas').desc()).show()"
      ],
      "metadata": {
        "colab": {
          "base_uri": "https://localhost:8080/"
        },
        "id": "_zKuTd65S15E",
        "outputId": "b741d4cc-7ffc-45a7-b419-06628c1f2519"
      },
      "execution_count": 98,
      "outputs": [
        {
          "metadata": {
            "tags": null
          },
          "name": "stdout",
          "output_type": "stream",
          "text": [
            "+---+-------------------+------+-------------+------+-------------------+\n",
            "| id|               nome|status|       cidade|vendas|               data|\n",
            "+---+-------------------+------+-------------+------+-------------------+\n",
            "|  8|      Roque Vásquez| Ativo| Porto Alegre|    65|2020-03-05 00:00:00|\n",
            "|  9|      Uriel Queiroz| Ativo| Porto Alegre|    54|2018-05-05 00:00:00|\n",
            "|  7|    Noêmia   Orriça| Ativo|  Santa Maria|    45|2019-10-05 00:00:00|\n",
            "|  4|Felisbela Dornelles| Ativo| Porto Alegre|    36|2020-02-05 00:00:00|\n",
            "|  2|    Deolinda Vilela| Ativo|Novo Hamburgo|    34|2020-03-05 00:00:00|\n",
            "|  3|   Emídio Dornelles| Ativo| Porto Alegre|    34|2020-02-05 00:00:00|\n",
            "|  1|   Carminda Pestana| Ativo|  Santa Maria|    23|2020-08-11 00:00:00|\n",
            "|  6|   Matilde Rebouças| Ativo| Porto Alegre|    22|2019-01-05 00:00:00|\n",
            "|  5|     Graça Ornellas| Ativo| Porto Alegre|    12|2020-02-05 00:00:00|\n",
            "| 10|   Viviana Sequeira| Ativo| Porto Alegre|     0|2020-09-05 00:00:00|\n",
            "+---+-------------------+------+-------------+------+-------------------+\n",
            "\n"
          ]
        }
      ]
    },
    {
      "cell_type": "code",
      "source": [
        "# Praticando orderBy \n",
        "# ordenando nome asc\n",
        "# ordenando cidade desc\n",
        "# ordenando vendas desc\n",
        "despachantes2.orderBy(Func.col('nome').asc(),\\\n",
        "                      Func.col('cidade').desc(),\\\n",
        "                      Func.col('vendas').desc()).show()"
      ],
      "metadata": {
        "colab": {
          "base_uri": "https://localhost:8080/"
        },
        "id": "xDAvFvJLTXiI",
        "outputId": "70dfef67-c961-4c5c-b287-c094ad3f3f3b"
      },
      "execution_count": 99,
      "outputs": [
        {
          "metadata": {
            "tags": null
          },
          "name": "stdout",
          "output_type": "stream",
          "text": [
            "+---+-------------------+------+-------------+------+-------------------+\n",
            "| id|               nome|status|       cidade|vendas|               data|\n",
            "+---+-------------------+------+-------------+------+-------------------+\n",
            "|  1|   Carminda Pestana| Ativo|  Santa Maria|    23|2020-08-11 00:00:00|\n",
            "|  2|    Deolinda Vilela| Ativo|Novo Hamburgo|    34|2020-03-05 00:00:00|\n",
            "|  3|   Emídio Dornelles| Ativo| Porto Alegre|    34|2020-02-05 00:00:00|\n",
            "|  4|Felisbela Dornelles| Ativo| Porto Alegre|    36|2020-02-05 00:00:00|\n",
            "|  5|     Graça Ornellas| Ativo| Porto Alegre|    12|2020-02-05 00:00:00|\n",
            "|  6|   Matilde Rebouças| Ativo| Porto Alegre|    22|2019-01-05 00:00:00|\n",
            "|  7|    Noêmia   Orriça| Ativo|  Santa Maria|    45|2019-10-05 00:00:00|\n",
            "|  8|      Roque Vásquez| Ativo| Porto Alegre|    65|2020-03-05 00:00:00|\n",
            "|  9|      Uriel Queiroz| Ativo| Porto Alegre|    54|2018-05-05 00:00:00|\n",
            "| 10|   Viviana Sequeira| Ativo| Porto Alegre|     0|2020-09-05 00:00:00|\n",
            "+---+-------------------+------+-------------+------+-------------------+\n",
            "\n"
          ]
        }
      ]
    },
    {
      "cell_type": "code",
      "source": [
        "# Praticando groupBy com sum \n",
        "# somando quantidade de vendas por cidade\n",
        "despachantes2.groupBy('cidade')\\\n",
        "              .agg(sum('vendas')).show()"
      ],
      "metadata": {
        "colab": {
          "base_uri": "https://localhost:8080/"
        },
        "id": "78iE_PcNUr05",
        "outputId": "458d28d9-fed7-4df3-bb4c-42c2646b4e5a"
      },
      "execution_count": 100,
      "outputs": [
        {
          "metadata": {
            "tags": null
          },
          "name": "stdout",
          "output_type": "stream",
          "text": [
            "+-------------+-----------+\n",
            "|       cidade|sum(vendas)|\n",
            "+-------------+-----------+\n",
            "|  Santa Maria|         68|\n",
            "|Novo Hamburgo|         34|\n",
            "| Porto Alegre|        223|\n",
            "+-------------+-----------+\n",
            "\n"
          ]
        }
      ]
    },
    {
      "cell_type": "code",
      "source": [
        "# Praticando groupBy, sum, orderby\n",
        "# agrupando cidade\n",
        "# somando vendas\n",
        "# ordenando coluna do resultado sum\n",
        "despachantes2.groupBy('cidade')\\\n",
        "             .agg(sum('vendas'))\\\n",
        "             .orderBy(Func.col('sum(vendas)'))\\\n",
        "             .show()"
      ],
      "metadata": {
        "colab": {
          "base_uri": "https://localhost:8080/"
        },
        "id": "UQdU3L4bVWzn",
        "outputId": "61393949-dc48-4ee4-b5e4-cf41042e4cfb"
      },
      "execution_count": 101,
      "outputs": [
        {
          "metadata": {
            "tags": null
          },
          "name": "stdout",
          "output_type": "stream",
          "text": [
            "+-------------+-----------+\n",
            "|       cidade|sum(vendas)|\n",
            "+-------------+-----------+\n",
            "|Novo Hamburgo|         34|\n",
            "|  Santa Maria|         68|\n",
            "| Porto Alegre|        223|\n",
            "+-------------+-----------+\n",
            "\n"
          ]
        }
      ]
    },
    {
      "cell_type": "code",
      "source": [
        "# Praticando filter\n",
        "# buscando nome especifico da tabela\n",
        "despachantes2.filter(Func.col('nome') == 'Deolinda Vilela').show()"
      ],
      "metadata": {
        "colab": {
          "base_uri": "https://localhost:8080/"
        },
        "id": "CWblGD9SW11M",
        "outputId": "8a6d5f10-3631-48fc-96a6-8f641279bbd5"
      },
      "execution_count": 102,
      "outputs": [
        {
          "metadata": {
            "tags": null
          },
          "name": "stdout",
          "output_type": "stream",
          "text": [
            "+---+---------------+------+-------------+------+-------------------+\n",
            "| id|           nome|status|       cidade|vendas|               data|\n",
            "+---+---------------+------+-------------+------+-------------------+\n",
            "|  2|Deolinda Vilela| Ativo|Novo Hamburgo|    34|2020-03-05 00:00:00|\n",
            "+---+---------------+------+-------------+------+-------------------+\n",
            "\n"
          ]
        }
      ]
    },
    {
      "cell_type": "markdown",
      "source": [
        "##Manipulando arquivos\n",
        "\n",
        "\n",
        ">Alterando nome de arquivos\\\n",
        ">Salvando dataFrames em formatos diferentes\\\n",
        ">Importando arquivos"
      ],
      "metadata": {
        "id": "RSGVh4foZK_4"
      }
    },
    {
      "cell_type": "code",
      "source": [
        "# Salvando dataFrame despachantes2 \n",
        "# formato parquet, csv, json, orc\n",
        "despachantes2.write.format('parquet').save('/content/dfimportparquet')"
      ],
      "metadata": {
        "id": "JnX2E4AaZU9B"
      },
      "execution_count": null,
      "outputs": []
    },
    {
      "cell_type": "code",
      "source": [
        "despachantes2.write.format('csv').save('/content/dfimport_csv')"
      ],
      "metadata": {
        "id": "3Luen6cybNr4"
      },
      "execution_count": null,
      "outputs": []
    },
    {
      "cell_type": "code",
      "source": [
        "despachantes2.write.format('json').save('/content/dfimport_json')"
      ],
      "metadata": {
        "id": "TjOZuivabbYW"
      },
      "execution_count": null,
      "outputs": []
    },
    {
      "cell_type": "code",
      "source": [
        "despachantes2.write.format('orc').save('/content//dfimport_orc')"
      ],
      "metadata": {
        "id": "Bsg1H0Xzb6J2"
      },
      "execution_count": null,
      "outputs": []
    },
    {
      "cell_type": "code",
      "source": [
        "gedit part-00000-26791447-cbff-4d76-8b28-782417a43393-c000.csv"
      ],
      "metadata": {
        "id": "we5HZ1C2cGnk"
      },
      "execution_count": null,
      "outputs": []
    },
    {
      "cell_type": "code",
      "source": [
        "# Alterando nome do arquivo para despachantes.csv\n",
        "mv part-00000-26791447-cbff-4d76-8b28-782417a43393-c000.csv despachantes.csv"
      ],
      "metadata": {
        "id": "mYc19dGod46P"
      },
      "execution_count": null,
      "outputs": []
    },
    {
      "cell_type": "code",
      "source": [
        "# Alterando nome do arquivo para despachantes.json\n",
        "mv part-00000-f3268b17-6220-4c7e-9d30-f6f5f97bf288-c000.json despachantes.json"
      ],
      "metadata": {
        "id": "3b1N4Z7ZeSHf"
      },
      "execution_count": null,
      "outputs": []
    },
    {
      "cell_type": "code",
      "source": [
        "# Alterando nome do arquivo para despachantes.orc\n",
        "mv part-00000-f3268b17-6220-4c7e-9d30-f6f5f97bf288-c000.json despachantes.orc"
      ],
      "metadata": {
        "id": "0llOf_T7ewkl"
      },
      "execution_count": null,
      "outputs": []
    },
    {
      "cell_type": "code",
      "source": [
        "# Carregando arquivo parquet e seu schema\n",
        "par = spark.read.format('parquet').load('/content/dfimportparquet/despachantes.parquet')\n",
        "par.show()\n",
        "par.printSchema()"
      ],
      "metadata": {
        "id": "_Jp4TcXDe71k",
        "outputId": "8181b46f-fc8d-45fd-a21c-0f0ea1915d2d",
        "colab": {
          "base_uri": "https://localhost:8080/"
        }
      },
      "execution_count": 116,
      "outputs": [
        {
          "output_type": "stream",
          "name": "stdout",
          "text": [
            "+---+-------------------+------+-------------+------+-------------------+\n",
            "| id|               nome|status|       cidade|vendas|               data|\n",
            "+---+-------------------+------+-------------+------+-------------------+\n",
            "|  1|   Carminda Pestana| Ativo|  Santa Maria|    23|2020-08-11 00:00:00|\n",
            "|  2|    Deolinda Vilela| Ativo|Novo Hamburgo|    34|2020-03-05 00:00:00|\n",
            "|  3|   Emídio Dornelles| Ativo| Porto Alegre|    34|2020-02-05 00:00:00|\n",
            "|  4|Felisbela Dornelles| Ativo| Porto Alegre|    36|2020-02-05 00:00:00|\n",
            "|  5|     Graça Ornellas| Ativo| Porto Alegre|    12|2020-02-05 00:00:00|\n",
            "|  6|   Matilde Rebouças| Ativo| Porto Alegre|    22|2019-01-05 00:00:00|\n",
            "|  7|    Noêmia   Orriça| Ativo|  Santa Maria|    45|2019-10-05 00:00:00|\n",
            "|  8|      Roque Vásquez| Ativo| Porto Alegre|    65|2020-03-05 00:00:00|\n",
            "|  9|      Uriel Queiroz| Ativo| Porto Alegre|    54|2018-05-05 00:00:00|\n",
            "| 10|   Viviana Sequeira| Ativo| Porto Alegre|     0|2020-09-05 00:00:00|\n",
            "+---+-------------------+------+-------------+------+-------------------+\n",
            "\n",
            "root\n",
            " |-- id: integer (nullable = true)\n",
            " |-- nome: string (nullable = true)\n",
            " |-- status: string (nullable = true)\n",
            " |-- cidade: string (nullable = true)\n",
            " |-- vendas: integer (nullable = true)\n",
            " |-- data: timestamp (nullable = true)\n",
            "\n"
          ]
        }
      ]
    },
    {
      "cell_type": "code",
      "source": [
        "# Carregando arquivo json e seu schema\n",
        "js = spark.read.format('json').load('/content/dfimport_json/despachantes.json')\n",
        "js.show()\n",
        "js.printSchema"
      ],
      "metadata": {
        "id": "xapsL_giooJT",
        "outputId": "5b3d66f2-2627-436d-a2a0-7a08eebe0a13",
        "colab": {
          "base_uri": "https://localhost:8080/"
        }
      },
      "execution_count": 117,
      "outputs": [
        {
          "output_type": "stream",
          "name": "stdout",
          "text": [
            "+-------------+--------------------+---+-------------------+------+------+\n",
            "|       cidade|                data| id|               nome|status|vendas|\n",
            "+-------------+--------------------+---+-------------------+------+------+\n",
            "|  Santa Maria|2020-08-11T00:00:...|  1|   Carminda Pestana| Ativo|    23|\n",
            "|Novo Hamburgo|2020-03-05T00:00:...|  2|    Deolinda Vilela| Ativo|    34|\n",
            "| Porto Alegre|2020-02-05T00:00:...|  3|   Emídio Dornelles| Ativo|    34|\n",
            "| Porto Alegre|2020-02-05T00:00:...|  4|Felisbela Dornelles| Ativo|    36|\n",
            "| Porto Alegre|2020-02-05T00:00:...|  5|     Graça Ornellas| Ativo|    12|\n",
            "| Porto Alegre|2019-01-05T00:00:...|  6|   Matilde Rebouças| Ativo|    22|\n",
            "|  Santa Maria|2019-10-05T00:00:...|  7|    Noêmia   Orriça| Ativo|    45|\n",
            "| Porto Alegre|2020-03-05T00:00:...|  8|      Roque Vásquez| Ativo|    65|\n",
            "| Porto Alegre|2018-05-05T00:00:...|  9|      Uriel Queiroz| Ativo|    54|\n",
            "| Porto Alegre|2020-09-05T00:00:...| 10|   Viviana Sequeira| Ativo|     0|\n",
            "+-------------+--------------------+---+-------------------+------+------+\n",
            "\n"
          ]
        },
        {
          "output_type": "execute_result",
          "data": {
            "text/plain": [
              "<bound method DataFrame.printSchema of DataFrame[cidade: string, data: string, id: bigint, nome: string, status: string, vendas: bigint]>"
            ]
          },
          "metadata": {},
          "execution_count": 117
        }
      ]
    },
    {
      "cell_type": "code",
      "source": [
        "# Carregando arquivo csv e seu schema\n",
        "csv = spark.read.format('csv').load('/content/dfimport_csv/despachantes.csv')\n",
        "csv.show()\n",
        "csv.printSchema"
      ],
      "metadata": {
        "id": "dBoQtx47o8Nw",
        "outputId": "600ca5b0-d6a1-4673-ee09-0b559607bc75",
        "colab": {
          "base_uri": "https://localhost:8080/"
        }
      },
      "execution_count": 118,
      "outputs": [
        {
          "output_type": "stream",
          "name": "stdout",
          "text": [
            "+---+-------------------+-----+-------------+---+--------------------+\n",
            "|_c0|                _c1|  _c2|          _c3|_c4|                 _c5|\n",
            "+---+-------------------+-----+-------------+---+--------------------+\n",
            "|  1|   Carminda Pestana|Ativo|  Santa Maria| 23|2020-08-11T00:00:...|\n",
            "|  2|    Deolinda Vilela|Ativo|Novo Hamburgo| 34|2020-03-05T00:00:...|\n",
            "|  3|   Emídio Dornelles|Ativo| Porto Alegre| 34|2020-02-05T00:00:...|\n",
            "|  4|Felisbela Dornelles|Ativo| Porto Alegre| 36|2020-02-05T00:00:...|\n",
            "|  5|     Graça Ornellas|Ativo| Porto Alegre| 12|2020-02-05T00:00:...|\n",
            "|  6|   Matilde Rebouças|Ativo| Porto Alegre| 22|2019-01-05T00:00:...|\n",
            "|  7|    Noêmia   Orriça|Ativo|  Santa Maria| 45|2019-10-05T00:00:...|\n",
            "|  8|      Roque Vásquez|Ativo| Porto Alegre| 65|2020-03-05T00:00:...|\n",
            "|  9|      Uriel Queiroz|Ativo| Porto Alegre| 54|2018-05-05T00:00:...|\n",
            "| 10|   Viviana Sequeira|Ativo| Porto Alegre|  0|2020-09-05T00:00:...|\n",
            "+---+-------------------+-----+-------------+---+--------------------+\n",
            "\n"
          ]
        },
        {
          "output_type": "execute_result",
          "data": {
            "text/plain": [
              "<bound method DataFrame.printSchema of DataFrame[_c0: string, _c1: string, _c2: string, _c3: string, _c4: string, _c5: string]>"
            ]
          },
          "metadata": {},
          "execution_count": 118
        }
      ]
    },
    {
      "cell_type": "code",
      "source": [
        "# Carregando arquivo orc e seu schema\n",
        "orc = spark.read.format('orc').load('/content/dfimport_orc/despachantes.orc')\n",
        "orc.show()\n",
        "orc.printSchema"
      ],
      "metadata": {
        "id": "j_qJDa83pT5B",
        "outputId": "08952592-b0fd-46d5-c02a-7713a3aa4d0b",
        "colab": {
          "base_uri": "https://localhost:8080/"
        }
      },
      "execution_count": 119,
      "outputs": [
        {
          "output_type": "stream",
          "name": "stdout",
          "text": [
            "+---+-------------------+------+-------------+------+-------------------+\n",
            "| id|               nome|status|       cidade|vendas|               data|\n",
            "+---+-------------------+------+-------------+------+-------------------+\n",
            "|  1|   Carminda Pestana| Ativo|  Santa Maria|    23|2020-08-11 00:00:00|\n",
            "|  2|    Deolinda Vilela| Ativo|Novo Hamburgo|    34|2020-03-05 00:00:00|\n",
            "|  3|   Emídio Dornelles| Ativo| Porto Alegre|    34|2020-02-05 00:00:00|\n",
            "|  4|Felisbela Dornelles| Ativo| Porto Alegre|    36|2020-02-05 00:00:00|\n",
            "|  5|     Graça Ornellas| Ativo| Porto Alegre|    12|2020-02-05 00:00:00|\n",
            "|  6|   Matilde Rebouças| Ativo| Porto Alegre|    22|2019-01-05 00:00:00|\n",
            "|  7|    Noêmia   Orriça| Ativo|  Santa Maria|    45|2019-10-05 00:00:00|\n",
            "|  8|      Roque Vásquez| Ativo| Porto Alegre|    65|2020-03-05 00:00:00|\n",
            "|  9|      Uriel Queiroz| Ativo| Porto Alegre|    54|2018-05-05 00:00:00|\n",
            "| 10|   Viviana Sequeira| Ativo| Porto Alegre|     0|2020-09-05 00:00:00|\n",
            "+---+-------------------+------+-------------+------+-------------------+\n",
            "\n"
          ]
        },
        {
          "output_type": "execute_result",
          "data": {
            "text/plain": [
              "<bound method DataFrame.printSchema of DataFrame[id: int, nome: string, status: string, cidade: string, vendas: int, data: timestamp]>"
            ]
          },
          "metadata": {},
          "execution_count": 119
        }
      ]
    },
    {
      "cell_type": "code",
      "source": [
        "# Buscando arquivo csv e passando schema já informado acima.\n",
        "sv2 = spark.read.format('csv').load('/content/dfimport_csv/despachantes.csv', schema =arqschema)\n",
        "csv2.show()\n",
        "csv2.printSchema()"
      ],
      "metadata": {
        "id": "IwB0agjKqhMG",
        "outputId": "c580056a-8ad2-4fd0-804d-1497b71a9ea0",
        "colab": {
          "base_uri": "https://localhost:8080/"
        }
      },
      "execution_count": 121,
      "outputs": [
        {
          "output_type": "stream",
          "name": "stdout",
          "text": [
            "+---+-------------------+------+-------------+------+--------------------+\n",
            "| id|               nome|status|       cidade|vendas|                data|\n",
            "+---+-------------------+------+-------------+------+--------------------+\n",
            "|  1|   Carminda Pestana| Ativo|  Santa Maria|    23|2020-08-11T00:00:...|\n",
            "|  2|    Deolinda Vilela| Ativo|Novo Hamburgo|    34|2020-03-05T00:00:...|\n",
            "|  3|   Emídio Dornelles| Ativo| Porto Alegre|    34|2020-02-05T00:00:...|\n",
            "|  4|Felisbela Dornelles| Ativo| Porto Alegre|    36|2020-02-05T00:00:...|\n",
            "|  5|     Graça Ornellas| Ativo| Porto Alegre|    12|2020-02-05T00:00:...|\n",
            "|  6|   Matilde Rebouças| Ativo| Porto Alegre|    22|2019-01-05T00:00:...|\n",
            "|  7|    Noêmia   Orriça| Ativo|  Santa Maria|    45|2019-10-05T00:00:...|\n",
            "|  8|      Roque Vásquez| Ativo| Porto Alegre|    65|2020-03-05T00:00:...|\n",
            "|  9|      Uriel Queiroz| Ativo| Porto Alegre|    54|2018-05-05T00:00:...|\n",
            "| 10|   Viviana Sequeira| Ativo| Porto Alegre|     0|2020-09-05T00:00:...|\n",
            "+---+-------------------+------+-------------+------+--------------------+\n",
            "\n",
            "root\n",
            " |-- id: integer (nullable = true)\n",
            " |-- nome: string (nullable = true)\n",
            " |-- status: string (nullable = true)\n",
            " |-- cidade: string (nullable = true)\n",
            " |-- vendas: integer (nullable = true)\n",
            " |-- data: string (nullable = true)\n",
            "\n"
          ]
        }
      ]
    }
  ]
}