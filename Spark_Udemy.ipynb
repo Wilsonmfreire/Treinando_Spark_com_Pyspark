{
  "nbformat": 4,
  "nbformat_minor": 0,
  "metadata": {
    "colab": {
      "name": "Spark Udemy",
      "provenance": [],
      "mount_file_id": "1pCcfL-__L6HDKKJKg0PoLcXU63S7sHqV",
      "authorship_tag": "ABX9TyN1KBFk5Ui+91obEkNnlQY3",
      "include_colab_link": true
    },
    "kernelspec": {
      "name": "python3",
      "display_name": "Python 3"
    },
    "language_info": {
      "name": "python"
    }
  },
  "cells": [
    {
      "cell_type": "markdown",
      "metadata": {
        "id": "view-in-github",
        "colab_type": "text"
      },
      "source": [
        "<a href=\"https://colab.research.google.com/github/Wilsonmfreire/Treinando_Spark_com_Pyspark/blob/main/Spark_Udemy.ipynb\" target=\"_parent\"><img src=\"https://colab.research.google.com/assets/colab-badge.svg\" alt=\"Open In Colab\"/></a>"
      ]
    },
    {
      "cell_type": "markdown",
      "source": [
        "##Principais configurações\n",
        "script para rodar pyspark\n"
      ],
      "metadata": {
        "id": "lVlZ57PkXoiG"
      }
    },
    {
      "cell_type": "code",
      "metadata": {
        "id": "rXEf2QJoZ8xK"
      },
      "source": [
        "#Instalando o Java\n",
        "!apt-get install openjdk-8-jdk-headless -qq >/dev/null"
      ],
      "execution_count": 1,
      "outputs": []
    },
    {
      "cell_type": "code",
      "metadata": {
        "id": "56PRwTjB_S-Z"
      },
      "source": [
        "#Baixar a versão mais recente do spark\n",
        "!wget -q https://dlcdn.apache.org/spark/spark-3.2.0/spark-3.2.0-bin-hadoop3.2.tgz"
      ],
      "execution_count": 2,
      "outputs": []
    },
    {
      "cell_type": "code",
      "metadata": {
        "id": "IqW-Q9xd_YVY"
      },
      "source": [
        "#Dezipar spark\n",
        "!tar xf /content/spark-3.2.0-bin-hadoop3.2.tgz"
      ],
      "execution_count": 3,
      "outputs": []
    },
    {
      "cell_type": "code",
      "metadata": {
        "id": "jcb2V4TZ_dqm"
      },
      "source": [
        "#Criar variável de ambiente\n",
        "import os\n",
        "os.environ[\"JAVA_HOME\"] = \"/usr/lib/jvm/java-8-openjdk-amd64/\"\n",
        "os.environ[\"SPARK_HOME\"] = \"/content/spark-3.2.0-bin-hadoop3.2/\""
      ],
      "execution_count": 4,
      "outputs": []
    },
    {
      "cell_type": "code",
      "metadata": {
        "id": "JmkFqKul_gtx"
      },
      "source": [
        "#instalar a lib findspark que ajuda a localizar o Spark no sistema e importá-lo como uma biblioteca regulgar\n",
        "!pip install -q findspark"
      ],
      "execution_count": 5,
      "outputs": []
    },
    {
      "cell_type": "code",
      "metadata": {
        "id": "DuHPp0Hb_gnv"
      },
      "source": [
        "#import a lib findspark\n",
        "import findspark\n",
        "findspark.init()"
      ],
      "execution_count": 6,
      "outputs": []
    },
    {
      "cell_type": "code",
      "source": [
        "#criar spark session\n",
        "\n",
        "from pyspark.sql import SparkSession\n",
        "from pyspark.sql.types import *\n",
        "from pyspark.sql import SQLContext\n",
        "from pyspark.sql.functions import  *\n",
        "from pyspark.sql import functions as Func\n",
        "\n",
        "spark = SparkSession.builder\\\n",
        "        .master('local')\\\n",
        "        .appName('sparkcolab')\\\n",
        "        .getOrCreate()"
      ],
      "metadata": {
        "id": "nB7IvgwyPS7K"
      },
      "execution_count": 11,
      "outputs": []
    },
    {
      "cell_type": "code",
      "metadata": {
        "id": "_RlUIDqj_sTm"
      },
      "source": [
        "#Upload de arquivos\n",
        "#from google.colab import files\n",
        "#arquivo = files.upload()"
      ],
      "execution_count": null,
      "outputs": []
    },
    {
      "cell_type": "code",
      "metadata": {
        "colab": {
          "base_uri": "https://localhost:8080/"
        },
        "id": "c9eNXj7mAF0R",
        "outputId": "f5e6661f-d666-4522-cd42-0619e589299e"
      },
      "source": [
        "!wget www.datascientist.com.br/bigdata/download.zip"
      ],
      "execution_count": 12,
      "outputs": [
        {
          "output_type": "stream",
          "name": "stdout",
          "text": [
            "--2021-12-14 09:26:54--  http://www.datascientist.com.br/bigdata/download.zip\n",
            "Resolving www.datascientist.com.br (www.datascientist.com.br)... 108.179.192.203\n",
            "Connecting to www.datascientist.com.br (www.datascientist.com.br)|108.179.192.203|:80... connected.\n",
            "HTTP request sent, awaiting response... 200 OK\n",
            "Length: 207452 (203K) [application/zip]\n",
            "Saving to: ‘download.zip’\n",
            "\n",
            "download.zip        100%[===================>] 202.59K  1.24MB/s    in 0.2s    \n",
            "\n",
            "2021-12-14 09:26:54 (1.24 MB/s) - ‘download.zip’ saved [207452/207452]\n",
            "\n"
          ]
        }
      ]
    },
    {
      "cell_type": "code",
      "metadata": {
        "colab": {
          "base_uri": "https://localhost:8080/"
        },
        "id": "tC8v7Z5MBPb0",
        "outputId": "dfeddbce-026a-4e9e-9117-5bc10965c49e"
      },
      "source": [
        "!unzip /content/download.zip"
      ],
      "execution_count": 13,
      "outputs": [
        {
          "output_type": "stream",
          "name": "stdout",
          "text": [
            "Archive:  /content/download.zip\n",
            "   creating: download/Atividades/\n",
            "  inflating: download/Atividades/Clientes.parquet  \n",
            "  inflating: download/Atividades/ItensVendas.parquet  \n",
            "  inflating: download/Atividades/Produtos.parquet  \n",
            "  inflating: download/Atividades/Vendas.parquet  \n",
            "  inflating: download/Atividades/Vendedores.parquet  \n",
            "  inflating: download/Carros.csv     \n",
            "  inflating: download/Churn.csv      \n",
            "   creating: download/demo/\n",
            "  inflating: download/demo/1.CreateTable.sql  \n",
            "  inflating: download/demo/2.InsertClientes.sql  \n",
            "  inflating: download/demo/3.InsertIntoProdutos.sql  \n",
            "  inflating: download/demo/4.InsertIntoVendedores.sql  \n",
            "  inflating: download/demo/5.InsertIntoVendas.sql  \n",
            "  inflating: download/demo/6.InsertItensVenda.sql  \n",
            "  inflating: download/despachantes.csv  \n",
            "  inflating: download/iris.csv       \n",
            "   creating: download/mongo/\n",
            "  inflating: download/mongo/posts.json  \n",
            "  inflating: download/reclamacoes.csv  \n",
            "   creating: download/streaming/\n",
            "  inflating: download/streaming/1.json14.json  \n",
            "  inflating: download/streaming/2.json44.json  \n",
            "  inflating: download/streaming/3.json14.json  \n",
            "  inflating: download/streaming/4.json26.json  \n",
            "  inflating: download/streaming/5.json29.json  \n",
            "  inflating: download/streaming/6.json14.json  \n",
            "  inflating: download/streaming/7.json59.json  \n"
          ]
        }
      ]
    },
    {
      "cell_type": "markdown",
      "source": [
        "##Principais transformações\n",
        "DataFrames e RDDS"
      ],
      "metadata": {
        "id": "FJoUjPKKXXbX"
      }
    },
    {
      "cell_type": "code",
      "metadata": {
        "id": "yvdooevTCcUg",
        "colab": {
          "base_uri": "https://localhost:8080/"
        },
        "outputId": "ccadbd5c-12e6-4494-e5d5-d7d257a6f50f"
      },
      "source": [
        "#Criando primeiro dataFrame\n",
        "df1 = spark.createDataFrame([(\"Pedro\", 10),(\"Maria\", 20),(\"Jose\",40)])\n",
        "df1.show( )"
      ],
      "execution_count": 14,
      "outputs": [
        {
          "output_type": "stream",
          "name": "stdout",
          "text": [
            "+-----+---+\n",
            "|   _1| _2|\n",
            "+-----+---+\n",
            "|Pedro| 10|\n",
            "|Maria| 20|\n",
            "| Jose| 40|\n",
            "+-----+---+\n",
            "\n"
          ]
        }
      ]
    },
    {
      "cell_type": "code",
      "metadata": {
        "id": "vOEkA6ynDnng"
      },
      "source": [
        "#criando dataFrame com StructField\n",
        "#nao entendi pq passar o data no createDaaFrame deu certo\n",
        "dados = [(\"1\", \"Pedro\"), \n",
        "      (\"2\", \"Maria\")\n",
        "    ]\n",
        "\n",
        "schema = StructType([ \\\n",
        "    StructField(\"id\", StringType(), True),\\\n",
        "    StructField(\"nome\", StringType(), True),\\\n",
        "  ])\n",
        "\n",
        "df2 = spark.createDataFrame(data=data2,schema=schema)\n",
        "df2.printSchema()\n",
        "df2.show()"
      ],
      "execution_count": null,
      "outputs": []
    },
    {
      "cell_type": "code",
      "metadata": {
        "id": "0RGHkwFvet0h",
        "outputId": "b6cd4e11-48da-4dd8-b2c2-7f82ac074883",
        "colab": {
          "base_uri": "https://localhost:8080/"
        }
      },
      "source": [
        "#criando dataFrame sem StructField\n",
        "schema2 = \"Produtos STRING, Vendas INT\"\n",
        "vendas = [[\"Caneta\", 10], [\"Lápis\", 20], [\"Caneta\", 40]]\n",
        "df3 = spark.createDataFrame(vendas, schema2)\n",
        "df3.show()"
      ],
      "execution_count": null,
      "outputs": [
        {
          "output_type": "stream",
          "name": "stdout",
          "text": [
            "+--------+------+\n",
            "|Produtos|Vendas|\n",
            "+--------+------+\n",
            "|  Caneta|    10|\n",
            "|   Lápis|    20|\n",
            "|  Caneta|    40|\n",
            "+--------+------+\n",
            "\n"
          ]
        }
      ]
    },
    {
      "cell_type": "code",
      "metadata": {
        "id": "-SXmY0cUgLot",
        "colab": {
          "base_uri": "https://localhost:8080/"
        },
        "outputId": "a9a277f9-ceef-4dab-8bd4-767c7b2d7014"
      },
      "source": [
        "#trabalhando com sum\n",
        "#precisamos agrupar o que não iremos somar e usar .agg(sum(\"passar coluna com valores\"))\n",
        "agrupados = df3.groupBy(\"Produtos\").agg(sum(\"vendas\"))\n",
        "agrupados.show()"
      ],
      "execution_count": null,
      "outputs": [
        {
          "output_type": "stream",
          "name": "stdout",
          "text": [
            "+--------+-----------+\n",
            "|Produtos|sum(vendas)|\n",
            "+--------+-----------+\n",
            "|  Caneta|         50|\n",
            "|   Lápis|         20|\n",
            "+--------+-----------+\n",
            "\n"
          ]
        }
      ]
    },
    {
      "cell_type": "code",
      "metadata": {
        "id": "cjP3--b4gLhD",
        "colab": {
          "base_uri": "https://localhost:8080/"
        },
        "outputId": "5e34a6c8-3c72-41e4-b294-d4cb97c34de7"
      },
      "source": [
        "#passando o dataFrame direto sem associar ao um novo\n",
        "df3.groupBy(\"Produtos\").agg(sum(\"Vendas\")).show()"
      ],
      "execution_count": null,
      "outputs": [
        {
          "output_type": "stream",
          "name": "stdout",
          "text": [
            "+--------+-----------+\n",
            "|Produtos|sum(Vendas)|\n",
            "+--------+-----------+\n",
            "|  Caneta|         50|\n",
            "|   Lápis|         20|\n",
            "+--------+-----------+\n",
            "\n"
          ]
        }
      ]
    },
    {
      "cell_type": "code",
      "source": [
        "# Trabalhando com select e expressões\n",
        "df3.select('Vendas').show()\n",
        "df3.select('Produtos',\\\n",
        "           'Vendas',\\\n",
        "           expr('Vendas *0.2')).show()"
      ],
      "metadata": {
        "id": "3B93RDy0QH8h",
        "colab": {
          "base_uri": "https://localhost:8080/"
        },
        "outputId": "5cbda743-b15e-4fea-f3d3-fbcee81a45e6"
      },
      "execution_count": null,
      "outputs": [
        {
          "output_type": "stream",
          "name": "stdout",
          "text": [
            "+------+\n",
            "|Vendas|\n",
            "+------+\n",
            "|    10|\n",
            "|    20|\n",
            "|    40|\n",
            "+------+\n",
            "\n",
            "+--------+------+--------------+\n",
            "|Produtos|Vendas|(Vendas * 0.2)|\n",
            "+--------+------+--------------+\n",
            "|  Caneta|    10|           2.0|\n",
            "|   Lápis|    20|           4.0|\n",
            "|  Caneta|    40|           8.0|\n",
            "+--------+------+--------------+\n",
            "\n"
          ]
        }
      ]
    },
    {
      "cell_type": "code",
      "metadata": {
        "id": "IK6dbqzyiFKS",
        "colab": {
          "base_uri": "https://localhost:8080/"
        },
        "outputId": "a0f8cf0c-97de-49c7-9b25-e2903e2a940f"
      },
      "source": [
        "#Trabalhando com exp e select\n",
        "df3.select(\"Vendas\").show()\n",
        "df3.select(\"Produtos\", \"Vendas\", expr(\"Vendas *0.2\")).show()"
      ],
      "execution_count": null,
      "outputs": [
        {
          "output_type": "stream",
          "name": "stdout",
          "text": [
            "+------+\n",
            "|Vendas|\n",
            "+------+\n",
            "|    10|\n",
            "|    20|\n",
            "|    40|\n",
            "+------+\n",
            "\n",
            "+--------+------+--------------+\n",
            "|Produtos|Vendas|(Vendas * 0.2)|\n",
            "+--------+------+--------------+\n",
            "|  Caneta|    10|           2.0|\n",
            "|   Lápis|    20|           4.0|\n",
            "|  Caneta|    40|           8.0|\n",
            "+--------+------+--------------+\n",
            "\n"
          ]
        }
      ]
    },
    {
      "cell_type": "code",
      "metadata": {
        "colab": {
          "base_uri": "https://localhost:8080/"
        },
        "id": "eir9txjWj_rc",
        "outputId": "5d3b33bf-0112-404e-d669-a58abcbb0b1f"
      },
      "source": [
        "#Atribuindo um schema\n",
        "#Ler arquivo csv\n",
        "arqschema = \"id INT, nome STRING, status STRING, cidade STRING, vendas INT, data STRING\"\n",
        "despachantes = spark.read.csv(\n",
        "    \"/content/download/despachantes.csv\",\\\n",
        "    header=False,\\\n",
        "    schema= arqschema\\\n",
        "    )\n",
        "despachantes.show()\n",
        "despachantes.printSchema()"
      ],
      "execution_count": 15,
      "outputs": [
        {
          "output_type": "stream",
          "name": "stdout",
          "text": [
            "+---+-------------------+------+-------------+------+----------+\n",
            "| id|               nome|status|       cidade|vendas|      data|\n",
            "+---+-------------------+------+-------------+------+----------+\n",
            "|  1|   Carminda Pestana| Ativo|  Santa Maria|    23|2020-08-11|\n",
            "|  2|    Deolinda Vilela| Ativo|Novo Hamburgo|    34|2020-03-05|\n",
            "|  3|   Emídio Dornelles| Ativo| Porto Alegre|    34|2020-02-05|\n",
            "|  4|Felisbela Dornelles| Ativo| Porto Alegre|    36|2020-02-05|\n",
            "|  5|     Graça Ornellas| Ativo| Porto Alegre|    12|2020-02-05|\n",
            "|  6|   Matilde Rebouças| Ativo| Porto Alegre|    22|2019-01-05|\n",
            "|  7|    Noêmia   Orriça| Ativo|  Santa Maria|    45|2019-10-05|\n",
            "|  8|      Roque Vásquez| Ativo| Porto Alegre|    65|2020-03-05|\n",
            "|  9|      Uriel Queiroz| Ativo| Porto Alegre|    54|2018-05-05|\n",
            "| 10|   Viviana Sequeira| Ativo| Porto Alegre|     0|2020-09-05|\n",
            "+---+-------------------+------+-------------+------+----------+\n",
            "\n",
            "root\n",
            " |-- id: integer (nullable = true)\n",
            " |-- nome: string (nullable = true)\n",
            " |-- status: string (nullable = true)\n",
            " |-- cidade: string (nullable = true)\n",
            " |-- vendas: integer (nullable = true)\n",
            " |-- data: string (nullable = true)\n",
            "\n"
          ]
        }
      ]
    },
    {
      "cell_type": "code",
      "metadata": {
        "colab": {
          "base_uri": "https://localhost:8080/"
        },
        "id": "Mnj4XMb7mJjO",
        "outputId": "d09c86e9-68ab-4f2b-cdf1-1a494e22a8c4"
      },
      "source": [
        "#Auto schema do spark\n",
        "#Ler arquivo csv\n",
        "#Arquivo sem nome de colunas\n",
        "desp_autoSchema = spark.read.load(\n",
        "    \"/content/download/despachantes.csv\",\\\n",
        "    header = False,\\\n",
        "    format = \"csv\",\\\n",
        "    sep = \",\",\\\n",
        "    inferSchema = True\n",
        ")\n",
        "desp_autoSchema.show()\n",
        "desp_autoSchema.printSchema()"
      ],
      "execution_count": 16,
      "outputs": [
        {
          "output_type": "stream",
          "name": "stdout",
          "text": [
            "+---+-------------------+-----+-------------+---+----------+\n",
            "|_c0|                _c1|  _c2|          _c3|_c4|       _c5|\n",
            "+---+-------------------+-----+-------------+---+----------+\n",
            "|  1|   Carminda Pestana|Ativo|  Santa Maria| 23|2020-08-11|\n",
            "|  2|    Deolinda Vilela|Ativo|Novo Hamburgo| 34|2020-03-05|\n",
            "|  3|   Emídio Dornelles|Ativo| Porto Alegre| 34|2020-02-05|\n",
            "|  4|Felisbela Dornelles|Ativo| Porto Alegre| 36|2020-02-05|\n",
            "|  5|     Graça Ornellas|Ativo| Porto Alegre| 12|2020-02-05|\n",
            "|  6|   Matilde Rebouças|Ativo| Porto Alegre| 22|2019-01-05|\n",
            "|  7|    Noêmia   Orriça|Ativo|  Santa Maria| 45|2019-10-05|\n",
            "|  8|      Roque Vásquez|Ativo| Porto Alegre| 65|2020-03-05|\n",
            "|  9|      Uriel Queiroz|Ativo| Porto Alegre| 54|2018-05-05|\n",
            "| 10|   Viviana Sequeira|Ativo| Porto Alegre|  0|2020-09-05|\n",
            "+---+-------------------+-----+-------------+---+----------+\n",
            "\n",
            "root\n",
            " |-- _c0: integer (nullable = true)\n",
            " |-- _c1: string (nullable = true)\n",
            " |-- _c2: string (nullable = true)\n",
            " |-- _c3: string (nullable = true)\n",
            " |-- _c4: integer (nullable = true)\n",
            " |-- _c5: string (nullable = true)\n",
            "\n"
          ]
        }
      ]
    },
    {
      "cell_type": "code",
      "source": [
        "#Trabalhando com operadores\n",
        "#<, >, &, |\n",
        "despachantes.select('id',\\\n",
        "                    'nome',\\\n",
        "                    'vendas')\\\n",
        "                    .where(Func.col('vendas')>20)\\\n",
        "                    .show()\n",
        "\n",
        "despachantes.select('id',\\\n",
        "                    'nome',\\\n",
        "                    'vendas')\\\n",
        "                    .where((Func.col('vendas')>20) & (Func.col('vendas')<40))\\\n",
        "                    .show()"
      ],
      "metadata": {
        "id": "OdLnLtq4TA2F",
        "colab": {
          "base_uri": "https://localhost:8080/"
        },
        "outputId": "8ceea0bc-00a4-4ddd-8ef7-fe12b7e1c805"
      },
      "execution_count": 18,
      "outputs": [
        {
          "output_type": "stream",
          "name": "stdout",
          "text": [
            "+---+-------------------+------+\n",
            "| id|               nome|vendas|\n",
            "+---+-------------------+------+\n",
            "|  1|   Carminda Pestana|    23|\n",
            "|  2|    Deolinda Vilela|    34|\n",
            "|  3|   Emídio Dornelles|    34|\n",
            "|  4|Felisbela Dornelles|    36|\n",
            "|  6|   Matilde Rebouças|    22|\n",
            "|  7|    Noêmia   Orriça|    45|\n",
            "|  8|      Roque Vásquez|    65|\n",
            "|  9|      Uriel Queiroz|    54|\n",
            "+---+-------------------+------+\n",
            "\n",
            "+---+-------------------+------+\n",
            "| id|               nome|vendas|\n",
            "+---+-------------------+------+\n",
            "|  1|   Carminda Pestana|    23|\n",
            "|  2|    Deolinda Vilela|    34|\n",
            "|  3|   Emídio Dornelles|    34|\n",
            "|  4|Felisbela Dornelles|    36|\n",
            "|  6|   Matilde Rebouças|    22|\n",
            "+---+-------------------+------+\n",
            "\n"
          ]
        }
      ]
    },
    {
      "cell_type": "code",
      "metadata": {
        "id": "W699R6xCopQE",
        "outputId": "758b6463-fe91-4f3e-da12-727322036316",
        "colab": {
          "base_uri": "https://localhost:8080/"
        }
      },
      "source": [
        "despachantes.select\\\n",
        "              ('id', 'nome','vendas')\\\n",
        "            .where(Func.col('vendas')>20).show()\n",
        "despachantes.select\\\n",
        "              ('id', 'nome','vendas')\\\n",
        "            .where((Func.col('vendas')>20) & (Func.col('vendas')<40)).show()"
      ],
      "execution_count": 22,
      "outputs": [
        {
          "output_type": "stream",
          "name": "stdout",
          "text": [
            "+---+-------------------+------+\n",
            "| id|               nome|vendas|\n",
            "+---+-------------------+------+\n",
            "|  1|   Carminda Pestana|    23|\n",
            "|  2|    Deolinda Vilela|    34|\n",
            "|  3|   Emídio Dornelles|    34|\n",
            "|  4|Felisbela Dornelles|    36|\n",
            "|  6|   Matilde Rebouças|    22|\n",
            "|  7|    Noêmia   Orriça|    45|\n",
            "|  8|      Roque Vásquez|    65|\n",
            "|  9|      Uriel Queiroz|    54|\n",
            "+---+-------------------+------+\n",
            "\n",
            "+---+-------------------+------+\n",
            "| id|               nome|vendas|\n",
            "+---+-------------------+------+\n",
            "|  1|   Carminda Pestana|    23|\n",
            "|  2|    Deolinda Vilela|    34|\n",
            "|  3|   Emídio Dornelles|    34|\n",
            "|  4|Felisbela Dornelles|    36|\n",
            "|  6|   Matilde Rebouças|    22|\n",
            "+---+-------------------+------+\n",
            "\n"
          ]
        }
      ]
    },
    {
      "cell_type": "code",
      "source": [
        "# Alterando nome das colunas do dataFrame \n",
        "# Vamos usar o comando withColumnRenamed('colunaAtua','novoNome')\n",
        "# Atencao que printando o schema ele tambem sofre alteracao\n",
        "despachantes2 = despachantes.withColumnRenamed('_c0', 'id')\n",
        "despachantes2 = despachantes2.withColumnRenamed('_c1', 'nome')\n",
        "despachantes2 = despachantes2.withColumnRenamed('_c2', 'status')\n",
        "despachantes2 = despachantes2.withColumnRenamed('_c3', 'cidade')\n",
        "despachantes2 = despachantes2.withColumnRenamed('_c4', 'vendas')\n",
        "despachantes2 = despachantes2.withColumnRenamed('_c5', 'data')\n",
        "\n",
        "despachantes2.columns\n",
        "despachantes2.show()\n",
        "despachantes2.printSchema()\n"
      ],
      "metadata": {
        "colab": {
          "base_uri": "https://localhost:8080/"
        },
        "id": "M8kD20sfb1YG",
        "outputId": "77792ae5-16bc-4cde-afb7-f9fda492f90d"
      },
      "execution_count": 23,
      "outputs": [
        {
          "output_type": "stream",
          "name": "stdout",
          "text": [
            "+---+-------------------+------+-------------+------+----------+\n",
            "| id|               nome|status|       cidade|vendas|      data|\n",
            "+---+-------------------+------+-------------+------+----------+\n",
            "|  1|   Carminda Pestana| Ativo|  Santa Maria|    23|2020-08-11|\n",
            "|  2|    Deolinda Vilela| Ativo|Novo Hamburgo|    34|2020-03-05|\n",
            "|  3|   Emídio Dornelles| Ativo| Porto Alegre|    34|2020-02-05|\n",
            "|  4|Felisbela Dornelles| Ativo| Porto Alegre|    36|2020-02-05|\n",
            "|  5|     Graça Ornellas| Ativo| Porto Alegre|    12|2020-02-05|\n",
            "|  6|   Matilde Rebouças| Ativo| Porto Alegre|    22|2019-01-05|\n",
            "|  7|    Noêmia   Orriça| Ativo|  Santa Maria|    45|2019-10-05|\n",
            "|  8|      Roque Vásquez| Ativo| Porto Alegre|    65|2020-03-05|\n",
            "|  9|      Uriel Queiroz| Ativo| Porto Alegre|    54|2018-05-05|\n",
            "| 10|   Viviana Sequeira| Ativo| Porto Alegre|     0|2020-09-05|\n",
            "+---+-------------------+------+-------------+------+----------+\n",
            "\n",
            "root\n",
            " |-- id: integer (nullable = true)\n",
            " |-- nome: string (nullable = true)\n",
            " |-- status: string (nullable = true)\n",
            " |-- cidade: string (nullable = true)\n",
            " |-- vendas: integer (nullable = true)\n",
            " |-- data: string (nullable = true)\n",
            "\n"
          ]
        }
      ]
    },
    {
      "cell_type": "code",
      "source": [
        "# Alterando tipo string para date com o comando .withColumn passando como paramentro to_timestamp(Fun.col('coluna'), 'yyyy-MM-dd')\n",
        "# convertendo para date  \n",
        "despachantes2 = despachantes2.withColumn('data', to_timestamp(Func.col('data'), 'yyyy-MM-dd'))\n",
        "despachantes2.schema  "
      ],
      "metadata": {
        "colab": {
          "base_uri": "https://localhost:8080/"
        },
        "id": "FGo96Vs2g2CI",
        "outputId": "b858c2d6-af3e-4ce3-816f-e70f09e312e7"
      },
      "execution_count": 25,
      "outputs": [
        {
          "output_type": "execute_result",
          "data": {
            "text/plain": [
              "StructType(List(StructField(id,IntegerType,true),StructField(nome,StringType,true),StructField(status,StringType,true),StructField(cidade,StringType,true),StructField(vendas,IntegerType,true),StructField(data,TimestampType,true)))"
            ]
          },
          "metadata": {},
          "execution_count": 25
        }
      ]
    },
    {
      "cell_type": "code",
      "source": [
        "# Praticando distinct\n",
        "despachantes2.select(year('data')).distinct().show()"
      ],
      "metadata": {
        "colab": {
          "base_uri": "https://localhost:8080/"
        },
        "id": "yrZn6dfmvb-l",
        "outputId": "1ff5289c-4d46-49cc-eeac-6cdfdd63a32e"
      },
      "execution_count": 26,
      "outputs": [
        {
          "output_type": "stream",
          "name": "stdout",
          "text": [
            "+----------+\n",
            "|year(data)|\n",
            "+----------+\n",
            "|      2018|\n",
            "|      2019|\n",
            "|      2020|\n",
            "+----------+\n",
            "\n"
          ]
        }
      ]
    },
    {
      "cell_type": "code",
      "source": [
        "# Praticando orderBy\n",
        "despachantes2.select('nome',year('data')).orderBy('nome').show()"
      ],
      "metadata": {
        "colab": {
          "base_uri": "https://localhost:8080/"
        },
        "id": "bf2bLnqbv06S",
        "outputId": "d7c7977e-b653-4e4a-847a-e1f3a436e167"
      },
      "execution_count": 27,
      "outputs": [
        {
          "output_type": "stream",
          "name": "stdout",
          "text": [
            "+-------------------+----------+\n",
            "|               nome|year(data)|\n",
            "+-------------------+----------+\n",
            "|   Carminda Pestana|      2020|\n",
            "|    Deolinda Vilela|      2020|\n",
            "|   Emídio Dornelles|      2020|\n",
            "|Felisbela Dornelles|      2020|\n",
            "|     Graça Ornellas|      2020|\n",
            "|   Matilde Rebouças|      2019|\n",
            "|    Noêmia   Orriça|      2019|\n",
            "|      Roque Vásquez|      2020|\n",
            "|      Uriel Queiroz|      2018|\n",
            "|   Viviana Sequeira|      2020|\n",
            "+-------------------+----------+\n",
            "\n"
          ]
        }
      ]
    },
    {
      "cell_type": "code",
      "source": [
        "# Praticando groupBy com count\n",
        "despachantes2.select('data').groupBy(year('data')).count().show()"
      ],
      "metadata": {
        "colab": {
          "base_uri": "https://localhost:8080/"
        },
        "id": "WZTzF3OgR9cs",
        "outputId": "8a682678-0f5f-4b1f-bc0d-2e056d1a85b4"
      },
      "execution_count": 30,
      "outputs": [
        {
          "output_type": "stream",
          "name": "stdout",
          "text": [
            "+----------+-----+\n",
            "|year(data)|count|\n",
            "+----------+-----+\n",
            "|      2018|    1|\n",
            "|      2019|    2|\n",
            "|      2020|    7|\n",
            "+----------+-----+\n",
            "\n"
          ]
        }
      ]
    },
    {
      "cell_type": "code",
      "source": [
        "# Praticando sum\n",
        "despachantes2.select(Func.sum('vendas')).show()"
      ],
      "metadata": {
        "colab": {
          "base_uri": "https://localhost:8080/"
        },
        "id": "osOXHLzTSeqh",
        "outputId": "48695fd3-c811-4b04-ae36-81ce547dc7c7"
      },
      "execution_count": 33,
      "outputs": [
        {
          "output_type": "stream",
          "name": "stdout",
          "text": [
            "+-----------+\n",
            "|sum(vendas)|\n",
            "+-----------+\n",
            "|        325|\n",
            "+-----------+\n",
            "\n"
          ]
        }
      ]
    },
    {
      "cell_type": "code",
      "source": [
        "# Praticando orderBy\n",
        "despachantes2.orderBy(Func.col('vendas').desc()).show()"
      ],
      "metadata": {
        "colab": {
          "base_uri": "https://localhost:8080/"
        },
        "id": "_zKuTd65S15E",
        "outputId": "5549b497-31b0-452d-fd1e-a1754b0141b0"
      },
      "execution_count": 34,
      "outputs": [
        {
          "output_type": "stream",
          "name": "stdout",
          "text": [
            "+---+-------------------+------+-------------+------+-------------------+\n",
            "| id|               nome|status|       cidade|vendas|               data|\n",
            "+---+-------------------+------+-------------+------+-------------------+\n",
            "|  8|      Roque Vásquez| Ativo| Porto Alegre|    65|2020-03-05 00:00:00|\n",
            "|  9|      Uriel Queiroz| Ativo| Porto Alegre|    54|2018-05-05 00:00:00|\n",
            "|  7|    Noêmia   Orriça| Ativo|  Santa Maria|    45|2019-10-05 00:00:00|\n",
            "|  4|Felisbela Dornelles| Ativo| Porto Alegre|    36|2020-02-05 00:00:00|\n",
            "|  2|    Deolinda Vilela| Ativo|Novo Hamburgo|    34|2020-03-05 00:00:00|\n",
            "|  3|   Emídio Dornelles| Ativo| Porto Alegre|    34|2020-02-05 00:00:00|\n",
            "|  1|   Carminda Pestana| Ativo|  Santa Maria|    23|2020-08-11 00:00:00|\n",
            "|  6|   Matilde Rebouças| Ativo| Porto Alegre|    22|2019-01-05 00:00:00|\n",
            "|  5|     Graça Ornellas| Ativo| Porto Alegre|    12|2020-02-05 00:00:00|\n",
            "| 10|   Viviana Sequeira| Ativo| Porto Alegre|     0|2020-09-05 00:00:00|\n",
            "+---+-------------------+------+-------------+------+-------------------+\n",
            "\n"
          ]
        }
      ]
    },
    {
      "cell_type": "code",
      "source": [
        "# Praticando orderBy \n",
        "# ordenando nome asc\n",
        "# ordenando cidade desc\n",
        "# ordenando vendas desc\n",
        "despachantes2.orderBy(Func.col('nome').asc(),\\\n",
        "                      Func.col('cidade').desc(),\\\n",
        "                      Func.col('vendas').desc()).show()"
      ],
      "metadata": {
        "colab": {
          "base_uri": "https://localhost:8080/"
        },
        "id": "xDAvFvJLTXiI",
        "outputId": "e0f4e10d-ee29-4143-8b92-d34de22c3aa1"
      },
      "execution_count": 37,
      "outputs": [
        {
          "output_type": "stream",
          "name": "stdout",
          "text": [
            "+---+-------------------+------+-------------+------+-------------------+\n",
            "| id|               nome|status|       cidade|vendas|               data|\n",
            "+---+-------------------+------+-------------+------+-------------------+\n",
            "|  1|   Carminda Pestana| Ativo|  Santa Maria|    23|2020-08-11 00:00:00|\n",
            "|  2|    Deolinda Vilela| Ativo|Novo Hamburgo|    34|2020-03-05 00:00:00|\n",
            "|  3|   Emídio Dornelles| Ativo| Porto Alegre|    34|2020-02-05 00:00:00|\n",
            "|  4|Felisbela Dornelles| Ativo| Porto Alegre|    36|2020-02-05 00:00:00|\n",
            "|  5|     Graça Ornellas| Ativo| Porto Alegre|    12|2020-02-05 00:00:00|\n",
            "|  6|   Matilde Rebouças| Ativo| Porto Alegre|    22|2019-01-05 00:00:00|\n",
            "|  7|    Noêmia   Orriça| Ativo|  Santa Maria|    45|2019-10-05 00:00:00|\n",
            "|  8|      Roque Vásquez| Ativo| Porto Alegre|    65|2020-03-05 00:00:00|\n",
            "|  9|      Uriel Queiroz| Ativo| Porto Alegre|    54|2018-05-05 00:00:00|\n",
            "| 10|   Viviana Sequeira| Ativo| Porto Alegre|     0|2020-09-05 00:00:00|\n",
            "+---+-------------------+------+-------------+------+-------------------+\n",
            "\n"
          ]
        }
      ]
    },
    {
      "cell_type": "code",
      "source": [
        "# Praticando groupBy com sum \n",
        "# somando quantidade de vendas por cidade\n",
        "despachantes2.groupBy('cidade')\\\n",
        "              .agg(sum('vendas')).show()"
      ],
      "metadata": {
        "colab": {
          "base_uri": "https://localhost:8080/"
        },
        "id": "78iE_PcNUr05",
        "outputId": "500c472f-98df-4366-aa2c-dec643b18871"
      },
      "execution_count": 39,
      "outputs": [
        {
          "output_type": "stream",
          "name": "stdout",
          "text": [
            "+-------------+-----------+\n",
            "|       cidade|sum(vendas)|\n",
            "+-------------+-----------+\n",
            "|  Santa Maria|         68|\n",
            "|Novo Hamburgo|         34|\n",
            "| Porto Alegre|        223|\n",
            "+-------------+-----------+\n",
            "\n"
          ]
        }
      ]
    },
    {
      "cell_type": "code",
      "source": [
        "# Praticando groupBy, sum, orderby\n",
        "# agrupando cidade\n",
        "# somando vendas\n",
        "# ordenando coluna do resultado sum\n",
        "despachantes2.groupBy('cidade')\\\n",
        "             .agg(sum('vendas'))\\\n",
        "             .orderBy(Func.col('sum(vendas)'))\\\n",
        "             .show()"
      ],
      "metadata": {
        "colab": {
          "base_uri": "https://localhost:8080/"
        },
        "id": "UQdU3L4bVWzn",
        "outputId": "50145d30-6971-4493-91b1-1b4092b4c3ab"
      },
      "execution_count": 40,
      "outputs": [
        {
          "output_type": "stream",
          "name": "stdout",
          "text": [
            "+-------------+-----------+\n",
            "|       cidade|sum(vendas)|\n",
            "+-------------+-----------+\n",
            "|Novo Hamburgo|         34|\n",
            "|  Santa Maria|         68|\n",
            "| Porto Alegre|        223|\n",
            "+-------------+-----------+\n",
            "\n"
          ]
        }
      ]
    },
    {
      "cell_type": "code",
      "source": [
        "# Praticando filter\n",
        "# buscando nome especifico da tabela\n",
        "despachantes2.filter(Func.col('nome') == 'Deolinda Vilela').show()"
      ],
      "metadata": {
        "colab": {
          "base_uri": "https://localhost:8080/"
        },
        "id": "CWblGD9SW11M",
        "outputId": "11517554-c47b-42c3-a4b0-445ee5f26ae8"
      },
      "execution_count": 41,
      "outputs": [
        {
          "output_type": "stream",
          "name": "stdout",
          "text": [
            "+---+---------------+------+-------------+------+-------------------+\n",
            "| id|           nome|status|       cidade|vendas|               data|\n",
            "+---+---------------+------+-------------+------+-------------------+\n",
            "|  2|Deolinda Vilela| Ativo|Novo Hamburgo|    34|2020-03-05 00:00:00|\n",
            "+---+---------------+------+-------------+------+-------------------+\n",
            "\n"
          ]
        }
      ]
    },
    {
      "cell_type": "markdown",
      "source": [
        "##Salvando tipos de Arquivos\n",
        "\n",
        "\n",
        ">Alterando nome de arquivos salvos\n",
        "\n",
        "\n",
        "\n"
      ],
      "metadata": {
        "id": "RSGVh4foZK_4"
      }
    },
    {
      "cell_type": "code",
      "source": [
        "# Salvando dataFrame despachantes2 \n",
        "# formato parquet, csv, json, orc\n",
        "despachantes2.write.format('parquet').save('/content/dfimportparquet')"
      ],
      "metadata": {
        "id": "JnX2E4AaZU9B"
      },
      "execution_count": 42,
      "outputs": []
    },
    {
      "cell_type": "code",
      "source": [
        "despachantes2.write.format('csv').save('/content/dfimport_csv')"
      ],
      "metadata": {
        "id": "3Luen6cybNr4"
      },
      "execution_count": 43,
      "outputs": []
    },
    {
      "cell_type": "code",
      "source": [
        "despachantes2.write.format('json').save('/content/dfimport_json')"
      ],
      "metadata": {
        "id": "TjOZuivabbYW"
      },
      "execution_count": 46,
      "outputs": []
    },
    {
      "cell_type": "code",
      "source": [
        "despachantes2.write.format('orc').save('/content//dfimport_orc')"
      ],
      "metadata": {
        "id": "Bsg1H0Xzb6J2"
      },
      "execution_count": 47,
      "outputs": []
    },
    {
      "cell_type": "code",
      "source": [
        "gedit part-00000-26791447-cbff-4d76-8b28-782417a43393-c000.csv"
      ],
      "metadata": {
        "id": "we5HZ1C2cGnk"
      },
      "execution_count": null,
      "outputs": []
    },
    {
      "cell_type": "code",
      "source": [
        "# Alterando nome do arquivo para despachantes.csv\n",
        "mv part-00000-26791447-cbff-4d76-8b28-782417a43393-c000.csv despachantes.csv"
      ],
      "metadata": {
        "id": "mYc19dGod46P"
      },
      "execution_count": 54,
      "outputs": []
    },
    {
      "cell_type": "code",
      "source": [
        "# Alterando nome do arquivo para despachantes.json\n",
        "mv part-00000-f3268b17-6220-4c7e-9d30-f6f5f97bf288-c000.json despachantes.json"
      ],
      "metadata": {
        "id": "3b1N4Z7ZeSHf"
      },
      "execution_count": 61,
      "outputs": []
    },
    {
      "cell_type": "code",
      "source": [
        "# Alterando nome do arquivo para despachantes.orc\n"
      ],
      "metadata": {
        "id": "0llOf_T7ewkl",
        "outputId": "3ff40a0d-7de2-47cb-857e-74375224b1a0",
        "colab": {
          "base_uri": "https://localhost:8080/",
          "height": 184
        }
      },
      "execution_count": 62,
      "outputs": [
        {
          "output_type": "error",
          "ename": "NameError",
          "evalue": "ignored",
          "traceback": [
            "\u001b[0;31m---------------------------------------------------------------------------\u001b[0m",
            "\u001b[0;31mNameError\u001b[0m                                 Traceback (most recent call last)",
            "\u001b[0;32m<ipython-input-62-fd393d2b9372>\u001b[0m in \u001b[0;36m<module>\u001b[0;34m()\u001b[0m\n\u001b[1;32m      1\u001b[0m \u001b[0;31m# Alterando nome do arquivo para despachantes.orc\u001b[0m\u001b[0;34m\u001b[0m\u001b[0;34m\u001b[0m\u001b[0;34m\u001b[0m\u001b[0m\n\u001b[0;32m----> 2\u001b[0;31m \u001b[0mls\u001b[0m\u001b[0;34m\u001b[0m\u001b[0;34m\u001b[0m\u001b[0m\n\u001b[0m",
            "\u001b[0;31mNameError\u001b[0m: name 'ls' is not defined"
          ]
        }
      ]
    },
    {
      "cell_type": "code",
      "source": [
        ""
      ],
      "metadata": {
        "id": "_Jp4TcXDe71k"
      },
      "execution_count": 68,
      "outputs": []
    }
  ]
}