{
  "nbformat": 4,
  "nbformat_minor": 0,
  "metadata": {
    "colab": {
      "name": "Spark Udemy",
      "provenance": [],
      "mount_file_id": "1pCcfL-__L6HDKKJKg0PoLcXU63S7sHqV",
      "authorship_tag": "ABX9TyNg5YiV6OMP4ZckA8de+m0j",
      "include_colab_link": true
    },
    "kernelspec": {
      "name": "python3",
      "display_name": "Python 3"
    },
    "language_info": {
      "name": "python"
    }
  },
  "cells": [
    {
      "cell_type": "markdown",
      "metadata": {
        "id": "view-in-github",
        "colab_type": "text"
      },
      "source": [
        "<a href=\"https://colab.research.google.com/github/Wilsonmfreire/Treinando_Spark_com_Pyspark/blob/main/Spark_Udemy.ipynb\" target=\"_parent\"><img src=\"https://colab.research.google.com/assets/colab-badge.svg\" alt=\"Open In Colab\"/></a>"
      ]
    },
    {
      "cell_type": "code",
      "metadata": {
        "id": "rXEf2QJoZ8xK"
      },
      "source": [
        "#Instalando o Java\n",
        "!apt-get install openjdk-8-jdk-headless -qq >/dev/null"
      ],
      "execution_count": 2,
      "outputs": []
    },
    {
      "cell_type": "code",
      "metadata": {
        "id": "56PRwTjB_S-Z"
      },
      "source": [
        "#Baixar a versão mais recente do spark\n",
        "!wget -q https://dlcdn.apache.org/spark/spark-3.2.0/spark-3.2.0-bin-hadoop3.2.tgz"
      ],
      "execution_count": 3,
      "outputs": []
    },
    {
      "cell_type": "code",
      "metadata": {
        "id": "IqW-Q9xd_YVY"
      },
      "source": [
        "#Dezipar spark\n",
        "!tar xf /content/spark-3.2.0-bin-hadoop3.2.tgz"
      ],
      "execution_count": 4,
      "outputs": []
    },
    {
      "cell_type": "code",
      "metadata": {
        "id": "jcb2V4TZ_dqm"
      },
      "source": [
        "#Criar variável de ambiente\n",
        "import os\n",
        "os.environ[\"JAVA_HOME\"] = \"/usr/lib/jvm/java-8-openjdk-amd64/\"\n",
        "os.environ[\"SPARK_HOME\"] = \"/content/spark-3.2.0-bin-hadoop3.2/\""
      ],
      "execution_count": 5,
      "outputs": []
    },
    {
      "cell_type": "code",
      "metadata": {
        "id": "JmkFqKul_gtx"
      },
      "source": [
        "#instalar a lib findspark que ajuda a localizar o Spark no sistema e importá-lo como uma biblioteca regulgar\n",
        "!pip install -q findspark"
      ],
      "execution_count": 6,
      "outputs": []
    },
    {
      "cell_type": "code",
      "metadata": {
        "id": "DuHPp0Hb_gnv"
      },
      "source": [
        "#import a lib findspark\n",
        "import findspark\n",
        "findspark.init()"
      ],
      "execution_count": 7,
      "outputs": []
    },
    {
      "cell_type": "code",
      "metadata": {
        "id": "oQIylWpn_npw"
      },
      "source": [
        "#criar spark session\n",
        "#StructField\n",
        "from pyspark.sql import SparkSession\n",
        "from pyspark.sql.types import *\n",
        "from pyspark.sql import SQLContext\n",
        "from pyspark.sql.functions import * \n",
        "from pyspark.sql import functions as Fun\n",
        "\n",
        "spark = SparkSession.builder\\\n",
        "        .master('local')\\\n",
        "        .appName('sparkcolab')\\\n",
        "        .getOrCreate()"
      ],
      "execution_count": 8,
      "outputs": []
    },
    {
      "cell_type": "code",
      "metadata": {
        "id": "_RlUIDqj_sTm"
      },
      "source": [
        "#Upload de arquivos\n",
        "from google.colab import files\n",
        "arquivo = files.upload()"
      ],
      "execution_count": null,
      "outputs": []
    },
    {
      "cell_type": "code",
      "metadata": {
        "colab": {
          "base_uri": "https://localhost:8080/"
        },
        "id": "c9eNXj7mAF0R",
        "outputId": "b6998489-5ff9-4baf-c1dc-67c0f07c4f7b"
      },
      "source": [
        "!wget www.datascientist.com.br/bigdata/download.zip"
      ],
      "execution_count": 9,
      "outputs": [
        {
          "output_type": "stream",
          "name": "stdout",
          "text": [
            "--2021-12-08 18:10:47--  http://www.datascientist.com.br/bigdata/download.zip\n",
            "Resolving www.datascientist.com.br (www.datascientist.com.br)... 108.179.192.203\n",
            "Connecting to www.datascientist.com.br (www.datascientist.com.br)|108.179.192.203|:80... connected.\n",
            "HTTP request sent, awaiting response... 200 OK\n",
            "Length: 207452 (203K) [application/zip]\n",
            "Saving to: ‘download.zip’\n",
            "\n",
            "download.zip        100%[===================>] 202.59K   423KB/s    in 0.5s    \n",
            "\n",
            "2021-12-08 18:10:48 (423 KB/s) - ‘download.zip’ saved [207452/207452]\n",
            "\n"
          ]
        }
      ]
    },
    {
      "cell_type": "code",
      "metadata": {
        "colab": {
          "base_uri": "https://localhost:8080/"
        },
        "id": "tC8v7Z5MBPb0",
        "outputId": "7a483ac1-b002-4c82-8b5b-02215ad60d84"
      },
      "source": [
        "!unzip /content/download.zip"
      ],
      "execution_count": 10,
      "outputs": [
        {
          "output_type": "stream",
          "name": "stdout",
          "text": [
            "Archive:  /content/download.zip\n",
            "   creating: download/Atividades/\n",
            "  inflating: download/Atividades/Clientes.parquet  \n",
            "  inflating: download/Atividades/ItensVendas.parquet  \n",
            "  inflating: download/Atividades/Produtos.parquet  \n",
            "  inflating: download/Atividades/Vendas.parquet  \n",
            "  inflating: download/Atividades/Vendedores.parquet  \n",
            "  inflating: download/Carros.csv     \n",
            "  inflating: download/Churn.csv      \n",
            "   creating: download/demo/\n",
            "  inflating: download/demo/1.CreateTable.sql  \n",
            "  inflating: download/demo/2.InsertClientes.sql  \n",
            "  inflating: download/demo/3.InsertIntoProdutos.sql  \n",
            "  inflating: download/demo/4.InsertIntoVendedores.sql  \n",
            "  inflating: download/demo/5.InsertIntoVendas.sql  \n",
            "  inflating: download/demo/6.InsertItensVenda.sql  \n",
            "  inflating: download/despachantes.csv  \n",
            "  inflating: download/iris.csv       \n",
            "   creating: download/mongo/\n",
            "  inflating: download/mongo/posts.json  \n",
            "  inflating: download/reclamacoes.csv  \n",
            "   creating: download/streaming/\n",
            "  inflating: download/streaming/1.json14.json  \n",
            "  inflating: download/streaming/2.json44.json  \n",
            "  inflating: download/streaming/3.json14.json  \n",
            "  inflating: download/streaming/4.json26.json  \n",
            "  inflating: download/streaming/5.json29.json  \n",
            "  inflating: download/streaming/6.json14.json  \n",
            "  inflating: download/streaming/7.json59.json  \n"
          ]
        }
      ]
    },
    {
      "cell_type": "code",
      "metadata": {
        "id": "yvdooevTCcUg"
      },
      "source": [
        "#Criando primeiro dataFrame\n",
        "df1 = spark.createDataFrame([(\"Pedro\", 10),(\"Maria\", 20),(\"Jose\",40)])\n",
        "df1.show( )"
      ],
      "execution_count": null,
      "outputs": []
    },
    {
      "cell_type": "code",
      "metadata": {
        "id": "vOEkA6ynDnng"
      },
      "source": [
        "#criando dataFrame com StructField\n",
        "#nao entendi pq passar o data no createDaaFrame deu certo\n",
        "dados = [(\"1\", \"Pedro\"), \n",
        "      (\"2\", \"Maria\")\n",
        "    ]\n",
        "\n",
        "schema = StructType([ \\\n",
        "    StructField(\"id\", StringType(), True),\\\n",
        "    StructField(\"nome\", StringType(), True),\\\n",
        "  ])\n",
        "\n",
        "df2 = spark.createDataFrame(data=data2,schema=schema)\n",
        "df2.printSchema()\n",
        "df2.show()"
      ],
      "execution_count": null,
      "outputs": []
    },
    {
      "cell_type": "code",
      "metadata": {
        "id": "0RGHkwFvet0h"
      },
      "source": [
        "#criando dataFrame sem StructField\n",
        "schema2 = \"Produtos STRING, Vendas INT\"\n",
        "vendas = [[\"Caneta\", 10], [\"Lápis\", 20], [\"Caneta\", 40]]\n",
        "df3 = spark.createDataFrame(vendas, schema2)\n",
        "df3.show()"
      ],
      "execution_count": null,
      "outputs": []
    },
    {
      "cell_type": "code",
      "metadata": {
        "id": "-SXmY0cUgLot"
      },
      "source": [
        "#trabalhando com sum\n",
        "#precisamos agrupar o que não iremos somar e usar .agg(sum(\"passar coluna com valores\"))\n",
        "agrupados = df3.groupBy(\"Produtos\").agg(sum(\"vendas\"))\n",
        "agrupados.show()"
      ],
      "execution_count": null,
      "outputs": []
    },
    {
      "cell_type": "code",
      "metadata": {
        "id": "cjP3--b4gLhD"
      },
      "source": [
        "#passando o dataFrame direto sem associar ao um novo\n",
        "df3.groupBy(\"Produtos\").agg(sum(\"Vendas\")).show()"
      ],
      "execution_count": null,
      "outputs": []
    },
    {
      "cell_type": "code",
      "source": [
        "# Trabalhando com select e expressões\n",
        "df3.select('Vendas').show()\n",
        "df3.select('Produtos',\\\n",
        "           'Vendas',\\\n",
        "           expr('Vendas *0.2')).show()"
      ],
      "metadata": {
        "id": "3B93RDy0QH8h"
      },
      "execution_count": null,
      "outputs": []
    },
    {
      "cell_type": "code",
      "metadata": {
        "id": "IK6dbqzyiFKS"
      },
      "source": [
        "#Trabalhando com exp e select\n",
        "df3.select(\"Vendas\").show()\n",
        "df3.select(\"Produtos\", \"Vendas\", expr(\"Vendas *0.2\")).show()"
      ],
      "execution_count": null,
      "outputs": []
    },
    {
      "cell_type": "code",
      "metadata": {
        "colab": {
          "base_uri": "https://localhost:8080/"
        },
        "id": "eir9txjWj_rc",
        "outputId": "f75ea092-eb00-417d-fc40-35ad2509029d"
      },
      "source": [
        "#Atribuindo um schema\n",
        "#Ler arquivo csv\n",
        "arqschema = \"id INT, nome STRING, status STRING, cidade STRING, vendas INT, data STRING\"\n",
        "despachantes = spark.read.csv(\n",
        "    \"/content/download/despachantes.csv\",\\\n",
        "    header=False,\\\n",
        "    schema= arqschema\\\n",
        "    )\n",
        "despachantes.show()\n",
        "despachantes.printSchema()"
      ],
      "execution_count": 20,
      "outputs": [
        {
          "output_type": "stream",
          "name": "stdout",
          "text": [
            "+---+-------------------+------+-------------+------+----------+\n",
            "| id|               nome|status|       cidade|vendas|      data|\n",
            "+---+-------------------+------+-------------+------+----------+\n",
            "|  1|   Carminda Pestana| Ativo|  Santa Maria|    23|2020-08-11|\n",
            "|  2|    Deolinda Vilela| Ativo|Novo Hamburgo|    34|2020-03-05|\n",
            "|  3|   Emídio Dornelles| Ativo| Porto Alegre|    34|2020-02-05|\n",
            "|  4|Felisbela Dornelles| Ativo| Porto Alegre|    36|2020-02-05|\n",
            "|  5|     Graça Ornellas| Ativo| Porto Alegre|    12|2020-02-05|\n",
            "|  6|   Matilde Rebouças| Ativo| Porto Alegre|    22|2019-01-05|\n",
            "|  7|    Noêmia   Orriça| Ativo|  Santa Maria|    45|2019-10-05|\n",
            "|  8|      Roque Vásquez| Ativo| Porto Alegre|    65|2020-03-05|\n",
            "|  9|      Uriel Queiroz| Ativo| Porto Alegre|    54|2018-05-05|\n",
            "| 10|   Viviana Sequeira| Ativo| Porto Alegre|     0|2020-09-05|\n",
            "+---+-------------------+------+-------------+------+----------+\n",
            "\n",
            "root\n",
            " |-- id: integer (nullable = true)\n",
            " |-- nome: string (nullable = true)\n",
            " |-- status: string (nullable = true)\n",
            " |-- cidade: string (nullable = true)\n",
            " |-- vendas: integer (nullable = true)\n",
            " |-- data: string (nullable = true)\n",
            "\n"
          ]
        }
      ]
    },
    {
      "cell_type": "code",
      "metadata": {
        "colab": {
          "base_uri": "https://localhost:8080/"
        },
        "id": "Mnj4XMb7mJjO",
        "outputId": "140232f3-3b8c-4972-c20f-e4f5016fbdac"
      },
      "source": [
        "#Auto schema do spark\n",
        "#Ler arquivo csv\n",
        "#Arquivo sem nome de colunas\n",
        "desp_autoSchema = spark.read.load(\n",
        "    \"/content/download/despachantes.csv\",\\\n",
        "    header = False,\\\n",
        "    format = \"csv\",\\\n",
        "    sep = \",\",\\\n",
        "    inferSchema = True\n",
        ")\n",
        "desp_autoSchema.show()\n",
        "desp_autoSchema.printSchema()"
      ],
      "execution_count": 21,
      "outputs": [
        {
          "output_type": "stream",
          "name": "stdout",
          "text": [
            "+---+-------------------+-----+-------------+---+----------+\n",
            "|_c0|                _c1|  _c2|          _c3|_c4|       _c5|\n",
            "+---+-------------------+-----+-------------+---+----------+\n",
            "|  1|   Carminda Pestana|Ativo|  Santa Maria| 23|2020-08-11|\n",
            "|  2|    Deolinda Vilela|Ativo|Novo Hamburgo| 34|2020-03-05|\n",
            "|  3|   Emídio Dornelles|Ativo| Porto Alegre| 34|2020-02-05|\n",
            "|  4|Felisbela Dornelles|Ativo| Porto Alegre| 36|2020-02-05|\n",
            "|  5|     Graça Ornellas|Ativo| Porto Alegre| 12|2020-02-05|\n",
            "|  6|   Matilde Rebouças|Ativo| Porto Alegre| 22|2019-01-05|\n",
            "|  7|    Noêmia   Orriça|Ativo|  Santa Maria| 45|2019-10-05|\n",
            "|  8|      Roque Vásquez|Ativo| Porto Alegre| 65|2020-03-05|\n",
            "|  9|      Uriel Queiroz|Ativo| Porto Alegre| 54|2018-05-05|\n",
            "| 10|   Viviana Sequeira|Ativo| Porto Alegre|  0|2020-09-05|\n",
            "+---+-------------------+-----+-------------+---+----------+\n",
            "\n",
            "root\n",
            " |-- _c0: integer (nullable = true)\n",
            " |-- _c1: string (nullable = true)\n",
            " |-- _c2: string (nullable = true)\n",
            " |-- _c3: string (nullable = true)\n",
            " |-- _c4: integer (nullable = true)\n",
            " |-- _c5: string (nullable = true)\n",
            "\n"
          ]
        }
      ]
    },
    {
      "cell_type": "code",
      "source": [
        "#Trabalhando com operadores\n",
        "#<, >, &, |\n",
        "despachantes.select('id',\\\n",
        "                    'nome',\\\n",
        "                    'vendas')\\\n",
        "                    .where(Fun.col('vendas')>20)\\\n",
        "                    .show()\n",
        "\n",
        "despachantes.select('id',\\\n",
        "                    'nome',\\\n",
        "                    'vendas')\\\n",
        "                    .where((Fun.col('vendas')>20) & (Fun.col('vendas')<40))\\\n",
        "                    .show()"
      ],
      "metadata": {
        "id": "OdLnLtq4TA2F"
      },
      "execution_count": null,
      "outputs": []
    },
    {
      "cell_type": "code",
      "metadata": {
        "id": "W699R6xCopQE"
      },
      "source": [
        "despachantes.select('id', 'nome','vendas').where(Fun.col('vendas')>20).show()\n",
        "despachantes.select('id', 'nome','vendas').where((Fun.col('vendas')>20) & (Fun.col('vendas')<40)).show()"
      ],
      "execution_count": null,
      "outputs": []
    }
  ]
}