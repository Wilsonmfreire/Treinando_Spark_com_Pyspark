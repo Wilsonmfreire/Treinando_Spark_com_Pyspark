{
  "nbformat": 4,
  "nbformat_minor": 0,
  "metadata": {
    "colab": {
      "name": "Spark Udemy",
      "provenance": [],
      "mount_file_id": "1pCcfL-__L6HDKKJKg0PoLcXU63S7sHqV",
      "authorship_tag": "ABX9TyMXxHmabxN/VX0fmkDpOJeI",
      "include_colab_link": true
    },
    "kernelspec": {
      "name": "python3",
      "display_name": "Python 3"
    },
    "language_info": {
      "name": "python"
    }
  },
  "cells": [
    {
      "cell_type": "markdown",
      "metadata": {
        "id": "view-in-github",
        "colab_type": "text"
      },
      "source": [
        "<a href=\"https://colab.research.google.com/github/Wilsonmfreire/Treinando_Spark_com_Pyspark/blob/main/Spark_Udemy.ipynb\" target=\"_parent\"><img src=\"https://colab.research.google.com/assets/colab-badge.svg\" alt=\"Open In Colab\"/></a>"
      ]
    },
    {
      "cell_type": "markdown",
      "source": [
        "##Principais configurações\n",
        "script para rodar pyspark\n"
      ],
      "metadata": {
        "id": "lVlZ57PkXoiG"
      }
    },
    {
      "cell_type": "code",
      "metadata": {
        "id": "rXEf2QJoZ8xK"
      },
      "source": [
        "#Instalando o Java\n",
        "!apt-get install openjdk-8-jdk-headless -qq >/dev/null"
      ],
      "execution_count": 2,
      "outputs": []
    },
    {
      "cell_type": "code",
      "metadata": {
        "id": "56PRwTjB_S-Z"
      },
      "source": [
        "#Baixar a versão mais recente do spark\n",
        "!wget -q https://dlcdn.apache.org/spark/spark-3.2.0/spark-3.2.0-bin-hadoop3.2.tgz"
      ],
      "execution_count": 3,
      "outputs": []
    },
    {
      "cell_type": "code",
      "metadata": {
        "id": "IqW-Q9xd_YVY"
      },
      "source": [
        "#Dezipar spark\n",
        "!tar xf /content/spark-3.2.0-bin-hadoop3.2.tgz"
      ],
      "execution_count": 4,
      "outputs": []
    },
    {
      "cell_type": "code",
      "metadata": {
        "id": "jcb2V4TZ_dqm"
      },
      "source": [
        "#Criar variável de ambiente\n",
        "import os\n",
        "os.environ[\"JAVA_HOME\"] = \"/usr/lib/jvm/java-8-openjdk-amd64/\"\n",
        "os.environ[\"SPARK_HOME\"] = \"/content/spark-3.2.0-bin-hadoop3.2/\""
      ],
      "execution_count": 5,
      "outputs": []
    },
    {
      "cell_type": "code",
      "metadata": {
        "id": "JmkFqKul_gtx"
      },
      "source": [
        "#instalar a lib findspark que ajuda a localizar o Spark no sistema e importá-lo como uma biblioteca regulgar\n",
        "!pip install -q findspark"
      ],
      "execution_count": 6,
      "outputs": []
    },
    {
      "cell_type": "code",
      "metadata": {
        "id": "DuHPp0Hb_gnv"
      },
      "source": [
        "#import a lib findspark\n",
        "import findspark\n",
        "findspark.init()"
      ],
      "execution_count": 7,
      "outputs": []
    },
    {
      "cell_type": "code",
      "source": [
        "#criar spark session\n",
        "\n",
        "from pyspark.sql import SparkSession\n",
        "from pyspark.sql.types import *\n",
        "from pyspark.sql import SQLContext\n",
        "from pyspark.sql.functions import  *\n",
        "from pyspark.sql.functions import  col, lit, coalesce\n",
        "from pyspark.sql import functions as Func\n",
        "\n",
        "spark = SparkSession.builder\\\n",
        "        .master('local')\\\n",
        "        .appName('sparkcolab')\\\n",
        "        .getOrCreate()"
      ],
      "metadata": {
        "id": "nB7IvgwyPS7K"
      },
      "execution_count": 124,
      "outputs": []
    },
    {
      "cell_type": "code",
      "metadata": {
        "id": "_RlUIDqj_sTm"
      },
      "source": [
        "#Upload de arquivos\n",
        "#from google.colab import files\n",
        "#arquivo = files.upload()"
      ],
      "execution_count": 9,
      "outputs": []
    },
    {
      "cell_type": "code",
      "metadata": {
        "colab": {
          "base_uri": "https://localhost:8080/"
        },
        "id": "c9eNXj7mAF0R",
        "outputId": "cc231ce1-65d6-4f75-ad5a-703ddf8e6788"
      },
      "source": [
        "!wget www.datascientist.com.br/bigdata/download.zip"
      ],
      "execution_count": 10,
      "outputs": [
        {
          "output_type": "stream",
          "name": "stdout",
          "text": [
            "--2021-12-15 10:28:52--  http://www.datascientist.com.br/bigdata/download.zip\n",
            "Resolving www.datascientist.com.br (www.datascientist.com.br)... 108.179.192.203\n",
            "Connecting to www.datascientist.com.br (www.datascientist.com.br)|108.179.192.203|:80... connected.\n",
            "HTTP request sent, awaiting response... 200 OK\n",
            "Length: 207452 (203K) [application/zip]\n",
            "Saving to: ‘download.zip’\n",
            "\n",
            "download.zip        100%[===================>] 202.59K   292KB/s    in 0.7s    \n",
            "\n",
            "2021-12-15 10:28:54 (292 KB/s) - ‘download.zip’ saved [207452/207452]\n",
            "\n"
          ]
        }
      ]
    },
    {
      "cell_type": "code",
      "metadata": {
        "colab": {
          "base_uri": "https://localhost:8080/"
        },
        "id": "tC8v7Z5MBPb0",
        "outputId": "937cf70b-c0eb-4aea-a375-086b8f1c0111"
      },
      "source": [
        "!unzip /content/download.zip"
      ],
      "execution_count": 11,
      "outputs": [
        {
          "output_type": "stream",
          "name": "stdout",
          "text": [
            "Archive:  /content/download.zip\n",
            "   creating: download/Atividades/\n",
            "  inflating: download/Atividades/Clientes.parquet  \n",
            "  inflating: download/Atividades/ItensVendas.parquet  \n",
            "  inflating: download/Atividades/Produtos.parquet  \n",
            "  inflating: download/Atividades/Vendas.parquet  \n",
            "  inflating: download/Atividades/Vendedores.parquet  \n",
            "  inflating: download/Carros.csv     \n",
            "  inflating: download/Churn.csv      \n",
            "   creating: download/demo/\n",
            "  inflating: download/demo/1.CreateTable.sql  \n",
            "  inflating: download/demo/2.InsertClientes.sql  \n",
            "  inflating: download/demo/3.InsertIntoProdutos.sql  \n",
            "  inflating: download/demo/4.InsertIntoVendedores.sql  \n",
            "  inflating: download/demo/5.InsertIntoVendas.sql  \n",
            "  inflating: download/demo/6.InsertItensVenda.sql  \n",
            "  inflating: download/despachantes.csv  \n",
            "  inflating: download/iris.csv       \n",
            "   creating: download/mongo/\n",
            "  inflating: download/mongo/posts.json  \n",
            "  inflating: download/reclamacoes.csv  \n",
            "   creating: download/streaming/\n",
            "  inflating: download/streaming/1.json14.json  \n",
            "  inflating: download/streaming/2.json44.json  \n",
            "  inflating: download/streaming/3.json14.json  \n",
            "  inflating: download/streaming/4.json26.json  \n",
            "  inflating: download/streaming/5.json29.json  \n",
            "  inflating: download/streaming/6.json14.json  \n",
            "  inflating: download/streaming/7.json59.json  \n"
          ]
        }
      ]
    },
    {
      "cell_type": "markdown",
      "source": [
        "##Principais transformações\n",
        "DataFrames e RDDS"
      ],
      "metadata": {
        "id": "FJoUjPKKXXbX"
      }
    },
    {
      "cell_type": "code",
      "metadata": {
        "id": "yvdooevTCcUg",
        "colab": {
          "base_uri": "https://localhost:8080/"
        },
        "outputId": "61809f1d-e17d-4e90-dd56-000259fd7f9f"
      },
      "source": [
        "#Criando primeiro dataFrame\n",
        "df1 = spark.createDataFrame([(\"Pedro\", 10),(\"Maria\", 20),(\"Jose\",40)])\n",
        "df1.show( )"
      ],
      "execution_count": 12,
      "outputs": [
        {
          "output_type": "stream",
          "name": "stdout",
          "text": [
            "+-----+---+\n",
            "|   _1| _2|\n",
            "+-----+---+\n",
            "|Pedro| 10|\n",
            "|Maria| 20|\n",
            "| Jose| 40|\n",
            "+-----+---+\n",
            "\n"
          ]
        }
      ]
    },
    {
      "cell_type": "code",
      "metadata": {
        "id": "vOEkA6ynDnng"
      },
      "source": [
        "#criando dataFrame com StructField\n",
        "#nao entendi pq passar o data no createDaaFrame deu certo\n",
        "#dados = [(\"1\", \"Pedro\"), \n",
        "#      (\"2\", \"Maria\")\n",
        "#    ]\n",
        "#\n",
        "#schema = StructType([ \\\n",
        "#    StructField(\"id\", StringType(), True),\\\n",
        "#    StructField(\"nome\", StringType(), True),\\\n",
        "#  ])\n",
        "\n",
        "#df2 = spark.createDataFrame(data=data2,schema=schema)\n",
        "#df2.printSchema()\n",
        "#df2.show()"
      ],
      "execution_count": 13,
      "outputs": []
    },
    {
      "cell_type": "code",
      "metadata": {
        "id": "0RGHkwFvet0h",
        "outputId": "33db197f-436e-4cc6-ca9e-41b767c21d2d",
        "colab": {
          "base_uri": "https://localhost:8080/"
        }
      },
      "source": [
        "#criando dataFrame sem StructField\n",
        "schema2 = \"Produtos STRING, Vendas INT\"\n",
        "vendas = [[\"Caneta\", 10], [\"Lápis\", 20], [\"Caneta\", 40]]\n",
        "df3 = spark.createDataFrame(vendas, schema2)\n",
        "df3.show()"
      ],
      "execution_count": 14,
      "outputs": [
        {
          "output_type": "stream",
          "name": "stdout",
          "text": [
            "+--------+------+\n",
            "|Produtos|Vendas|\n",
            "+--------+------+\n",
            "|  Caneta|    10|\n",
            "|   Lápis|    20|\n",
            "|  Caneta|    40|\n",
            "+--------+------+\n",
            "\n"
          ]
        }
      ]
    },
    {
      "cell_type": "code",
      "metadata": {
        "id": "-SXmY0cUgLot",
        "colab": {
          "base_uri": "https://localhost:8080/"
        },
        "outputId": "d17b7d37-21e9-415b-b6ad-adbdf3473377"
      },
      "source": [
        "#trabalhando com sum\n",
        "#precisamos agrupar o que não iremos somar e usar .agg(sum(\"passar coluna com valores\"))\n",
        "agrupados = df3.groupBy(\"Produtos\").agg(sum(\"vendas\"))\n",
        "agrupados.show()"
      ],
      "execution_count": 15,
      "outputs": [
        {
          "output_type": "stream",
          "name": "stdout",
          "text": [
            "+--------+-----------+\n",
            "|Produtos|sum(vendas)|\n",
            "+--------+-----------+\n",
            "|  Caneta|         50|\n",
            "|   Lápis|         20|\n",
            "+--------+-----------+\n",
            "\n"
          ]
        }
      ]
    },
    {
      "cell_type": "code",
      "metadata": {
        "id": "cjP3--b4gLhD",
        "colab": {
          "base_uri": "https://localhost:8080/"
        },
        "outputId": "0646b07d-2083-4836-c270-afe680609c0e"
      },
      "source": [
        "#passando o dataFrame direto sem associar ao um novo\n",
        "df3.groupBy(\"Produtos\").agg(sum(\"Vendas\")).show()"
      ],
      "execution_count": 16,
      "outputs": [
        {
          "output_type": "stream",
          "name": "stdout",
          "text": [
            "+--------+-----------+\n",
            "|Produtos|sum(Vendas)|\n",
            "+--------+-----------+\n",
            "|  Caneta|         50|\n",
            "|   Lápis|         20|\n",
            "+--------+-----------+\n",
            "\n"
          ]
        }
      ]
    },
    {
      "cell_type": "code",
      "source": [
        "# Trabalhando com select e expressões\n",
        "df3.select('Vendas').show()\n",
        "df3.select('Produtos',\\\n",
        "           'Vendas',\\\n",
        "           expr('Vendas *0.2')).show()"
      ],
      "metadata": {
        "id": "3B93RDy0QH8h",
        "colab": {
          "base_uri": "https://localhost:8080/"
        },
        "outputId": "bc75c46b-fba9-4d07-e1bf-33ed34e6be18"
      },
      "execution_count": 17,
      "outputs": [
        {
          "output_type": "stream",
          "name": "stdout",
          "text": [
            "+------+\n",
            "|Vendas|\n",
            "+------+\n",
            "|    10|\n",
            "|    20|\n",
            "|    40|\n",
            "+------+\n",
            "\n",
            "+--------+------+--------------+\n",
            "|Produtos|Vendas|(Vendas * 0.2)|\n",
            "+--------+------+--------------+\n",
            "|  Caneta|    10|           2.0|\n",
            "|   Lápis|    20|           4.0|\n",
            "|  Caneta|    40|           8.0|\n",
            "+--------+------+--------------+\n",
            "\n"
          ]
        }
      ]
    },
    {
      "cell_type": "code",
      "metadata": {
        "id": "IK6dbqzyiFKS",
        "colab": {
          "base_uri": "https://localhost:8080/"
        },
        "outputId": "91ee486e-fe5c-4386-ae7d-a4b1f26ef1d8"
      },
      "source": [
        "#Trabalhando com exp e select\n",
        "df3.select(\"Vendas\").show()\n",
        "df3.select(\"Produtos\", \"Vendas\", expr(\"Vendas *0.2\")).show()"
      ],
      "execution_count": 18,
      "outputs": [
        {
          "output_type": "stream",
          "name": "stdout",
          "text": [
            "+------+\n",
            "|Vendas|\n",
            "+------+\n",
            "|    10|\n",
            "|    20|\n",
            "|    40|\n",
            "+------+\n",
            "\n",
            "+--------+------+--------------+\n",
            "|Produtos|Vendas|(Vendas * 0.2)|\n",
            "+--------+------+--------------+\n",
            "|  Caneta|    10|           2.0|\n",
            "|   Lápis|    20|           4.0|\n",
            "|  Caneta|    40|           8.0|\n",
            "+--------+------+--------------+\n",
            "\n"
          ]
        }
      ]
    },
    {
      "cell_type": "code",
      "metadata": {
        "colab": {
          "base_uri": "https://localhost:8080/"
        },
        "id": "eir9txjWj_rc",
        "outputId": "d5a8259e-491b-459c-d7b3-38a335c68c46"
      },
      "source": [
        "#Atribuindo um schema\n",
        "#Ler arquivo csv\n",
        "arqschema = \"id INT, nome STRING, status STRING, cidade STRING, vendas INT, data STRING\"\n",
        "despachantes = spark.read.csv(\n",
        "    \"/content/download/despachantes.csv\",\\\n",
        "    header=False,\\\n",
        "    schema= arqschema\\\n",
        "    )\n",
        "despachantes.show()\n",
        "despachantes.printSchema()"
      ],
      "execution_count": 19,
      "outputs": [
        {
          "output_type": "stream",
          "name": "stdout",
          "text": [
            "+---+-------------------+------+-------------+------+----------+\n",
            "| id|               nome|status|       cidade|vendas|      data|\n",
            "+---+-------------------+------+-------------+------+----------+\n",
            "|  1|   Carminda Pestana| Ativo|  Santa Maria|    23|2020-08-11|\n",
            "|  2|    Deolinda Vilela| Ativo|Novo Hamburgo|    34|2020-03-05|\n",
            "|  3|   Emídio Dornelles| Ativo| Porto Alegre|    34|2020-02-05|\n",
            "|  4|Felisbela Dornelles| Ativo| Porto Alegre|    36|2020-02-05|\n",
            "|  5|     Graça Ornellas| Ativo| Porto Alegre|    12|2020-02-05|\n",
            "|  6|   Matilde Rebouças| Ativo| Porto Alegre|    22|2019-01-05|\n",
            "|  7|    Noêmia   Orriça| Ativo|  Santa Maria|    45|2019-10-05|\n",
            "|  8|      Roque Vásquez| Ativo| Porto Alegre|    65|2020-03-05|\n",
            "|  9|      Uriel Queiroz| Ativo| Porto Alegre|    54|2018-05-05|\n",
            "| 10|   Viviana Sequeira| Ativo| Porto Alegre|     0|2020-09-05|\n",
            "+---+-------------------+------+-------------+------+----------+\n",
            "\n",
            "root\n",
            " |-- id: integer (nullable = true)\n",
            " |-- nome: string (nullable = true)\n",
            " |-- status: string (nullable = true)\n",
            " |-- cidade: string (nullable = true)\n",
            " |-- vendas: integer (nullable = true)\n",
            " |-- data: string (nullable = true)\n",
            "\n"
          ]
        }
      ]
    },
    {
      "cell_type": "code",
      "metadata": {
        "colab": {
          "base_uri": "https://localhost:8080/"
        },
        "id": "Mnj4XMb7mJjO",
        "outputId": "33b40f7b-affa-4f6e-b9dc-9b33e5a06bd9"
      },
      "source": [
        "#Auto schema do spark\n",
        "#Ler arquivo csv\n",
        "#Arquivo sem nome de colunas\n",
        "desp_autoSchema = spark.read.load(\n",
        "    \"/content/download/despachantes.csv\",\\\n",
        "    header = False,\\\n",
        "    format = \"csv\",\\\n",
        "    sep = \",\",\\\n",
        "    inferSchema = True\n",
        ")\n",
        "desp_autoSchema.show()\n",
        "desp_autoSchema.printSchema()"
      ],
      "execution_count": 20,
      "outputs": [
        {
          "output_type": "stream",
          "name": "stdout",
          "text": [
            "+---+-------------------+-----+-------------+---+----------+\n",
            "|_c0|                _c1|  _c2|          _c3|_c4|       _c5|\n",
            "+---+-------------------+-----+-------------+---+----------+\n",
            "|  1|   Carminda Pestana|Ativo|  Santa Maria| 23|2020-08-11|\n",
            "|  2|    Deolinda Vilela|Ativo|Novo Hamburgo| 34|2020-03-05|\n",
            "|  3|   Emídio Dornelles|Ativo| Porto Alegre| 34|2020-02-05|\n",
            "|  4|Felisbela Dornelles|Ativo| Porto Alegre| 36|2020-02-05|\n",
            "|  5|     Graça Ornellas|Ativo| Porto Alegre| 12|2020-02-05|\n",
            "|  6|   Matilde Rebouças|Ativo| Porto Alegre| 22|2019-01-05|\n",
            "|  7|    Noêmia   Orriça|Ativo|  Santa Maria| 45|2019-10-05|\n",
            "|  8|      Roque Vásquez|Ativo| Porto Alegre| 65|2020-03-05|\n",
            "|  9|      Uriel Queiroz|Ativo| Porto Alegre| 54|2018-05-05|\n",
            "| 10|   Viviana Sequeira|Ativo| Porto Alegre|  0|2020-09-05|\n",
            "+---+-------------------+-----+-------------+---+----------+\n",
            "\n",
            "root\n",
            " |-- _c0: integer (nullable = true)\n",
            " |-- _c1: string (nullable = true)\n",
            " |-- _c2: string (nullable = true)\n",
            " |-- _c3: string (nullable = true)\n",
            " |-- _c4: integer (nullable = true)\n",
            " |-- _c5: string (nullable = true)\n",
            "\n"
          ]
        }
      ]
    },
    {
      "cell_type": "code",
      "source": [
        "#Trabalhando com operadores\n",
        "#<, >, &, |\n",
        "despachantes.select('id',\\\n",
        "                    'nome',\\\n",
        "                    'vendas')\\\n",
        "                    .where(Func.col('vendas')>20)\\\n",
        "                    .show()\n",
        "\n",
        "despachantes.select('id',\\\n",
        "                    'nome',\\\n",
        "                    'vendas')\\\n",
        "                    .where((Func.col('vendas')>20) & (Func.col('vendas')<40))\\\n",
        "                    .show()"
      ],
      "metadata": {
        "id": "OdLnLtq4TA2F",
        "colab": {
          "base_uri": "https://localhost:8080/"
        },
        "outputId": "6dfffc0a-9b90-4730-ebc7-e8047444a0fa"
      },
      "execution_count": 21,
      "outputs": [
        {
          "output_type": "stream",
          "name": "stdout",
          "text": [
            "+---+-------------------+------+\n",
            "| id|               nome|vendas|\n",
            "+---+-------------------+------+\n",
            "|  1|   Carminda Pestana|    23|\n",
            "|  2|    Deolinda Vilela|    34|\n",
            "|  3|   Emídio Dornelles|    34|\n",
            "|  4|Felisbela Dornelles|    36|\n",
            "|  6|   Matilde Rebouças|    22|\n",
            "|  7|    Noêmia   Orriça|    45|\n",
            "|  8|      Roque Vásquez|    65|\n",
            "|  9|      Uriel Queiroz|    54|\n",
            "+---+-------------------+------+\n",
            "\n",
            "+---+-------------------+------+\n",
            "| id|               nome|vendas|\n",
            "+---+-------------------+------+\n",
            "|  1|   Carminda Pestana|    23|\n",
            "|  2|    Deolinda Vilela|    34|\n",
            "|  3|   Emídio Dornelles|    34|\n",
            "|  4|Felisbela Dornelles|    36|\n",
            "|  6|   Matilde Rebouças|    22|\n",
            "+---+-------------------+------+\n",
            "\n"
          ]
        }
      ]
    },
    {
      "cell_type": "code",
      "metadata": {
        "id": "W699R6xCopQE",
        "outputId": "3aa51f1f-b727-4d47-9dc0-c5b859ce0110",
        "colab": {
          "base_uri": "https://localhost:8080/"
        }
      },
      "source": [
        "despachantes.select\\\n",
        "              ('id', 'nome','vendas')\\\n",
        "            .where(Func.col('vendas')>20).show()\n",
        "despachantes.select\\\n",
        "              ('id', 'nome','vendas')\\\n",
        "            .where((Func.col('vendas')>20) & (Func.col('vendas')<40)).show()"
      ],
      "execution_count": 22,
      "outputs": [
        {
          "output_type": "stream",
          "name": "stdout",
          "text": [
            "+---+-------------------+------+\n",
            "| id|               nome|vendas|\n",
            "+---+-------------------+------+\n",
            "|  1|   Carminda Pestana|    23|\n",
            "|  2|    Deolinda Vilela|    34|\n",
            "|  3|   Emídio Dornelles|    34|\n",
            "|  4|Felisbela Dornelles|    36|\n",
            "|  6|   Matilde Rebouças|    22|\n",
            "|  7|    Noêmia   Orriça|    45|\n",
            "|  8|      Roque Vásquez|    65|\n",
            "|  9|      Uriel Queiroz|    54|\n",
            "+---+-------------------+------+\n",
            "\n",
            "+---+-------------------+------+\n",
            "| id|               nome|vendas|\n",
            "+---+-------------------+------+\n",
            "|  1|   Carminda Pestana|    23|\n",
            "|  2|    Deolinda Vilela|    34|\n",
            "|  3|   Emídio Dornelles|    34|\n",
            "|  4|Felisbela Dornelles|    36|\n",
            "|  6|   Matilde Rebouças|    22|\n",
            "+---+-------------------+------+\n",
            "\n"
          ]
        }
      ]
    },
    {
      "cell_type": "code",
      "source": [
        "# Alterando nome das colunas do dataFrame \n",
        "# Vamos usar o comando withColumnRenamed('colunaAtua','novoNome')\n",
        "# Atencao que printando o schema ele tambem sofre alteracao\n",
        "despachantes2 = despachantes.withColumnRenamed('_c0', 'id')\n",
        "despachantes2 = despachantes2.withColumnRenamed('_c1', 'nome')\n",
        "despachantes2 = despachantes2.withColumnRenamed('_c2', 'status')\n",
        "despachantes2 = despachantes2.withColumnRenamed('_c3', 'cidade')\n",
        "despachantes2 = despachantes2.withColumnRenamed('_c4', 'vendas')\n",
        "despachantes2 = despachantes2.withColumnRenamed('_c5', 'data')\n",
        "\n",
        "despachantes2.columns\n",
        "despachantes2.show()\n",
        "despachantes2.printSchema()\n"
      ],
      "metadata": {
        "colab": {
          "base_uri": "https://localhost:8080/"
        },
        "id": "M8kD20sfb1YG",
        "outputId": "af2d16dd-78d2-4c30-c08e-7d1965c7469b"
      },
      "execution_count": 23,
      "outputs": [
        {
          "output_type": "stream",
          "name": "stdout",
          "text": [
            "+---+-------------------+------+-------------+------+----------+\n",
            "| id|               nome|status|       cidade|vendas|      data|\n",
            "+---+-------------------+------+-------------+------+----------+\n",
            "|  1|   Carminda Pestana| Ativo|  Santa Maria|    23|2020-08-11|\n",
            "|  2|    Deolinda Vilela| Ativo|Novo Hamburgo|    34|2020-03-05|\n",
            "|  3|   Emídio Dornelles| Ativo| Porto Alegre|    34|2020-02-05|\n",
            "|  4|Felisbela Dornelles| Ativo| Porto Alegre|    36|2020-02-05|\n",
            "|  5|     Graça Ornellas| Ativo| Porto Alegre|    12|2020-02-05|\n",
            "|  6|   Matilde Rebouças| Ativo| Porto Alegre|    22|2019-01-05|\n",
            "|  7|    Noêmia   Orriça| Ativo|  Santa Maria|    45|2019-10-05|\n",
            "|  8|      Roque Vásquez| Ativo| Porto Alegre|    65|2020-03-05|\n",
            "|  9|      Uriel Queiroz| Ativo| Porto Alegre|    54|2018-05-05|\n",
            "| 10|   Viviana Sequeira| Ativo| Porto Alegre|     0|2020-09-05|\n",
            "+---+-------------------+------+-------------+------+----------+\n",
            "\n",
            "root\n",
            " |-- id: integer (nullable = true)\n",
            " |-- nome: string (nullable = true)\n",
            " |-- status: string (nullable = true)\n",
            " |-- cidade: string (nullable = true)\n",
            " |-- vendas: integer (nullable = true)\n",
            " |-- data: string (nullable = true)\n",
            "\n"
          ]
        }
      ]
    },
    {
      "cell_type": "code",
      "source": [
        "# Alterando tipo string para date com o comando .withColumn passando como paramentro to_timestamp(Fun.col('coluna'), 'yyyy-MM-dd')\n",
        "# convertendo para date  \n",
        "despachantes2 = despachantes2.withColumn('data', to_timestamp(Func.col('data'), 'yyyy-MM-dd'))\n",
        "despachantes2.schema  "
      ],
      "metadata": {
        "colab": {
          "base_uri": "https://localhost:8080/"
        },
        "id": "FGo96Vs2g2CI",
        "outputId": "13844e40-c5fe-4272-fafc-c16746d2ff40"
      },
      "execution_count": 24,
      "outputs": [
        {
          "output_type": "execute_result",
          "data": {
            "text/plain": [
              "StructType(List(StructField(id,IntegerType,true),StructField(nome,StringType,true),StructField(status,StringType,true),StructField(cidade,StringType,true),StructField(vendas,IntegerType,true),StructField(data,TimestampType,true)))"
            ]
          },
          "metadata": {},
          "execution_count": 24
        }
      ]
    },
    {
      "cell_type": "code",
      "source": [
        "# Praticando distinct\n",
        "despachantes2.select(year('data')).distinct().show()"
      ],
      "metadata": {
        "colab": {
          "base_uri": "https://localhost:8080/"
        },
        "id": "yrZn6dfmvb-l",
        "outputId": "ce8df447-c7ac-4b54-edec-b077262cad42"
      },
      "execution_count": 25,
      "outputs": [
        {
          "output_type": "stream",
          "name": "stdout",
          "text": [
            "+----------+\n",
            "|year(data)|\n",
            "+----------+\n",
            "|      2018|\n",
            "|      2019|\n",
            "|      2020|\n",
            "+----------+\n",
            "\n"
          ]
        }
      ]
    },
    {
      "cell_type": "code",
      "source": [
        "# Praticando orderBy\n",
        "despachantes2.select('nome',year('data')).orderBy('nome').show()"
      ],
      "metadata": {
        "colab": {
          "base_uri": "https://localhost:8080/"
        },
        "id": "bf2bLnqbv06S",
        "outputId": "691255e0-e473-4f1c-d7ff-3112f76a1cbe"
      },
      "execution_count": 26,
      "outputs": [
        {
          "output_type": "stream",
          "name": "stdout",
          "text": [
            "+-------------------+----------+\n",
            "|               nome|year(data)|\n",
            "+-------------------+----------+\n",
            "|   Carminda Pestana|      2020|\n",
            "|    Deolinda Vilela|      2020|\n",
            "|   Emídio Dornelles|      2020|\n",
            "|Felisbela Dornelles|      2020|\n",
            "|     Graça Ornellas|      2020|\n",
            "|   Matilde Rebouças|      2019|\n",
            "|    Noêmia   Orriça|      2019|\n",
            "|      Roque Vásquez|      2020|\n",
            "|      Uriel Queiroz|      2018|\n",
            "|   Viviana Sequeira|      2020|\n",
            "+-------------------+----------+\n",
            "\n"
          ]
        }
      ]
    },
    {
      "cell_type": "code",
      "source": [
        "# Praticando groupBy com count\n",
        "despachantes2.select('data').groupBy(year('data')).count().show()"
      ],
      "metadata": {
        "colab": {
          "base_uri": "https://localhost:8080/"
        },
        "id": "WZTzF3OgR9cs",
        "outputId": "1a7b8eab-e6fb-4fa6-a69f-70e843e9d367"
      },
      "execution_count": 27,
      "outputs": [
        {
          "output_type": "stream",
          "name": "stdout",
          "text": [
            "+----------+-----+\n",
            "|year(data)|count|\n",
            "+----------+-----+\n",
            "|      2018|    1|\n",
            "|      2019|    2|\n",
            "|      2020|    7|\n",
            "+----------+-----+\n",
            "\n"
          ]
        }
      ]
    },
    {
      "cell_type": "code",
      "source": [
        "# Praticando sum\n",
        "despachantes2.select(Func.sum('vendas')).show()"
      ],
      "metadata": {
        "colab": {
          "base_uri": "https://localhost:8080/"
        },
        "id": "osOXHLzTSeqh",
        "outputId": "26583262-9b69-457b-a5a7-799eab26824a"
      },
      "execution_count": 28,
      "outputs": [
        {
          "output_type": "stream",
          "name": "stdout",
          "text": [
            "+-----------+\n",
            "|sum(vendas)|\n",
            "+-----------+\n",
            "|        325|\n",
            "+-----------+\n",
            "\n"
          ]
        }
      ]
    },
    {
      "cell_type": "code",
      "source": [
        "# Praticando orderBy\n",
        "despachantes2.orderBy(Func.col('vendas').desc()).show()"
      ],
      "metadata": {
        "colab": {
          "base_uri": "https://localhost:8080/"
        },
        "id": "_zKuTd65S15E",
        "outputId": "a6eceb79-3ff9-488a-ab6c-05753dce9c03"
      },
      "execution_count": 29,
      "outputs": [
        {
          "output_type": "stream",
          "name": "stdout",
          "text": [
            "+---+-------------------+------+-------------+------+-------------------+\n",
            "| id|               nome|status|       cidade|vendas|               data|\n",
            "+---+-------------------+------+-------------+------+-------------------+\n",
            "|  8|      Roque Vásquez| Ativo| Porto Alegre|    65|2020-03-05 00:00:00|\n",
            "|  9|      Uriel Queiroz| Ativo| Porto Alegre|    54|2018-05-05 00:00:00|\n",
            "|  7|    Noêmia   Orriça| Ativo|  Santa Maria|    45|2019-10-05 00:00:00|\n",
            "|  4|Felisbela Dornelles| Ativo| Porto Alegre|    36|2020-02-05 00:00:00|\n",
            "|  2|    Deolinda Vilela| Ativo|Novo Hamburgo|    34|2020-03-05 00:00:00|\n",
            "|  3|   Emídio Dornelles| Ativo| Porto Alegre|    34|2020-02-05 00:00:00|\n",
            "|  1|   Carminda Pestana| Ativo|  Santa Maria|    23|2020-08-11 00:00:00|\n",
            "|  6|   Matilde Rebouças| Ativo| Porto Alegre|    22|2019-01-05 00:00:00|\n",
            "|  5|     Graça Ornellas| Ativo| Porto Alegre|    12|2020-02-05 00:00:00|\n",
            "| 10|   Viviana Sequeira| Ativo| Porto Alegre|     0|2020-09-05 00:00:00|\n",
            "+---+-------------------+------+-------------+------+-------------------+\n",
            "\n"
          ]
        }
      ]
    },
    {
      "cell_type": "code",
      "source": [
        "# Praticando orderBy \n",
        "# ordenando nome asc\n",
        "# ordenando cidade desc\n",
        "# ordenando vendas desc\n",
        "despachantes2.orderBy(Func.col('nome').asc(),\\\n",
        "                      Func.col('cidade').desc(),\\\n",
        "                      Func.col('vendas').desc()).show()"
      ],
      "metadata": {
        "colab": {
          "base_uri": "https://localhost:8080/"
        },
        "id": "xDAvFvJLTXiI",
        "outputId": "3530e947-ca14-48a5-f6f0-8ab1e75249ef"
      },
      "execution_count": 30,
      "outputs": [
        {
          "output_type": "stream",
          "name": "stdout",
          "text": [
            "+---+-------------------+------+-------------+------+-------------------+\n",
            "| id|               nome|status|       cidade|vendas|               data|\n",
            "+---+-------------------+------+-------------+------+-------------------+\n",
            "|  1|   Carminda Pestana| Ativo|  Santa Maria|    23|2020-08-11 00:00:00|\n",
            "|  2|    Deolinda Vilela| Ativo|Novo Hamburgo|    34|2020-03-05 00:00:00|\n",
            "|  3|   Emídio Dornelles| Ativo| Porto Alegre|    34|2020-02-05 00:00:00|\n",
            "|  4|Felisbela Dornelles| Ativo| Porto Alegre|    36|2020-02-05 00:00:00|\n",
            "|  5|     Graça Ornellas| Ativo| Porto Alegre|    12|2020-02-05 00:00:00|\n",
            "|  6|   Matilde Rebouças| Ativo| Porto Alegre|    22|2019-01-05 00:00:00|\n",
            "|  7|    Noêmia   Orriça| Ativo|  Santa Maria|    45|2019-10-05 00:00:00|\n",
            "|  8|      Roque Vásquez| Ativo| Porto Alegre|    65|2020-03-05 00:00:00|\n",
            "|  9|      Uriel Queiroz| Ativo| Porto Alegre|    54|2018-05-05 00:00:00|\n",
            "| 10|   Viviana Sequeira| Ativo| Porto Alegre|     0|2020-09-05 00:00:00|\n",
            "+---+-------------------+------+-------------+------+-------------------+\n",
            "\n"
          ]
        }
      ]
    },
    {
      "cell_type": "code",
      "source": [
        "# Praticando groupBy com sum \n",
        "# somando quantidade de vendas por cidade\n",
        "despachantes2.groupBy('cidade')\\\n",
        "              .agg(sum('vendas')).show()"
      ],
      "metadata": {
        "colab": {
          "base_uri": "https://localhost:8080/"
        },
        "id": "78iE_PcNUr05",
        "outputId": "c92907bc-dd7a-4036-86aa-897408146ea0"
      },
      "execution_count": 31,
      "outputs": [
        {
          "output_type": "stream",
          "name": "stdout",
          "text": [
            "+-------------+-----------+\n",
            "|       cidade|sum(vendas)|\n",
            "+-------------+-----------+\n",
            "|  Santa Maria|         68|\n",
            "|Novo Hamburgo|         34|\n",
            "| Porto Alegre|        223|\n",
            "+-------------+-----------+\n",
            "\n"
          ]
        }
      ]
    },
    {
      "cell_type": "code",
      "source": [
        "# Praticando groupBy, sum, orderby\n",
        "# agrupando cidade\n",
        "# somando vendas\n",
        "# ordenando coluna do resultado sum\n",
        "despachantes2.groupBy('cidade')\\\n",
        "             .agg(sum('vendas'))\\\n",
        "             .orderBy(Func.col('sum(vendas)'))\\\n",
        "             .show()"
      ],
      "metadata": {
        "colab": {
          "base_uri": "https://localhost:8080/"
        },
        "id": "UQdU3L4bVWzn",
        "outputId": "4961f007-073a-40fb-8755-d2201eb83c5b"
      },
      "execution_count": 32,
      "outputs": [
        {
          "output_type": "stream",
          "name": "stdout",
          "text": [
            "+-------------+-----------+\n",
            "|       cidade|sum(vendas)|\n",
            "+-------------+-----------+\n",
            "|Novo Hamburgo|         34|\n",
            "|  Santa Maria|         68|\n",
            "| Porto Alegre|        223|\n",
            "+-------------+-----------+\n",
            "\n"
          ]
        }
      ]
    },
    {
      "cell_type": "code",
      "source": [
        "# Praticando filter\n",
        "# buscando nome especifico da tabela\n",
        "despachantes2.filter(Func.col('nome') == 'Deolinda Vilela').show()"
      ],
      "metadata": {
        "colab": {
          "base_uri": "https://localhost:8080/"
        },
        "id": "CWblGD9SW11M",
        "outputId": "b1cc2aa3-d1ab-423a-b5dd-213669613cf7"
      },
      "execution_count": 33,
      "outputs": [
        {
          "output_type": "stream",
          "name": "stdout",
          "text": [
            "+---+---------------+------+-------------+------+-------------------+\n",
            "| id|           nome|status|       cidade|vendas|               data|\n",
            "+---+---------------+------+-------------+------+-------------------+\n",
            "|  2|Deolinda Vilela| Ativo|Novo Hamburgo|    34|2020-03-05 00:00:00|\n",
            "+---+---------------+------+-------------+------+-------------------+\n",
            "\n"
          ]
        }
      ]
    },
    {
      "cell_type": "markdown",
      "source": [
        "##Manipulando arquivos\n",
        "\n",
        "\n",
        ">Alterando nome de arquivos\\\n",
        ">Salvando dataFrames em formatos diferentes\\\n",
        ">Importando arquivos"
      ],
      "metadata": {
        "id": "RSGVh4foZK_4"
      }
    },
    {
      "cell_type": "code",
      "source": [
        "# Salvando dataFrame despachantes2 \n",
        "# formato parquet, csv, json, orc\n",
        "despachantes2.write.format('parquet').save('/content/dfimportparquet')"
      ],
      "metadata": {
        "id": "JnX2E4AaZU9B"
      },
      "execution_count": 34,
      "outputs": []
    },
    {
      "cell_type": "code",
      "source": [
        "despachantes2.write.format('csv').save('/content/dfimport_csv')"
      ],
      "metadata": {
        "id": "3Luen6cybNr4"
      },
      "execution_count": 35,
      "outputs": []
    },
    {
      "cell_type": "code",
      "source": [
        "despachantes2.write.format('json').save('/content/dfimport_json')"
      ],
      "metadata": {
        "id": "TjOZuivabbYW"
      },
      "execution_count": 36,
      "outputs": []
    },
    {
      "cell_type": "code",
      "source": [
        "despachantes2.write.format('orc').save('/content//dfimport_orc')"
      ],
      "metadata": {
        "id": "Bsg1H0Xzb6J2"
      },
      "execution_count": 37,
      "outputs": []
    },
    {
      "cell_type": "code",
      "source": [
        "mv part-00000-38022888-0f11-431f-bdd2-e123838450d8-c000.snappy.parquet despachantes.parquet"
      ],
      "metadata": {
        "id": "c5aBLDqntZer"
      },
      "execution_count": 61,
      "outputs": []
    },
    {
      "cell_type": "code",
      "source": [
        "par = spark.read.format('parquet').load('/content/dfimportparquet/despachantes.parquet')\n",
        "par.show()"
      ],
      "metadata": {
        "id": "p811MNe_3xxp",
        "outputId": "8738637f-4301-4e50-bdc5-9ec979211bc1",
        "colab": {
          "base_uri": "https://localhost:8080/"
        }
      },
      "execution_count": 62,
      "outputs": [
        {
          "output_type": "stream",
          "name": "stdout",
          "text": [
            "+---+-------------------+------+-------------+------+-------------------+\n",
            "| id|               nome|status|       cidade|vendas|               data|\n",
            "+---+-------------------+------+-------------+------+-------------------+\n",
            "|  1|   Carminda Pestana| Ativo|  Santa Maria|    23|2020-08-11 00:00:00|\n",
            "|  2|    Deolinda Vilela| Ativo|Novo Hamburgo|    34|2020-03-05 00:00:00|\n",
            "|  3|   Emídio Dornelles| Ativo| Porto Alegre|    34|2020-02-05 00:00:00|\n",
            "|  4|Felisbela Dornelles| Ativo| Porto Alegre|    36|2020-02-05 00:00:00|\n",
            "|  5|     Graça Ornellas| Ativo| Porto Alegre|    12|2020-02-05 00:00:00|\n",
            "|  6|   Matilde Rebouças| Ativo| Porto Alegre|    22|2019-01-05 00:00:00|\n",
            "|  7|    Noêmia   Orriça| Ativo|  Santa Maria|    45|2019-10-05 00:00:00|\n",
            "|  8|      Roque Vásquez| Ativo| Porto Alegre|    65|2020-03-05 00:00:00|\n",
            "|  9|      Uriel Queiroz| Ativo| Porto Alegre|    54|2018-05-05 00:00:00|\n",
            "| 10|   Viviana Sequeira| Ativo| Porto Alegre|     0|2020-09-05 00:00:00|\n",
            "+---+-------------------+------+-------------+------+-------------------+\n",
            "\n"
          ]
        }
      ]
    },
    {
      "cell_type": "code",
      "source": [
        "ls"
      ],
      "metadata": {
        "id": "nvpIwX3FuguU",
        "outputId": "e9103765-03ad-4cd5-c464-e01aacfa79a2",
        "colab": {
          "base_uri": "https://localhost:8080/"
        }
      },
      "execution_count": 64,
      "outputs": [
        {
          "output_type": "stream",
          "name": "stdout",
          "text": [
            "despachantes.parquet  _SUCCESS\n"
          ]
        }
      ]
    },
    {
      "cell_type": "code",
      "source": [
        "cd .."
      ],
      "metadata": {
        "id": "dRjX4dp_uild",
        "outputId": "48a6d1bc-009d-4003-ae18-37dec46d21b5",
        "colab": {
          "base_uri": "https://localhost:8080/"
        }
      },
      "execution_count": 65,
      "outputs": [
        {
          "output_type": "stream",
          "name": "stdout",
          "text": [
            "/content\n"
          ]
        }
      ]
    },
    {
      "cell_type": "code",
      "source": [
        "cd dfimport_csv/"
      ],
      "metadata": {
        "id": "05NpkdK9ukFd",
        "outputId": "db49685c-7c95-45cb-9bb8-ad02f3b12109",
        "colab": {
          "base_uri": "https://localhost:8080/"
        }
      },
      "execution_count": 67,
      "outputs": [
        {
          "output_type": "stream",
          "name": "stdout",
          "text": [
            "/content/dfimport_csv\n"
          ]
        }
      ]
    },
    {
      "cell_type": "code",
      "source": [
        "mv part-00000-e8f62f28-47c9-4034-b39d-0a1d9d7349e6-c000.csv despachantes.csv"
      ],
      "metadata": {
        "id": "XG1asA36uplU"
      },
      "execution_count": 69,
      "outputs": []
    },
    {
      "cell_type": "code",
      "source": [
        "cd .."
      ],
      "metadata": {
        "id": "JGbEmjjVu0OM",
        "outputId": "3905d39b-6a34-47ac-d848-1f2ddb7a6a4c",
        "colab": {
          "base_uri": "https://localhost:8080/"
        }
      },
      "execution_count": 70,
      "outputs": [
        {
          "output_type": "stream",
          "name": "stdout",
          "text": [
            "/content\n"
          ]
        }
      ]
    },
    {
      "cell_type": "code",
      "source": [
        "cd dfimport_json/"
      ],
      "metadata": {
        "id": "djLG0OCiu15E",
        "outputId": "bbc7a2c4-5f3f-4a85-da34-4f17eaa01246",
        "colab": {
          "base_uri": "https://localhost:8080/"
        }
      },
      "execution_count": 71,
      "outputs": [
        {
          "output_type": "stream",
          "name": "stdout",
          "text": [
            "/content/dfimport_json\n"
          ]
        }
      ]
    },
    {
      "cell_type": "code",
      "source": [
        "mv part-00000-60a35045-642e-4eaf-a9a7-99c2d1f5e2ce-c000.json despachantes.json"
      ],
      "metadata": {
        "id": "kXTEsbY1u5SE"
      },
      "execution_count": 73,
      "outputs": []
    },
    {
      "cell_type": "code",
      "source": [
        "cd .."
      ],
      "metadata": {
        "id": "7WK8_w4AvBeL",
        "outputId": "89bbb982-eb5c-4a74-b509-eae9d08148f7",
        "colab": {
          "base_uri": "https://localhost:8080/"
        }
      },
      "execution_count": 74,
      "outputs": [
        {
          "output_type": "stream",
          "name": "stdout",
          "text": [
            "/content\n"
          ]
        }
      ]
    },
    {
      "cell_type": "code",
      "source": [
        "cd dfimport_orc/"
      ],
      "metadata": {
        "id": "gpG_O8f8vDxL",
        "outputId": "6bc0d9f6-8694-4ae5-e0f6-0007e8a5f902",
        "colab": {
          "base_uri": "https://localhost:8080/"
        }
      },
      "execution_count": 76,
      "outputs": [
        {
          "output_type": "stream",
          "name": "stdout",
          "text": [
            "/content/dfimport_orc\n"
          ]
        }
      ]
    },
    {
      "cell_type": "code",
      "source": [
        "mv part-00000-221909b8-7824-4358-bec4-975fdfab31a9-c000.snappy.orc despachantes.orc"
      ],
      "metadata": {
        "id": "fd_NN785vI2j"
      },
      "execution_count": 77,
      "outputs": []
    },
    {
      "cell_type": "code",
      "source": [
        "cd .."
      ],
      "metadata": {
        "id": "b4H2EKvivO2z",
        "outputId": "d820a741-3a81-4a01-9e8f-381a3def5ce0",
        "colab": {
          "base_uri": "https://localhost:8080/"
        }
      },
      "execution_count": 79,
      "outputs": [
        {
          "output_type": "stream",
          "name": "stdout",
          "text": [
            "/content\n"
          ]
        }
      ]
    },
    {
      "cell_type": "code",
      "source": [
        "js = spark.read.format('json').load('/content/dfimport_json/despachantes.json')\n",
        "js.show()\n",
        "js.printSchema()"
      ],
      "metadata": {
        "id": "ZSeOY_my4E_g",
        "outputId": "ee73ae04-b886-498c-f82e-dcd1db5501b8",
        "colab": {
          "base_uri": "https://localhost:8080/"
        }
      },
      "execution_count": 78,
      "outputs": [
        {
          "output_type": "stream",
          "name": "stdout",
          "text": [
            "+-------------+--------------------+---+-------------------+------+------+\n",
            "|       cidade|                data| id|               nome|status|vendas|\n",
            "+-------------+--------------------+---+-------------------+------+------+\n",
            "|  Santa Maria|2020-08-11T00:00:...|  1|   Carminda Pestana| Ativo|    23|\n",
            "|Novo Hamburgo|2020-03-05T00:00:...|  2|    Deolinda Vilela| Ativo|    34|\n",
            "| Porto Alegre|2020-02-05T00:00:...|  3|   Emídio Dornelles| Ativo|    34|\n",
            "| Porto Alegre|2020-02-05T00:00:...|  4|Felisbela Dornelles| Ativo|    36|\n",
            "| Porto Alegre|2020-02-05T00:00:...|  5|     Graça Ornellas| Ativo|    12|\n",
            "| Porto Alegre|2019-01-05T00:00:...|  6|   Matilde Rebouças| Ativo|    22|\n",
            "|  Santa Maria|2019-10-05T00:00:...|  7|    Noêmia   Orriça| Ativo|    45|\n",
            "| Porto Alegre|2020-03-05T00:00:...|  8|      Roque Vásquez| Ativo|    65|\n",
            "| Porto Alegre|2018-05-05T00:00:...|  9|      Uriel Queiroz| Ativo|    54|\n",
            "| Porto Alegre|2020-09-05T00:00:...| 10|   Viviana Sequeira| Ativo|     0|\n",
            "+-------------+--------------------+---+-------------------+------+------+\n",
            "\n",
            "root\n",
            " |-- cidade: string (nullable = true)\n",
            " |-- data: string (nullable = true)\n",
            " |-- id: long (nullable = true)\n",
            " |-- nome: string (nullable = true)\n",
            " |-- status: string (nullable = true)\n",
            " |-- vendas: long (nullable = true)\n",
            "\n"
          ]
        }
      ]
    },
    {
      "cell_type": "code",
      "source": [
        "csv = spark.read.format('csv').load('/content/dfimport_csv/despachantes.csv')\n",
        "csv.show()\n",
        "csv.printSchema()"
      ],
      "metadata": {
        "id": "ZClA5fgQ4bFW",
        "outputId": "e237c82c-d71b-47fb-9554-21455a9d01e0",
        "colab": {
          "base_uri": "https://localhost:8080/"
        }
      },
      "execution_count": 80,
      "outputs": [
        {
          "output_type": "stream",
          "name": "stdout",
          "text": [
            "+---+-------------------+-----+-------------+---+--------------------+\n",
            "|_c0|                _c1|  _c2|          _c3|_c4|                 _c5|\n",
            "+---+-------------------+-----+-------------+---+--------------------+\n",
            "|  1|   Carminda Pestana|Ativo|  Santa Maria| 23|2020-08-11T00:00:...|\n",
            "|  2|    Deolinda Vilela|Ativo|Novo Hamburgo| 34|2020-03-05T00:00:...|\n",
            "|  3|   Emídio Dornelles|Ativo| Porto Alegre| 34|2020-02-05T00:00:...|\n",
            "|  4|Felisbela Dornelles|Ativo| Porto Alegre| 36|2020-02-05T00:00:...|\n",
            "|  5|     Graça Ornellas|Ativo| Porto Alegre| 12|2020-02-05T00:00:...|\n",
            "|  6|   Matilde Rebouças|Ativo| Porto Alegre| 22|2019-01-05T00:00:...|\n",
            "|  7|    Noêmia   Orriça|Ativo|  Santa Maria| 45|2019-10-05T00:00:...|\n",
            "|  8|      Roque Vásquez|Ativo| Porto Alegre| 65|2020-03-05T00:00:...|\n",
            "|  9|      Uriel Queiroz|Ativo| Porto Alegre| 54|2018-05-05T00:00:...|\n",
            "| 10|   Viviana Sequeira|Ativo| Porto Alegre|  0|2020-09-05T00:00:...|\n",
            "+---+-------------------+-----+-------------+---+--------------------+\n",
            "\n",
            "root\n",
            " |-- _c0: string (nullable = true)\n",
            " |-- _c1: string (nullable = true)\n",
            " |-- _c2: string (nullable = true)\n",
            " |-- _c3: string (nullable = true)\n",
            " |-- _c4: string (nullable = true)\n",
            " |-- _c5: string (nullable = true)\n",
            "\n"
          ]
        }
      ]
    },
    {
      "cell_type": "code",
      "source": [
        "orc = spark.read.format('orc').load('/content/dfimport_orc/despachantes.orc')\n",
        "orc.show()\n",
        "orc.printSchema()"
      ],
      "metadata": {
        "id": "15Hh-DDI4mp-",
        "outputId": "8326db64-ab8f-4220-a75b-f166ce0468a7",
        "colab": {
          "base_uri": "https://localhost:8080/"
        }
      },
      "execution_count": 81,
      "outputs": [
        {
          "output_type": "stream",
          "name": "stdout",
          "text": [
            "+---+-------------------+------+-------------+------+-------------------+\n",
            "| id|               nome|status|       cidade|vendas|               data|\n",
            "+---+-------------------+------+-------------+------+-------------------+\n",
            "|  1|   Carminda Pestana| Ativo|  Santa Maria|    23|2020-08-11 00:00:00|\n",
            "|  2|    Deolinda Vilela| Ativo|Novo Hamburgo|    34|2020-03-05 00:00:00|\n",
            "|  3|   Emídio Dornelles| Ativo| Porto Alegre|    34|2020-02-05 00:00:00|\n",
            "|  4|Felisbela Dornelles| Ativo| Porto Alegre|    36|2020-02-05 00:00:00|\n",
            "|  5|     Graça Ornellas| Ativo| Porto Alegre|    12|2020-02-05 00:00:00|\n",
            "|  6|   Matilde Rebouças| Ativo| Porto Alegre|    22|2019-01-05 00:00:00|\n",
            "|  7|    Noêmia   Orriça| Ativo|  Santa Maria|    45|2019-10-05 00:00:00|\n",
            "|  8|      Roque Vásquez| Ativo| Porto Alegre|    65|2020-03-05 00:00:00|\n",
            "|  9|      Uriel Queiroz| Ativo| Porto Alegre|    54|2018-05-05 00:00:00|\n",
            "| 10|   Viviana Sequeira| Ativo| Porto Alegre|     0|2020-09-05 00:00:00|\n",
            "+---+-------------------+------+-------------+------+-------------------+\n",
            "\n",
            "root\n",
            " |-- id: integer (nullable = true)\n",
            " |-- nome: string (nullable = true)\n",
            " |-- status: string (nullable = true)\n",
            " |-- cidade: string (nullable = true)\n",
            " |-- vendas: integer (nullable = true)\n",
            " |-- data: timestamp (nullable = true)\n",
            "\n"
          ]
        }
      ]
    },
    {
      "cell_type": "code",
      "source": [
        "cs2 = spark.read.format('csv').load('/content/dfimport_csv/despachantes.csv', schema = arqschema)\n",
        "cs2.show()\n",
        "cs2.printSchema()"
      ],
      "metadata": {
        "id": "Je2Q2Rii6IJj",
        "outputId": "1a919cd5-591b-4f25-d304-85f6a0dd3dee",
        "colab": {
          "base_uri": "https://localhost:8080/"
        }
      },
      "execution_count": 82,
      "outputs": [
        {
          "output_type": "stream",
          "name": "stdout",
          "text": [
            "+---+-------------------+------+-------------+------+--------------------+\n",
            "| id|               nome|status|       cidade|vendas|                data|\n",
            "+---+-------------------+------+-------------+------+--------------------+\n",
            "|  1|   Carminda Pestana| Ativo|  Santa Maria|    23|2020-08-11T00:00:...|\n",
            "|  2|    Deolinda Vilela| Ativo|Novo Hamburgo|    34|2020-03-05T00:00:...|\n",
            "|  3|   Emídio Dornelles| Ativo| Porto Alegre|    34|2020-02-05T00:00:...|\n",
            "|  4|Felisbela Dornelles| Ativo| Porto Alegre|    36|2020-02-05T00:00:...|\n",
            "|  5|     Graça Ornellas| Ativo| Porto Alegre|    12|2020-02-05T00:00:...|\n",
            "|  6|   Matilde Rebouças| Ativo| Porto Alegre|    22|2019-01-05T00:00:...|\n",
            "|  7|    Noêmia   Orriça| Ativo|  Santa Maria|    45|2019-10-05T00:00:...|\n",
            "|  8|      Roque Vásquez| Ativo| Porto Alegre|    65|2020-03-05T00:00:...|\n",
            "|  9|      Uriel Queiroz| Ativo| Porto Alegre|    54|2018-05-05T00:00:...|\n",
            "| 10|   Viviana Sequeira| Ativo| Porto Alegre|     0|2020-09-05T00:00:...|\n",
            "+---+-------------------+------+-------------+------+--------------------+\n",
            "\n",
            "root\n",
            " |-- id: integer (nullable = true)\n",
            " |-- nome: string (nullable = true)\n",
            " |-- status: string (nullable = true)\n",
            " |-- cidade: string (nullable = true)\n",
            " |-- vendas: integer (nullable = true)\n",
            " |-- data: string (nullable = true)\n",
            "\n"
          ]
        }
      ]
    },
    {
      "cell_type": "markdown",
      "source": [
        "# Faça você mesmo "
      ],
      "metadata": {
        "id": "BOpFXODLv0_Z"
      }
    },
    {
      "cell_type": "markdown",
      "source": [
        "No 'Manipulando arquivos' treinei navegação entre pastas, agora irei navegar dentro dos (  ) até chegar no destino desejado!"
      ],
      "metadata": {
        "id": "feYOcZSVwybm"
      }
    },
    {
      "cell_type": "code",
      "source": [
        "# importando arquivo clientes no formado parquet já com schema\n",
        "clientes = spark.read.load('/content/download/Atividades/Clientes.parquet')\n",
        "clientes.show(2)\n",
        "clientes.printSchema()"
      ],
      "metadata": {
        "id": "_6rwALhG1Z36",
        "outputId": "19ff5d84-3d5a-408f-9aea-4e8cfbacc0e5",
        "colab": {
          "base_uri": "https://localhost:8080/"
        }
      },
      "execution_count": 94,
      "outputs": [
        {
          "output_type": "stream",
          "name": "stdout",
          "text": [
            "+---------+--------------------+------+------+------+\n",
            "|ClienteID|             Cliente|Estado|Genero|Status|\n",
            "+---------+--------------------+------+------+------+\n",
            "|        1|Adelina Buenaventura|    RJ|     M|Silver|\n",
            "|        2|        Adelino Gago|    RJ|     M|Silver|\n",
            "+---------+--------------------+------+------+------+\n",
            "only showing top 2 rows\n",
            "\n",
            "root\n",
            " |-- ClienteID: long (nullable = true)\n",
            " |-- Cliente: string (nullable = true)\n",
            " |-- Estado: string (nullable = true)\n",
            " |-- Genero: string (nullable = true)\n",
            " |-- Status: string (nullable = true)\n",
            "\n"
          ]
        }
      ]
    },
    {
      "cell_type": "code",
      "source": [
        "# importando arquivo vendas no formado parquet já com schema\n",
        "vendas = spark.read.load('/content/download/Atividades/Vendas.parquet')\n",
        "vendas.show(2)\n",
        "vendas.printSchema()"
      ],
      "metadata": {
        "id": "uM3h5gDZ18Xw",
        "outputId": "9a768255-401c-4f42-c56e-ba92fa75c39b",
        "colab": {
          "base_uri": "https://localhost:8080/"
        }
      },
      "execution_count": 96,
      "outputs": [
        {
          "output_type": "stream",
          "name": "stdout",
          "text": [
            "+--------+----------+---------+--------+------+\n",
            "|VendasID|VendedorID|ClienteID|    Data| Total|\n",
            "+--------+----------+---------+--------+------+\n",
            "|       1|         1|       91|1/1/2019|8053.6|\n",
            "|       2|         6|      185|1/1/2020| 150.4|\n",
            "+--------+----------+---------+--------+------+\n",
            "only showing top 2 rows\n",
            "\n",
            "root\n",
            " |-- VendasID: long (nullable = true)\n",
            " |-- VendedorID: long (nullable = true)\n",
            " |-- ClienteID: long (nullable = true)\n",
            " |-- Data: string (nullable = true)\n",
            " |-- Total: double (nullable = true)\n",
            "\n"
          ]
        }
      ]
    },
    {
      "cell_type": "code",
      "source": [
        "# importando arquivo vendedores no formado parquet já com schema\n",
        "vendedores = spark.read.load('/content/download/Atividades/Vendedores.parquet')\n",
        "vendedores.show(2)\n",
        "vendedores.printSchema()"
      ],
      "metadata": {
        "id": "UFVb2R102dyH",
        "outputId": "6d9db10d-d852-4d55-9426-b0e1fa9551a3",
        "colab": {
          "base_uri": "https://localhost:8080/"
        }
      },
      "execution_count": 98,
      "outputs": [
        {
          "output_type": "stream",
          "name": "stdout",
          "text": [
            "+----------+----------------+\n",
            "|VendedorID|        Vendedor|\n",
            "+----------+----------------+\n",
            "|         1|    Armando Lago|\n",
            "|         2|Capitolino Bahía|\n",
            "+----------+----------------+\n",
            "only showing top 2 rows\n",
            "\n",
            "root\n",
            " |-- VendedorID: long (nullable = true)\n",
            " |-- Vendedor: string (nullable = true)\n",
            "\n"
          ]
        }
      ]
    },
    {
      "cell_type": "code",
      "source": [
        "atividade1 = clientes.select('Cliente',\\\n",
        "                'Estado',\\\n",
        "                'Status')\n",
        "atividade1.show()"
      ],
      "metadata": {
        "id": "1Fg5e3Fh2yiF",
        "outputId": "9e906a97-33c5-4b47-b1cb-fb1140b83fb0",
        "colab": {
          "base_uri": "https://localhost:8080/"
        }
      },
      "execution_count": 104,
      "outputs": [
        {
          "output_type": "stream",
          "name": "stdout",
          "text": [
            "+--------------------+------+--------+\n",
            "|             Cliente|Estado|  Status|\n",
            "+--------------------+------+--------+\n",
            "|Adelina Buenaventura|    RJ|  Silver|\n",
            "|        Adelino Gago|    RJ|  Silver|\n",
            "|     Adolfo Patrício|    PE|  Silver|\n",
            "|    Adriana Guedelha|    RO|Platinum|\n",
            "|       Adélio Lisboa|    SE|  Silver|\n",
            "|       Adérito Bahía|    MA|  Silver|\n",
            "|       Aida Dorneles|    RN|  Silver|\n",
            "|   Alarico Quinterno|    AC|  Silver|\n",
            "|    Alberto Cezimbra|    AM|  Silver|\n",
            "|    Alberto Monsanto|    RN|    Gold|\n",
            "|       Albino Canela|    AC|  Silver|\n",
            "|     Alceste Varanda|    RR|  Silver|\n",
            "|  Alcides Carvalhais|    RO|  Silver|\n",
            "|        Aldo Martins|    GO|  Silver|\n",
            "|   Alexandra Tabares|    MG|  Silver|\n",
            "|      Alfredo Cotrim|    SC|  Silver|\n",
            "|     Almeno Figueira|    SC|  Silver|\n",
            "|      Alvito Peralta|    AM|  Silver|\n",
            "|     Amadeu Martinho|    RN|  Silver|\n",
            "|      Amélia Estévez|    PE|  Silver|\n",
            "+--------------------+------+--------+\n",
            "only showing top 20 rows\n",
            "\n"
          ]
        }
      ]
    },
    {
      "cell_type": "code",
      "source": [
        "clientes.select('*').where((Func.col('Status') == 'Gold') or (Func.col('Status') == 'Platinum')).show()"
      ],
      "metadata": {
        "id": "k_IcVaQ38Vz_",
        "outputId": "4c7d3d7a-4e6c-4c4c-e816-ff156e891688",
        "colab": {
          "base_uri": "https://localhost:8080/",
          "height": 288
        }
      },
      "execution_count": 130,
      "outputs": [
        {
          "output_type": "error",
          "ename": "ValueError",
          "evalue": "ignored",
          "traceback": [
            "\u001b[0;31m---------------------------------------------------------------------------\u001b[0m",
            "\u001b[0;31mValueError\u001b[0m                                Traceback (most recent call last)",
            "\u001b[0;32m<ipython-input-130-5c447e62f658>\u001b[0m in \u001b[0;36m<module>\u001b[0;34m()\u001b[0m\n\u001b[0;32m----> 1\u001b[0;31m \u001b[0mclientes\u001b[0m\u001b[0;34m.\u001b[0m\u001b[0mselect\u001b[0m\u001b[0;34m(\u001b[0m\u001b[0;34m'*'\u001b[0m\u001b[0;34m)\u001b[0m\u001b[0;34m.\u001b[0m\u001b[0mwhere\u001b[0m\u001b[0;34m(\u001b[0m\u001b[0;34m(\u001b[0m\u001b[0mFunc\u001b[0m\u001b[0;34m.\u001b[0m\u001b[0mcol\u001b[0m\u001b[0;34m(\u001b[0m\u001b[0;34m'Status'\u001b[0m\u001b[0;34m)\u001b[0m \u001b[0;34m==\u001b[0m \u001b[0;34m'Gold'\u001b[0m\u001b[0;34m)\u001b[0m \u001b[0;32mor\u001b[0m \u001b[0;34m(\u001b[0m\u001b[0mFunc\u001b[0m\u001b[0;34m.\u001b[0m\u001b[0mcol\u001b[0m\u001b[0;34m(\u001b[0m\u001b[0;34m'Status'\u001b[0m\u001b[0;34m)\u001b[0m \u001b[0;34m==\u001b[0m \u001b[0;34m'Platinum'\u001b[0m\u001b[0;34m)\u001b[0m\u001b[0;34m)\u001b[0m\u001b[0;34m.\u001b[0m\u001b[0mshow\u001b[0m\u001b[0;34m(\u001b[0m\u001b[0;34m)\u001b[0m\u001b[0;34m\u001b[0m\u001b[0;34m\u001b[0m\u001b[0m\n\u001b[0m",
            "\u001b[0;32m/content/spark-3.2.0-bin-hadoop3.2/python/pyspark/sql/column.py\u001b[0m in \u001b[0;36m__nonzero__\u001b[0;34m(self)\u001b[0m\n\u001b[1;32m    905\u001b[0m \u001b[0;34m\u001b[0m\u001b[0m\n\u001b[1;32m    906\u001b[0m     \u001b[0;32mdef\u001b[0m \u001b[0m__nonzero__\u001b[0m\u001b[0;34m(\u001b[0m\u001b[0mself\u001b[0m\u001b[0;34m)\u001b[0m\u001b[0;34m:\u001b[0m\u001b[0;34m\u001b[0m\u001b[0;34m\u001b[0m\u001b[0m\n\u001b[0;32m--> 907\u001b[0;31m         raise ValueError(\"Cannot convert column into bool: please use '&' for 'and', '|' for 'or', \"\n\u001b[0m\u001b[1;32m    908\u001b[0m                          \"'~' for 'not' when building DataFrame boolean expressions.\")\n\u001b[1;32m    909\u001b[0m     \u001b[0m__bool__\u001b[0m \u001b[0;34m=\u001b[0m \u001b[0m__nonzero__\u001b[0m\u001b[0;34m\u001b[0m\u001b[0;34m\u001b[0m\u001b[0m\n",
            "\u001b[0;31mValueError\u001b[0m: Cannot convert column into bool: please use '&' for 'and', '|' for 'or', '~' for 'not' when building DataFrame boolean expressions."
          ]
        }
      ]
    },
    {
      "cell_type": "code",
      "source": [
        "clientes.select\\\n",
        "        ('Cliente', 'Status')\\\n",
        "        .where((Func.col('Status') == 'Gold') │ (Func.col('Status') == 'Platinum'))\\\n",
        "        .show()"
      ],
      "metadata": {
        "id": "MLtkTGoP4PkH",
        "outputId": "baad8e65-1624-451c-afc4-de5901220579",
        "colab": {
          "base_uri": "https://localhost:8080/",
          "height": 131
        }
      },
      "execution_count": 125,
      "outputs": [
        {
          "output_type": "error",
          "ename": "SyntaxError",
          "evalue": "ignored",
          "traceback": [
            "\u001b[0;36m  File \u001b[0;32m\"<ipython-input-125-0a735dc8be99>\"\u001b[0;36m, line \u001b[0;32m1\u001b[0m\n\u001b[0;31m    clientes.select        ('Cliente', 'Status')        .where((Func.col('Status') == 'Gold') │ (Func.col('Status') == 'Platinum'))        .show()\u001b[0m\n\u001b[0m                                                                                              ^\u001b[0m\n\u001b[0;31mSyntaxError\u001b[0m\u001b[0;31m:\u001b[0m invalid character in identifier\n"
          ]
        }
      ]
    }
  ]
}