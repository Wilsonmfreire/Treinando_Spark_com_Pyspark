{
  "nbformat": 4,
  "nbformat_minor": 0,
  "metadata": {
    "colab": {
      "name": "Spark Udemy",
      "provenance": [],
      "mount_file_id": "1pCcfL-__L6HDKKJKg0PoLcXU63S7sHqV",
      "authorship_tag": "ABX9TyP8Q0VBdOggY5662N5j24C5",
      "include_colab_link": true
    },
    "kernelspec": {
      "name": "python3",
      "display_name": "Python 3"
    },
    "language_info": {
      "name": "python"
    }
  },
  "cells": [
    {
      "cell_type": "markdown",
      "metadata": {
        "id": "view-in-github",
        "colab_type": "text"
      },
      "source": [
        "<a href=\"https://colab.research.google.com/github/Wilsonmfreire/Treinando_Spark_com_Pyspark/blob/main/Spark_Udemy.ipynb\" target=\"_parent\"><img src=\"https://colab.research.google.com/assets/colab-badge.svg\" alt=\"Open In Colab\"/></a>"
      ]
    },
    {
      "cell_type": "code",
      "metadata": {
        "id": "rXEf2QJoZ8xK"
      },
      "source": [
        "#Instalando o Java\n",
        "!apt-get install openjdk-8-jdk-headless -qq >/dev/null"
      ],
      "execution_count": null,
      "outputs": []
    },
    {
      "cell_type": "code",
      "metadata": {
        "id": "56PRwTjB_S-Z"
      },
      "source": [
        "#Baixar a versão mais recente do spark\n",
        "!wget -q https://dlcdn.apache.org/spark/spark-3.2.0/spark-3.2.0-bin-hadoop3.2.tgz"
      ],
      "execution_count": null,
      "outputs": []
    },
    {
      "cell_type": "code",
      "metadata": {
        "id": "IqW-Q9xd_YVY"
      },
      "source": [
        "#Dezipar spark\n",
        "!tar xf /content/spark-3.2.0-bin-hadoop3.2.tgz"
      ],
      "execution_count": null,
      "outputs": []
    },
    {
      "cell_type": "code",
      "metadata": {
        "id": "jcb2V4TZ_dqm"
      },
      "source": [
        "#Criar variável de ambiente\n",
        "import os\n",
        "os.environ[\"JAVA_HOME\"] = \"/usr/lib/jvm/java-8-openjdk-amd64/\"\n",
        "os.environ[\"SPARK_HOME\"] = \"/content/spark-3.2.0-bin-hadoop3.2/\""
      ],
      "execution_count": null,
      "outputs": []
    },
    {
      "cell_type": "code",
      "metadata": {
        "id": "JmkFqKul_gtx"
      },
      "source": [
        "#instalar a lib findspark que ajuda a localizar o Spark no sistema e importá-lo como uma biblioteca regulgar\n",
        "!pip install -q findspark"
      ],
      "execution_count": null,
      "outputs": []
    },
    {
      "cell_type": "code",
      "metadata": {
        "id": "DuHPp0Hb_gnv"
      },
      "source": [
        "#import a lib findspark\n",
        "import findspark\n",
        "findspark.init()"
      ],
      "execution_count": null,
      "outputs": []
    },
    {
      "cell_type": "code",
      "metadata": {
        "id": "oQIylWpn_npw"
      },
      "source": [
        "#criar spark session\n",
        "#StructField\n",
        "from pyspark.sql import SparkSession\n",
        "from pyspark.sql.types import *\n",
        "from pyspark.sql import SQLContext\n",
        "from pyspark.sql.functions import * \n",
        "from pyspark.sql import functions as Fun\n",
        "\n",
        "spark = SparkSession.builder\\\n",
        "        .master('local')\\\n",
        "        .appName('sparkcolab')\\\n",
        "        .getOrCreate()"
      ],
      "execution_count": 62,
      "outputs": []
    },
    {
      "cell_type": "code",
      "metadata": {
        "id": "_RlUIDqj_sTm"
      },
      "source": [
        "#Upload de arquivos\n",
        "from google.colab import files\n",
        "arquivo = files.upload()"
      ],
      "execution_count": null,
      "outputs": []
    },
    {
      "cell_type": "code",
      "metadata": {
        "colab": {
          "base_uri": "https://localhost:8080/"
        },
        "id": "c9eNXj7mAF0R",
        "outputId": "b6998489-5ff9-4baf-c1dc-67c0f07c4f7b"
      },
      "source": [
        "!wget www.datascientist.com.br/bigdata/download.zip"
      ],
      "execution_count": null,
      "outputs": [
        {
          "output_type": "stream",
          "name": "stdout",
          "text": [
            "--2021-12-08 18:10:47--  http://www.datascientist.com.br/bigdata/download.zip\n",
            "Resolving www.datascientist.com.br (www.datascientist.com.br)... 108.179.192.203\n",
            "Connecting to www.datascientist.com.br (www.datascientist.com.br)|108.179.192.203|:80... connected.\n",
            "HTTP request sent, awaiting response... 200 OK\n",
            "Length: 207452 (203K) [application/zip]\n",
            "Saving to: ‘download.zip’\n",
            "\n",
            "download.zip        100%[===================>] 202.59K   423KB/s    in 0.5s    \n",
            "\n",
            "2021-12-08 18:10:48 (423 KB/s) - ‘download.zip’ saved [207452/207452]\n",
            "\n"
          ]
        }
      ]
    },
    {
      "cell_type": "code",
      "metadata": {
        "colab": {
          "base_uri": "https://localhost:8080/"
        },
        "id": "tC8v7Z5MBPb0",
        "outputId": "7a483ac1-b002-4c82-8b5b-02215ad60d84"
      },
      "source": [
        "!unzip /content/download.zip"
      ],
      "execution_count": null,
      "outputs": [
        {
          "output_type": "stream",
          "name": "stdout",
          "text": [
            "Archive:  /content/download.zip\n",
            "   creating: download/Atividades/\n",
            "  inflating: download/Atividades/Clientes.parquet  \n",
            "  inflating: download/Atividades/ItensVendas.parquet  \n",
            "  inflating: download/Atividades/Produtos.parquet  \n",
            "  inflating: download/Atividades/Vendas.parquet  \n",
            "  inflating: download/Atividades/Vendedores.parquet  \n",
            "  inflating: download/Carros.csv     \n",
            "  inflating: download/Churn.csv      \n",
            "   creating: download/demo/\n",
            "  inflating: download/demo/1.CreateTable.sql  \n",
            "  inflating: download/demo/2.InsertClientes.sql  \n",
            "  inflating: download/demo/3.InsertIntoProdutos.sql  \n",
            "  inflating: download/demo/4.InsertIntoVendedores.sql  \n",
            "  inflating: download/demo/5.InsertIntoVendas.sql  \n",
            "  inflating: download/demo/6.InsertItensVenda.sql  \n",
            "  inflating: download/despachantes.csv  \n",
            "  inflating: download/iris.csv       \n",
            "   creating: download/mongo/\n",
            "  inflating: download/mongo/posts.json  \n",
            "  inflating: download/reclamacoes.csv  \n",
            "   creating: download/streaming/\n",
            "  inflating: download/streaming/1.json14.json  \n",
            "  inflating: download/streaming/2.json44.json  \n",
            "  inflating: download/streaming/3.json14.json  \n",
            "  inflating: download/streaming/4.json26.json  \n",
            "  inflating: download/streaming/5.json29.json  \n",
            "  inflating: download/streaming/6.json14.json  \n",
            "  inflating: download/streaming/7.json59.json  \n"
          ]
        }
      ]
    },
    {
      "cell_type": "code",
      "metadata": {
        "id": "yvdooevTCcUg",
        "colab": {
          "base_uri": "https://localhost:8080/"
        },
        "outputId": "52df1dfa-6d87-4b7b-ff9f-aa5dfcfd2beb"
      },
      "source": [
        "#Criando primeiro dataFrame\n",
        "df1 = spark.createDataFrame([(\"Pedro\", 10),(\"Maria\", 20),(\"Jose\",40)])\n",
        "df1.show( )"
      ],
      "execution_count": 79,
      "outputs": [
        {
          "output_type": "stream",
          "name": "stdout",
          "text": [
            "+-----+---+\n",
            "|   _1| _2|\n",
            "+-----+---+\n",
            "|Pedro| 10|\n",
            "|Maria| 20|\n",
            "| Jose| 40|\n",
            "+-----+---+\n",
            "\n"
          ]
        }
      ]
    },
    {
      "cell_type": "code",
      "metadata": {
        "id": "vOEkA6ynDnng"
      },
      "source": [
        "#criando dataFrame com StructField\n",
        "#nao entendi pq passar o data no createDaaFrame deu certo\n",
        "dados = [(\"1\", \"Pedro\"), \n",
        "      (\"2\", \"Maria\")\n",
        "    ]\n",
        "\n",
        "schema = StructType([ \\\n",
        "    StructField(\"id\", StringType(), True),\\\n",
        "    StructField(\"nome\", StringType(), True),\\\n",
        "  ])\n",
        "\n",
        "df2 = spark.createDataFrame(data=data2,schema=schema)\n",
        "df2.printSchema()\n",
        "df2.show()"
      ],
      "execution_count": null,
      "outputs": []
    },
    {
      "cell_type": "code",
      "metadata": {
        "id": "0RGHkwFvet0h"
      },
      "source": [
        "#criando dataFrame sem StructField\n",
        "schema2 = \"Produtos STRING, Vendas INT\"\n",
        "vendas = [[\"Caneta\", 10], [\"Lápis\", 20], [\"Caneta\", 40]]\n",
        "df3 = spark.createDataFrame(vendas, schema2)\n",
        "df3.show()"
      ],
      "execution_count": null,
      "outputs": []
    },
    {
      "cell_type": "code",
      "metadata": {
        "id": "-SXmY0cUgLot",
        "colab": {
          "base_uri": "https://localhost:8080/"
        },
        "outputId": "7f370e52-52e3-408a-dff4-fc1f11dd8351"
      },
      "source": [
        "#trabalhando com sum\n",
        "#precisamos agrupar o que não iremos somar e usar .agg(sum(\"passar coluna com valores\"))\n",
        "agrupados = df3.groupBy(\"Produtos\").agg(sum(\"vendas\"))\n",
        "agrupados.show()"
      ],
      "execution_count": 81,
      "outputs": [
        {
          "output_type": "stream",
          "name": "stdout",
          "text": [
            "+--------+-----------+\n",
            "|Produtos|sum(vendas)|\n",
            "+--------+-----------+\n",
            "|  Caneta|         50|\n",
            "|   Lápis|         20|\n",
            "+--------+-----------+\n",
            "\n"
          ]
        }
      ]
    },
    {
      "cell_type": "code",
      "metadata": {
        "id": "cjP3--b4gLhD",
        "colab": {
          "base_uri": "https://localhost:8080/"
        },
        "outputId": "cd927450-62ef-4c29-e344-57aaae50b25f"
      },
      "source": [
        "#passando o dataFrame direto sem associar ao um novo\n",
        "df3.groupBy(\"Produtos\").agg(sum(\"Vendas\")).show()"
      ],
      "execution_count": 82,
      "outputs": [
        {
          "output_type": "stream",
          "name": "stdout",
          "text": [
            "+--------+-----------+\n",
            "|Produtos|sum(Vendas)|\n",
            "+--------+-----------+\n",
            "|  Caneta|         50|\n",
            "|   Lápis|         20|\n",
            "+--------+-----------+\n",
            "\n"
          ]
        }
      ]
    },
    {
      "cell_type": "code",
      "source": [
        "# Trabalhando com select e expressões\n",
        "df3.select('Vendas').show()\n",
        "df3.select('Produtos',\\\n",
        "           'Vendas',\\\n",
        "           expr('Vendas *0.2')).show()"
      ],
      "metadata": {
        "id": "3B93RDy0QH8h",
        "colab": {
          "base_uri": "https://localhost:8080/"
        },
        "outputId": "5eed878f-77f5-40f6-bca6-8ec0674c1a12"
      },
      "execution_count": 83,
      "outputs": [
        {
          "output_type": "stream",
          "name": "stdout",
          "text": [
            "+------+\n",
            "|Vendas|\n",
            "+------+\n",
            "|    10|\n",
            "|    20|\n",
            "|    40|\n",
            "+------+\n",
            "\n",
            "+--------+------+--------------+\n",
            "|Produtos|Vendas|(Vendas * 0.2)|\n",
            "+--------+------+--------------+\n",
            "|  Caneta|    10|           2.0|\n",
            "|   Lápis|    20|           4.0|\n",
            "|  Caneta|    40|           8.0|\n",
            "+--------+------+--------------+\n",
            "\n"
          ]
        }
      ]
    },
    {
      "cell_type": "code",
      "metadata": {
        "id": "IK6dbqzyiFKS",
        "colab": {
          "base_uri": "https://localhost:8080/"
        },
        "outputId": "8f3abd86-4977-4adb-f50f-864e35309c30"
      },
      "source": [
        "#Trabalhando com exp e select\n",
        "df3.select(\"Vendas\").show()\n",
        "df3.select(\"Produtos\", \"Vendas\", expr(\"Vendas *0.2\")).show()"
      ],
      "execution_count": 84,
      "outputs": [
        {
          "output_type": "stream",
          "name": "stdout",
          "text": [
            "+------+\n",
            "|Vendas|\n",
            "+------+\n",
            "|    10|\n",
            "|    20|\n",
            "|    40|\n",
            "+------+\n",
            "\n",
            "+--------+------+--------------+\n",
            "|Produtos|Vendas|(Vendas * 0.2)|\n",
            "+--------+------+--------------+\n",
            "|  Caneta|    10|           2.0|\n",
            "|   Lápis|    20|           4.0|\n",
            "|  Caneta|    40|           8.0|\n",
            "+--------+------+--------------+\n",
            "\n"
          ]
        }
      ]
    },
    {
      "cell_type": "code",
      "metadata": {
        "colab": {
          "base_uri": "https://localhost:8080/"
        },
        "id": "eir9txjWj_rc",
        "outputId": "5300ebfe-8338-4bd6-882d-97b2cbb92516"
      },
      "source": [
        "#Atribuindo um schema\n",
        "#Ler arquivo csv\n",
        "arqschema = \"id INT, nome STRING, status STRING, cidade STRING, vendas INT, data STRING\"\n",
        "despachantes = spark.read.csv(\n",
        "    \"/content/download/despachantes.csv\",\\\n",
        "    header=False,\\\n",
        "    schema= arqschema\\\n",
        "    )\n",
        "despachantes.show()\n",
        "despachantes.printSchema()"
      ],
      "execution_count": 85,
      "outputs": [
        {
          "output_type": "stream",
          "name": "stdout",
          "text": [
            "+---+-------------------+------+-------------+------+----------+\n",
            "| id|               nome|status|       cidade|vendas|      data|\n",
            "+---+-------------------+------+-------------+------+----------+\n",
            "|  1|   Carminda Pestana| Ativo|  Santa Maria|    23|2020-08-11|\n",
            "|  2|    Deolinda Vilela| Ativo|Novo Hamburgo|    34|2020-03-05|\n",
            "|  3|   Emídio Dornelles| Ativo| Porto Alegre|    34|2020-02-05|\n",
            "|  4|Felisbela Dornelles| Ativo| Porto Alegre|    36|2020-02-05|\n",
            "|  5|     Graça Ornellas| Ativo| Porto Alegre|    12|2020-02-05|\n",
            "|  6|   Matilde Rebouças| Ativo| Porto Alegre|    22|2019-01-05|\n",
            "|  7|    Noêmia   Orriça| Ativo|  Santa Maria|    45|2019-10-05|\n",
            "|  8|      Roque Vásquez| Ativo| Porto Alegre|    65|2020-03-05|\n",
            "|  9|      Uriel Queiroz| Ativo| Porto Alegre|    54|2018-05-05|\n",
            "| 10|   Viviana Sequeira| Ativo| Porto Alegre|     0|2020-09-05|\n",
            "+---+-------------------+------+-------------+------+----------+\n",
            "\n",
            "root\n",
            " |-- id: integer (nullable = true)\n",
            " |-- nome: string (nullable = true)\n",
            " |-- status: string (nullable = true)\n",
            " |-- cidade: string (nullable = true)\n",
            " |-- vendas: integer (nullable = true)\n",
            " |-- data: string (nullable = true)\n",
            "\n"
          ]
        }
      ]
    },
    {
      "cell_type": "code",
      "metadata": {
        "colab": {
          "base_uri": "https://localhost:8080/"
        },
        "id": "Mnj4XMb7mJjO",
        "outputId": "478d3f59-e1e1-4c86-92d5-6731c27ce00b"
      },
      "source": [
        "#Auto schema do spark\n",
        "#Ler arquivo csv\n",
        "#Arquivo sem nome de colunas\n",
        "desp_autoSchema = spark.read.load(\n",
        "    \"/content/download/despachantes.csv\",\\\n",
        "    header = False,\\\n",
        "    format = \"csv\",\\\n",
        "    sep = \",\",\\\n",
        "    inferSchema = True\n",
        ")\n",
        "desp_autoSchema.show()\n",
        "desp_autoSchema.printSchema()"
      ],
      "execution_count": 86,
      "outputs": [
        {
          "output_type": "stream",
          "name": "stdout",
          "text": [
            "+---+-------------------+-----+-------------+---+----------+\n",
            "|_c0|                _c1|  _c2|          _c3|_c4|       _c5|\n",
            "+---+-------------------+-----+-------------+---+----------+\n",
            "|  1|   Carminda Pestana|Ativo|  Santa Maria| 23|2020-08-11|\n",
            "|  2|    Deolinda Vilela|Ativo|Novo Hamburgo| 34|2020-03-05|\n",
            "|  3|   Emídio Dornelles|Ativo| Porto Alegre| 34|2020-02-05|\n",
            "|  4|Felisbela Dornelles|Ativo| Porto Alegre| 36|2020-02-05|\n",
            "|  5|     Graça Ornellas|Ativo| Porto Alegre| 12|2020-02-05|\n",
            "|  6|   Matilde Rebouças|Ativo| Porto Alegre| 22|2019-01-05|\n",
            "|  7|    Noêmia   Orriça|Ativo|  Santa Maria| 45|2019-10-05|\n",
            "|  8|      Roque Vásquez|Ativo| Porto Alegre| 65|2020-03-05|\n",
            "|  9|      Uriel Queiroz|Ativo| Porto Alegre| 54|2018-05-05|\n",
            "| 10|   Viviana Sequeira|Ativo| Porto Alegre|  0|2020-09-05|\n",
            "+---+-------------------+-----+-------------+---+----------+\n",
            "\n",
            "root\n",
            " |-- _c0: integer (nullable = true)\n",
            " |-- _c1: string (nullable = true)\n",
            " |-- _c2: string (nullable = true)\n",
            " |-- _c3: string (nullable = true)\n",
            " |-- _c4: integer (nullable = true)\n",
            " |-- _c5: string (nullable = true)\n",
            "\n"
          ]
        }
      ]
    },
    {
      "cell_type": "code",
      "source": [
        "#Trabalhando com operadores\n",
        "#<, >, &, |\n",
        "despachantes.select('id',\\\n",
        "                    'nome',\\\n",
        "                    'vendas')\\\n",
        "                    .where(Fun.col('vendas')>20)\\\n",
        "                    .show()\n",
        "\n",
        "despachantes.select('id',\\\n",
        "                    'nome',\\\n",
        "                    'vendas')\\\n",
        "                    .where((Fun.col('vendas')>20) & (Fun.col('vendas')<40))\\\n",
        "                    .show()"
      ],
      "metadata": {
        "id": "OdLnLtq4TA2F",
        "colab": {
          "base_uri": "https://localhost:8080/"
        },
        "outputId": "f076e977-fd0a-42ca-9c8d-cd6f67b7a959"
      },
      "execution_count": 87,
      "outputs": [
        {
          "output_type": "stream",
          "name": "stdout",
          "text": [
            "+---+-------------------+------+\n",
            "| id|               nome|vendas|\n",
            "+---+-------------------+------+\n",
            "|  1|   Carminda Pestana|    23|\n",
            "|  2|    Deolinda Vilela|    34|\n",
            "|  3|   Emídio Dornelles|    34|\n",
            "|  4|Felisbela Dornelles|    36|\n",
            "|  6|   Matilde Rebouças|    22|\n",
            "|  7|    Noêmia   Orriça|    45|\n",
            "|  8|      Roque Vásquez|    65|\n",
            "|  9|      Uriel Queiroz|    54|\n",
            "+---+-------------------+------+\n",
            "\n",
            "+---+-------------------+------+\n",
            "| id|               nome|vendas|\n",
            "+---+-------------------+------+\n",
            "|  1|   Carminda Pestana|    23|\n",
            "|  2|    Deolinda Vilela|    34|\n",
            "|  3|   Emídio Dornelles|    34|\n",
            "|  4|Felisbela Dornelles|    36|\n",
            "|  6|   Matilde Rebouças|    22|\n",
            "+---+-------------------+------+\n",
            "\n"
          ]
        }
      ]
    },
    {
      "cell_type": "code",
      "metadata": {
        "id": "W699R6xCopQE"
      },
      "source": [
        "despachantes.select('id', 'nome','vendas').where(Fun.col('vendas')>20).show()\n",
        "despachantes.select('id', 'nome','vendas').where((Fun.col('vendas')>20) & (Fun.col('vendas')<40)).show()"
      ],
      "execution_count": null,
      "outputs": []
    },
    {
      "cell_type": "code",
      "source": [
        "# Alterando nome das colunas do dataFrame \n",
        "# Vamos usar o comando withColumnRenamed('colunaAtua','novoNome')\n",
        "# Atencao que printando o schema ele tambem sofre alteracao\n",
        "despachantes2 = despachantes2.withColumnRenamed('_c0', 'id')\n",
        "despachantes2 = despachantes2.withColumnRenamed('_c1', 'nome')\n",
        "despachantes2 = despachantes2.withColumnRenamed('_c2', 'status')\n",
        "despachantes2 = despachantes2.withColumnRenamed('_c3', 'cidade')\n",
        "despachantes2 = despachantes2.withColumnRenamed('_c4', 'vendas')\n",
        "despachantes2 = despachantes2.withColumnRenamed('_c5', 'data')\n",
        "\n",
        "despachantes2.columns\n",
        "despachantes2.show()\n",
        "despachantes2.printSchema()\n"
      ],
      "metadata": {
        "colab": {
          "base_uri": "https://localhost:8080/"
        },
        "id": "M8kD20sfb1YG",
        "outputId": "be4a3338-e71e-4f23-fc4b-9524ae71b0d2"
      },
      "execution_count": 57,
      "outputs": [
        {
          "output_type": "stream",
          "name": "stdout",
          "text": [
            "+---+-------------------+------+-------------+------+----------+\n",
            "| id|               nome|status|       cidade|vendas|      data|\n",
            "+---+-------------------+------+-------------+------+----------+\n",
            "|  1|   Carminda Pestana| Ativo|  Santa Maria|    23|2020-08-11|\n",
            "|  2|    Deolinda Vilela| Ativo|Novo Hamburgo|    34|2020-03-05|\n",
            "|  3|   Emídio Dornelles| Ativo| Porto Alegre|    34|2020-02-05|\n",
            "|  4|Felisbela Dornelles| Ativo| Porto Alegre|    36|2020-02-05|\n",
            "|  5|     Graça Ornellas| Ativo| Porto Alegre|    12|2020-02-05|\n",
            "|  6|   Matilde Rebouças| Ativo| Porto Alegre|    22|2019-01-05|\n",
            "|  7|    Noêmia   Orriça| Ativo|  Santa Maria|    45|2019-10-05|\n",
            "|  8|      Roque Vásquez| Ativo| Porto Alegre|    65|2020-03-05|\n",
            "|  9|      Uriel Queiroz| Ativo| Porto Alegre|    54|2018-05-05|\n",
            "| 10|   Viviana Sequeira| Ativo| Porto Alegre|     0|2020-09-05|\n",
            "+---+-------------------+------+-------------+------+----------+\n",
            "\n",
            "root\n",
            " |-- id: integer (nullable = true)\n",
            " |-- nome: string (nullable = true)\n",
            " |-- status: string (nullable = true)\n",
            " |-- cidade: string (nullable = true)\n",
            " |-- vendas: integer (nullable = true)\n",
            " |-- data: string (nullable = true)\n",
            "\n"
          ]
        }
      ]
    },
    {
      "cell_type": "code",
      "source": [
        "# Alterando tipo string para date com o comando .withColumn passando como paramentro to_timestamp(Fun.col('coluna'), 'yyyy-MM-dd')\n",
        "# convertendo para date  \n",
        "despachantes2 = despachantes2.withColumn('data', to_timestamp(Fun.col('data'), 'yyyy-MM-dd'))\n",
        "despachantes2.schema  "
      ],
      "metadata": {
        "colab": {
          "base_uri": "https://localhost:8080/"
        },
        "id": "FGo96Vs2g2CI",
        "outputId": "3432c4da-3e64-47e2-946b-1beca9e79a11"
      },
      "execution_count": 67,
      "outputs": [
        {
          "output_type": "execute_result",
          "data": {
            "text/plain": [
              "StructType(List(StructField(id,IntegerType,true),StructField(nome,StringType,true),StructField(status,StringType,true),StructField(cidade,StringType,true),StructField(vendas,IntegerType,true),StructField(data,TimestampType,true)))"
            ]
          },
          "metadata": {},
          "execution_count": 67
        }
      ]
    },
    {
      "cell_type": "code",
      "source": [
        "# Praticando distinct\n",
        "despachantes2.select(year('data')).distinct().show()"
      ],
      "metadata": {
        "colab": {
          "base_uri": "https://localhost:8080/"
        },
        "id": "yrZn6dfmvb-l",
        "outputId": "6e510964-8746-47d6-d2db-b4e9d3e5f428"
      },
      "execution_count": 88,
      "outputs": [
        {
          "output_type": "stream",
          "name": "stdout",
          "text": [
            "+----------+\n",
            "|year(data)|\n",
            "+----------+\n",
            "|      2018|\n",
            "|      2019|\n",
            "|      2020|\n",
            "+----------+\n",
            "\n"
          ]
        }
      ]
    },
    {
      "cell_type": "code",
      "source": [
        "# Praticando orderBy\n",
        "despachantes2.select('nome',year('data')).orderBy('nome').show()"
      ],
      "metadata": {
        "colab": {
          "base_uri": "https://localhost:8080/"
        },
        "id": "bf2bLnqbv06S",
        "outputId": "52d2fd1c-10f9-4ee9-a3e0-ec4d4b896197"
      },
      "execution_count": 89,
      "outputs": [
        {
          "output_type": "stream",
          "name": "stdout",
          "text": [
            "+-------------------+----------+\n",
            "|               nome|year(data)|\n",
            "+-------------------+----------+\n",
            "|   Carminda Pestana|      2020|\n",
            "|    Deolinda Vilela|      2020|\n",
            "|   Emídio Dornelles|      2020|\n",
            "|Felisbela Dornelles|      2020|\n",
            "|     Graça Ornellas|      2020|\n",
            "|   Matilde Rebouças|      2019|\n",
            "|    Noêmia   Orriça|      2019|\n",
            "|      Roque Vásquez|      2020|\n",
            "|      Uriel Queiroz|      2018|\n",
            "|   Viviana Sequeira|      2020|\n",
            "+-------------------+----------+\n",
            "\n"
          ]
        }
      ]
    },
    {
      "cell_type": "code",
      "source": [
        "# Praticando groupBY com count\n",
        "despachantes2.select('data').groupBy(year('data')).count().show()"
      ],
      "metadata": {
        "colab": {
          "base_uri": "https://localhost:8080/"
        },
        "id": "zHJjq9bOxMV3",
        "outputId": "d31e2b13-1e9f-47e9-baa4-b9287b2ce4cb"
      },
      "execution_count": 90,
      "outputs": [
        {
          "output_type": "stream",
          "name": "stdout",
          "text": [
            "+----------+-----+\n",
            "|year(data)|count|\n",
            "+----------+-----+\n",
            "|      2018|    1|\n",
            "|      2019|    2|\n",
            "|      2020|    7|\n",
            "+----------+-----+\n",
            "\n"
          ]
        }
      ]
    },
    {
      "cell_type": "code",
      "source": [
        "# Praticando sum\n",
        "despachantes2.select(Fun.sum('vendas')).show()"
      ],
      "metadata": {
        "colab": {
          "base_uri": "https://localhost:8080/"
        },
        "id": "5kRcydBTxwJp",
        "outputId": "5a3813b4-66cb-4504-bac9-3dbe641ab6cf"
      },
      "execution_count": 91,
      "outputs": [
        {
          "output_type": "stream",
          "name": "stdout",
          "text": [
            "+-----------+\n",
            "|sum(vendas)|\n",
            "+-----------+\n",
            "|        325|\n",
            "+-----------+\n",
            "\n"
          ]
        }
      ]
    }
  ]
}